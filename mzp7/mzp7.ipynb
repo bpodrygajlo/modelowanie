{
 "cells": [
  {
   "cell_type": "code",
   "execution_count": 3,
   "metadata": {
    "collapsed": false
   },
   "outputs": [],
   "source": [
    "import numpy as np\n",
    "import matplotlib.pyplot as plt"
   ]
  },
  {
   "cell_type": "code",
   "execution_count": 4,
   "metadata": {
    "collapsed": true
   },
   "outputs": [],
   "source": [
    "from __future__ import division"
   ]
  },
  {
   "cell_type": "code",
   "execution_count": 5,
   "metadata": {
    "collapsed": true
   },
   "outputs": [],
   "source": [
    "# form mzp6.ipnyb\n",
    "class SystemSolver():\n",
    "    def __init__(self,updates = None):\n",
    "        if isinstance(updates,list):\n",
    "            max_len = max([len(x) for x in updates])\n",
    "            [x.extend([0]*(max_len-len(x))) for x in updates]\n",
    "            self.updates = np.asarray(updates, dtype = np.float64)\n",
    "        else:\n",
    "            self.updates = updates\n",
    "        \n",
    "    @property\n",
    "    def update_count(self):\n",
    "        return min(self.updates.shape)-1\n",
    "    \n",
    "    def __call__(self,tn,yn,functions,h):\n",
    "        k = np.zeros(shape=(self.update_count,len(functions)))\n",
    "        for i in range(self.update_count):\n",
    "            a = self.updates[i,0]\n",
    "            b = self.updates[i,1:]\n",
    "            upd = np.sum(b[:,np.newaxis]*k,axis = 0)\n",
    "            for j in range(len(functions)):\n",
    "                k[i,j]= h * functions[j](tn+a*h, yn+upd)\n",
    "        c = self.updates[self.update_count,1:]\n",
    "        if self.updates.shape[0]>self.updates.shape[1]:\n",
    "            c_= self.updates[self.update_count+1,1:]\n",
    "            return np.sum(c[:,np.newaxis]*k, axis = 0), np.sum(c_[:,np.newaxis]*k, axis = 0)\n",
    "        return np.sum(c[:,np.newaxis]*k, axis = 0)"
   ]
  },
  {
   "cell_type": "code",
   "execution_count": 6,
   "metadata": {
    "collapsed": true
   },
   "outputs": [],
   "source": [
    "def get_spring(start,end,count,size = 1.):\n",
    "    start = np.asarray(start)\n",
    "    end = np.asarray(end)\n",
    "    length = np.sqrt(np.sum((end-start)**2))\n",
    "    flat_space = length/6.\n",
    "    x = np.linspace(flat_space,length-flat_space,count*4+1)\n",
    "    length_needed = 2*np.pi*count \n",
    "    s = size*np.sin((length_needed/(length-flat_space*2))*x)\n",
    "    rotations = (end-start)/length\n",
    "    rotation_matrix = np.array([[rotations[0],-rotations[1]],[rotations[1],rotations[0]]])\n",
    "    first_flat = np.array([[0],[0]])\n",
    "    second_flat = np.array([[length],[0]])\n",
    "    return rotation_matrix.dot(np.hstack((first_flat, np.array([x,s]), second_flat))) + start[:,np.newaxis]"
   ]
  },
  {
   "cell_type": "code",
   "execution_count": 7,
   "metadata": {
    "collapsed": false
   },
   "outputs": [],
   "source": [
    "fehlberg_4_5 = SystemSolver([[0],\n",
    "                            [1/4,1/4],\n",
    "                            [3/8,3/32,9/32],\n",
    "                            [12/13,1932/2197,-7200/2197,7296/2197],\n",
    "                            [1,439/216,-8,3680/513,-845/4104],\n",
    "                            [1/2,-8/27,2,-3544/2565,1859/4104,-11/40],\n",
    "                            [0,25/216,0,1408/2565,2197/4104,-1/5,0],\n",
    "                            [0,16/135,0,6656/12825,28561/56430,-9/50,2/55]])\n",
    "fehlberg_4_5.ranks = (4,5)"
   ]
  },
  {
   "cell_type": "code",
   "execution_count": 51,
   "metadata": {
    "collapsed": false
   },
   "outputs": [],
   "source": [
    "def spring_pendulum(method, y_0s, approx, step = 0.1, filename = None):\n",
    "    import matplotlib.animation as animation\n",
    "    \n",
    "    fig = plt.figure(figsize=(5,5))\n",
    "    ax = fig.add_subplot(111)\n",
    "    ax.grid()\n",
    "    plt.ylim(-20,20)\n",
    "    plt.xlim(-20,20)\n",
    "\n",
    "    line, = ax.plot([], [], '-', lw=2)\n",
    "    line2, = ax.plot([0],[0], '--', lw=1)\n",
    "    \n",
    "    time_template = 'time = %.1fs'\n",
    "    time_text = ax.text(0.05, 0.9, '', transform=ax.transAxes)\n",
    "    \n",
    "    mass, = ax.plot([],[], marker='o', markersize = 10.)\n",
    "    \n",
    "    old_x = []\n",
    "    old_y = []\n",
    "    def init():\n",
    "        global Y\n",
    "        Y = y_0s\n",
    "        line.set_data([],[])\n",
    "        line2.set_data([],[])\n",
    "        time_text.set_text('')\n",
    "        \n",
    "        mass.set_data([],[])\n",
    "        \n",
    "        return line, line2, time_text, mass\n",
    "    def animate(t):\n",
    "        global Y,L\n",
    "        y_1, y_2 = method(tn=t*step,yn=Y,functions=approx,h=step)\n",
    "        Y += y_2\n",
    "        new_x = (L+Y[0])*np.sin(Y[2])\n",
    "        new_y = -(L+Y[0])*np.cos(Y[2])\n",
    "        spring = get_spring([0.,0.],[new_x,new_y],6)\n",
    "        line.set_data(spring[0],spring[1])\n",
    "        old_x.append(new_x)\n",
    "        old_y.append(new_y)\n",
    "        line2.set_data(old_x,old_y)\n",
    "        mass.set_data([new_x],[new_y])\n",
    "\n",
    "        time_text.set_text(time_template % (t*step))\n",
    "        return line, line2, time_text, mass\n",
    "    \n",
    "    ani = animation.FuncAnimation(fig, animate, np.arange(400),\n",
    "                              interval=25, blit=True, init_func=init)\n",
    "\n",
    "    if filename:\n",
    "        ani.save(filename + '.mp4', fps=30)\n",
    "    plt.show()"
   ]
  },
  {
   "cell_type": "markdown",
   "metadata": {},
   "source": [
    "Ustawienie wartości globalnych"
   ]
  },
  {
   "cell_type": "code",
   "execution_count": 10,
   "metadata": {
    "collapsed": true
   },
   "outputs": [],
   "source": [
    "Y = np.zeros(shape=(4,))"
   ]
  },
  {
   "cell_type": "markdown",
   "metadata": {},
   "source": [
    "Zagadnienie poczatkowe"
   ]
  },
  {
   "cell_type": "code",
   "execution_count": 11,
   "metadata": {
    "collapsed": true
   },
   "outputs": [],
   "source": [
    "x_0 = 0.\n",
    "v_0 = 0.\n",
    "theta_0 = 2.\n",
    "omega_0 = 0."
   ]
  },
  {
   "cell_type": "markdown",
   "metadata": {},
   "source": [
    "Dane wahadła"
   ]
  },
  {
   "cell_type": "code",
   "execution_count": 66,
   "metadata": {
    "collapsed": true
   },
   "outputs": [],
   "source": [
    "L = 7.\n",
    "m = 2.\n",
    "g = 9.81\n",
    "k = 20."
   ]
  },
  {
   "cell_type": "markdown",
   "metadata": {},
   "source": [
    "Rownania"
   ]
  },
  {
   "cell_type": "code",
   "execution_count": 13,
   "metadata": {
    "collapsed": true
   },
   "outputs": [],
   "source": [
    "functions = [lambda t,ys: ys[1],\n",
    "          lambda t,ys: (L+ys[0])*(ys[3])**2+m*g*np.cos(ys[2])-k*ys[0]/m,\n",
    "          lambda t,ys: ys[3],\n",
    "          lambda t,ys: (-2*ys[1]*ys[3]-g*np.sin(ys[2]))/(L+ys[0])]"
   ]
  },
  {
   "cell_type": "code",
   "execution_count": 27,
   "metadata": {
    "collapsed": true
   },
   "outputs": [],
   "source": [
    "# form mzp6.ipnyb\n",
    "def draw_system(method, t_0, y_0s, approx, exact = None, labels=None, step = 0.1):\n",
    "    count = np.ceil(10.0/step)\n",
    "    X = np.linspace(t_0,t_0+10,count)\n",
    "    Y = np.zeros(shape=(len(approx),X.shape[0]))\n",
    "    if exact:\n",
    "        RY = np.asarray([y(X) if y is not None else None for y in exact])\n",
    "    Y[:,0] = np.asarray(y_0s)\n",
    "    \n",
    "    for i in np.arange(1,count):\n",
    "        Y_updates = method(tn=X[i-1],yn=Y[:,i-1],functions=approx,h=step)\n",
    "        if isinstance(Y_updates,tuple):\n",
    "            Y[:,i] = Y[:,i-1] + Y_updates[1]\n",
    "        else:\n",
    "            Y[:,i] = Y[:,i-1] + Y_updates\n",
    "    \n",
    "    figure_count = len(approx)\n",
    "    if exact:\n",
    "        figure_count += len(filter(lambda x: x is not None,exact))\n",
    "    figure = 1\n",
    "    plt.figure(figsize = (9,figure_count*3))\n",
    "    for i in range(len(approx)):\n",
    "        ax = plt.subplot(figure_count,1,figure)\n",
    "        if labels and labels[i]:\n",
    "            ax.set_title(labels[i])\n",
    "        plt.plot(X,Y[i], color = 'blue', label ='Approx')\n",
    "        if exact and exact[i]:\n",
    "            plt.plot(X,RY[i], color = 'red', linestyle='--', label='Exact')\n",
    "        plt.legend(loc = 'upper left')\n",
    "        figure += 1\n",
    "\n",
    "        if exact and exact[i]:\n",
    "            plt.subplot(figure_count,1,figure)\n",
    "            plt.plot(X,np.abs(RY[i]-Y[i]), color = 'blue', label= 'Global error')\n",
    "            plt.legend(loc = 'upper left')\n",
    "            figure+=1\n",
    "            \n",
    "    plt.show()"
   ]
  },
  {
   "cell_type": "code",
   "execution_count": 15,
   "metadata": {
    "collapsed": false
   },
   "outputs": [],
   "source": [
    "draw_system(fehlberg_4_5, 0., y_0s=[x_0,v_0,theta_0,omega_0], approx = functions, labels = [\"x(t)\",\"v(t)\",\"Theta(t)\",\"Omega(t)\"])"
   ]
  },
  {
   "cell_type": "code",
   "execution_count": 52,
   "metadata": {
    "collapsed": false
   },
   "outputs": [],
   "source": [
    "spring_pendulum(method=fehlberg_4_5,\n",
    "               y_0s=[x_0,v_0,theta_0,omega_0],\n",
    "               approx= functions,\n",
    "               step=0.05,\n",
    "               filename = 'spring_3')"
   ]
  },
  {
   "cell_type": "code",
   "execution_count": 61,
   "metadata": {
    "collapsed": true
   },
   "outputs": [],
   "source": [
    "x_0 = 0.\n",
    "v_0 = -30.\n",
    "theta_0 = .2\n",
    "omega_0 = 5."
   ]
  },
  {
   "cell_type": "code",
   "execution_count": 68,
   "metadata": {
    "collapsed": false
   },
   "outputs": [],
   "source": [
    "spring_pendulum(method=fehlberg_4_5,\n",
    "               y_0s=[x_0,v_0,theta_0,omega_0],\n",
    "               approx= functions,\n",
    "               step=0.05,\n",
    "               filename = 'spring_5')"
   ]
  },
  {
   "cell_type": "code",
   "execution_count": 79,
   "metadata": {
    "collapsed": true
   },
   "outputs": [],
   "source": [
    "x_0 = -5.\n",
    "v_0 = 0.\n",
    "theta_0 = 3.12\n",
    "omega_0 = 0."
   ]
  },
  {
   "cell_type": "code",
   "execution_count": null,
   "metadata": {
    "collapsed": false
   },
   "outputs": [],
   "source": [
    "spring_pendulum(method=fehlberg_4_5,\n",
    "               y_0s=[x_0,v_0,theta_0,omega_0],\n",
    "               approx= functions,\n",
    "               step=0.05)"
   ]
  },
  {
   "cell_type": "markdown",
   "metadata": {},
   "source": [
    "Wahadło podwójne"
   ]
  },
  {
   "cell_type": "code",
   "execution_count": 222,
   "metadata": {
    "collapsed": true
   },
   "outputs": [],
   "source": [
    "Y = np.zeros(shape=(4,))"
   ]
  },
  {
   "cell_type": "markdown",
   "metadata": {},
   "source": [
    "Zagadnienie poczatkowe"
   ]
  },
  {
   "cell_type": "code",
   "execution_count": 221,
   "metadata": {
    "collapsed": true
   },
   "outputs": [],
   "source": [
    "theta_1_0 = 0.\n",
    "omega_1_0 = 0.\n",
    "theta_2_0 = 2.\n",
    "omega_2_0 = 0."
   ]
  },
  {
   "cell_type": "markdown",
   "metadata": {},
   "source": [
    "Dane wahadła"
   ]
  },
  {
   "cell_type": "code",
   "execution_count": 223,
   "metadata": {
    "collapsed": true
   },
   "outputs": [],
   "source": [
    "L_1 = 10.\n",
    "L_2 = 5.\n",
    "m_1 = 2.\n",
    "m_2 = 1."
   ]
  },
  {
   "cell_type": "markdown",
   "metadata": {},
   "source": [
    "Równania"
   ]
  },
  {
   "cell_type": "code",
   "execution_count": 229,
   "metadata": {
    "collapsed": false
   },
   "outputs": [],
   "source": [
    "functions = [\n",
    "    lambda t,ys: ys[1],\n",
    "    lambda t,ys: (-m_2*L_1*ys[1]**2*np.sin(ys[0]-ys[2])*np.cos(ys[0]-ys[2]) + \\\n",
    "                  g*m_2*np.sin(ys[2])*np.cos(ys[0]-ys[2]) - \\\n",
    "                  m_2*L_2*ys[3]**2*np.sin(ys[0]-ys[2]) - \\\n",
    "                  (m_1+m_2)*g*np.sin(ys[0])) / \\\n",
    "    (L_1*(m_1+m_2) - m_2*L_1*np.cos(ys[0]-ys[2])**2),\n",
    "    lambda t,ys: ys[3],\n",
    "    lambda t,ys: (m_2*L_2*ys[3]**2*np.sin(ys[0]-ys[2])*np.cos(ys[0]-ys[2]) + \\\n",
    "                 g*np.sin(ys[0])*np.cos(ys[0]-ys[2])*(m_1+m_2) + \\\n",
    "                  L_1*ys[1]**2*np.sin(ys[0]-ys[2])*(m_1+m_2) - \\\n",
    "                  g*np.sin(ys[2])*(m_1+m_2)) / \\\n",
    "    (L_2*(m_1+m_2) - m_2*L_2*np.cos(ys[0]-ys[2])**2)\n",
    "]"
   ]
  },
  {
   "cell_type": "code",
   "execution_count": 233,
   "metadata": {
    "collapsed": false
   },
   "outputs": [],
   "source": [
    "draw_system(fehlberg_4_5,\n",
    "            0.,\n",
    "            y_0s=[theta_1_0,omega_1_0,theta_2_0,omega_2_0],\n",
    "            approx = functions,\n",
    "            labels = [\"Theta_1(t)\",\"Omega_1(t)\",\"Theta_2(t)\",\"Omega_2(t)\"])"
   ]
  },
  {
   "cell_type": "code",
   "execution_count": 242,
   "metadata": {
    "collapsed": true
   },
   "outputs": [],
   "source": [
    "def double_pendulum(method, y_0s, approx, step = 0.1, saving = False):\n",
    "    import matplotlib.animation as animation\n",
    "    \n",
    "    fig = plt.figure(figsize=(5,5))\n",
    "    ax = fig.add_subplot(111)\n",
    "    ax.grid()\n",
    "    plt.ylim(-20,20)\n",
    "    plt.xlim(-20,20)\n",
    "\n",
    "    line, = ax.plot([], [], 'o-', lw=2)\n",
    "    line2, = ax.plot([0],[0], '--', lw=1)\n",
    "    time_template = 'time = %.1fs'\n",
    "    time_text = ax.text(0.05, 0.9, '', transform=ax.transAxes)\n",
    "    old_x = []\n",
    "    old_y = []\n",
    "    def init():\n",
    "        global Y\n",
    "        Y = y_0s\n",
    "        line.set_data([],[])\n",
    "        line2.set_data([],[])\n",
    "        time_text.set_text('')\n",
    "        \n",
    "        return line, line2, time_text\n",
    "    \n",
    "    def animate(t):\n",
    "        global Y,L_1,L_2\n",
    "        y_1, y_2 = method(tn=t*step,yn=Y,functions=approx,h=step)\n",
    "        Y += y_2\n",
    "        new_x_1 = (L_1)*np.sin(Y[0])\n",
    "        new_y_1 = -(L_1)*np.cos(Y[0])\n",
    "        new_x_2 = new_x_1 + (L_2)*np.sin(Y[2])\n",
    "        new_y_2 = new_y_1 -(L_2)*np.cos(Y[2])\n",
    "        line.set_data([0.0,new_x_1,new_x_2],[0.0,new_y_1,new_y_2])\n",
    "        old_x.append(new_x_2)\n",
    "        old_y.append(new_y_2)\n",
    "        line2.set_data(old_x,old_y)\n",
    "\n",
    "        time_text.set_text(time_template % (t*step))\n",
    "        return line, line2, time_text\n",
    "    \n",
    "    ani = animation.FuncAnimation(fig, animate, np.arange(400),\n",
    "                              interval=25, blit=True, init_func=init)\n",
    "\n",
    "    if saving:\n",
    "        ani.save('pendulum.mp4', fps=30)\n",
    "    plt.show()"
   ]
  },
  {
   "cell_type": "code",
   "execution_count": 244,
   "metadata": {
    "collapsed": false
   },
   "outputs": [],
   "source": [
    "double_pendulum(method=fehlberg_4_5,\n",
    "               y_0s=[theta_1_0,omega_1_0,theta_2_0,omega_2_0],\n",
    "               approx= functions,\n",
    "               step=0.05)"
   ]
  },
  {
   "cell_type": "code",
   "execution_count": 257,
   "metadata": {
    "collapsed": true
   },
   "outputs": [],
   "source": [
    "theta_1_0 = 3.\n",
    "omega_1_0 = 0.\n",
    "theta_2_0 = 0.\n",
    "omega_2_0 = 0."
   ]
  },
  {
   "cell_type": "code",
   "execution_count": 256,
   "metadata": {
    "collapsed": true
   },
   "outputs": [],
   "source": [
    "double_pendulum(method=fehlberg_4_5,\n",
    "               y_0s=[theta_1_0,omega_1_0,theta_2_0,omega_2_0],\n",
    "               approx= functions,\n",
    "               step=0.05)"
   ]
  },
  {
   "cell_type": "code",
   "execution_count": 254,
   "metadata": {
    "collapsed": true
   },
   "outputs": [],
   "source": [
    "theta_1_0 = 3.\n",
    "omega_1_0 = 0.\n",
    "theta_2_0 = 0.\n",
    "omega_2_0 = 10."
   ]
  },
  {
   "cell_type": "code",
   "execution_count": 258,
   "metadata": {
    "collapsed": false
   },
   "outputs": [],
   "source": [
    "double_pendulum(method=fehlberg_4_5,\n",
    "               y_0s=[theta_1_0,omega_1_0,theta_2_0,omega_2_0],\n",
    "               approx= functions,\n",
    "               step=0.05,\n",
    "               saving = True)"
   ]
  }
 ],
 "metadata": {
  "kernelspec": {
   "display_name": "Python 2",
   "language": "python",
   "name": "python2"
  },
  "language_info": {
   "codemirror_mode": {
    "name": "ipython",
    "version": 2
   },
   "file_extension": ".py",
   "mimetype": "text/x-python",
   "name": "python",
   "nbconvert_exporter": "python",
   "pygments_lexer": "ipython2",
   "version": "2.7.11"
  }
 },
 "nbformat": 4,
 "nbformat_minor": 0
}
