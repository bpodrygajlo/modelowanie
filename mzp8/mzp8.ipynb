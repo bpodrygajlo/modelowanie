{
 "cells": [
  {
   "cell_type": "code",
   "execution_count": 62,
   "metadata": {
    "collapsed": true
   },
   "outputs": [],
   "source": [
    "import numpy as np\n",
    "import matplotlib.pyplot as plt\n",
    "from __future__ import division"
   ]
  },
  {
   "cell_type": "code",
   "execution_count": 2,
   "metadata": {
    "collapsed": true
   },
   "outputs": [],
   "source": [
    "# form mzp6.ipnyb\n",
    "def draw_system(method, t_0, y_0s, approx, exact = None, labels=None, step = 0.1):\n",
    "    count = np.ceil(10.0/step)\n",
    "    X = np.linspace(t_0,t_0+10,count)\n",
    "    Y = np.zeros(shape=(len(approx),X.shape[0]))\n",
    "    if exact:\n",
    "        RY = np.asarray([y(X) if y is not None else None for y in exact])\n",
    "    Y[:,0] = np.asarray(y_0s)\n",
    "    \n",
    "    for i in np.arange(1,count):\n",
    "        Y_updates = method(tn=X[i-1],yn=Y[:,i-1],functions=approx,h=step)\n",
    "        if isinstance(Y_updates,tuple):\n",
    "            Y[:,i] = Y[:,i-1] + Y_updates[1]\n",
    "        else:\n",
    "            Y[:,i] = Y[:,i-1] + Y_updates\n",
    "    \n",
    "    figure_count = len(approx)\n",
    "    if exact:\n",
    "        figure_count += len(filter(lambda x: x is not None,exact))\n",
    "    figure = 1\n",
    "    plt.figure(figsize = (9,figure_count*3))\n",
    "    for i in range(len(approx)):\n",
    "        ax = plt.subplot(figure_count,1,figure)\n",
    "        if labels and labels[i]:\n",
    "            ax.set_title(labels[i])\n",
    "        plt.plot(X,Y[i], color = 'blue', label ='Approx')\n",
    "        if exact and exact[i]:\n",
    "            plt.plot(X,RY[i], color = 'red', linestyle='--', label='Exact')\n",
    "        plt.legend(loc = 'upper left')\n",
    "        figure += 1\n",
    "\n",
    "        if exact and exact[i]:\n",
    "            plt.subplot(figure_count,1,figure)\n",
    "            plt.plot(X,np.abs(RY[i]-Y[i]), color = 'blue', label= 'Global error')\n",
    "            plt.legend(loc = 'upper left')\n",
    "            figure+=1\n",
    "            \n",
    "    plt.show()"
   ]
  },
  {
   "cell_type": "code",
   "execution_count": 3,
   "metadata": {
    "collapsed": true
   },
   "outputs": [],
   "source": [
    "# form mzp6.ipnyb\n",
    "class SystemSolver():\n",
    "    def __init__(self,updates = None):\n",
    "        if isinstance(updates,list):\n",
    "            max_len = max([len(x) for x in updates])\n",
    "            [x.extend([0]*(max_len-len(x))) for x in updates]\n",
    "            self.updates = np.asarray(updates, dtype = np.float64)\n",
    "        else:\n",
    "            self.updates = updates\n",
    "        \n",
    "    @property\n",
    "    def update_count(self):\n",
    "        return min(self.updates.shape)-1\n",
    "    \n",
    "    def __call__(self,tn,yn,functions,h):\n",
    "        k = np.zeros(shape=(self.update_count,len(functions)))\n",
    "        for i in range(self.update_count):\n",
    "            a = self.updates[i,0]\n",
    "            b = self.updates[i,1:]\n",
    "            upd = np.sum(b[:,np.newaxis]*k,axis = 0)\n",
    "            for j in range(len(functions)):\n",
    "                k[i,j]= h * functions[j](tn+a*h, yn+upd)\n",
    "        c = self.updates[self.update_count,1:]\n",
    "        if self.updates.shape[0]>self.updates.shape[1]:\n",
    "            c_= self.updates[self.update_count+1,1:]\n",
    "            return np.sum(c[:,np.newaxis]*k, axis = 0), np.sum(c_[:,np.newaxis]*k, axis = 0)\n",
    "        return np.sum(c[:,np.newaxis]*k, axis = 0)"
   ]
  },
  {
   "cell_type": "code",
   "execution_count": 4,
   "metadata": {
    "collapsed": true
   },
   "outputs": [],
   "source": [
    "fehlberg_4_5 = SystemSolver([[0],\n",
    "                            [1/4,1/4],\n",
    "                            [3/8,3/32,9/32],\n",
    "                            [12/13,1932/2197,-7200/2197,7296/2197],\n",
    "                            [1,439/216,-8,3680/513,-845/4104],\n",
    "                            [1/2,-8/27,2,-3544/2565,1859/4104,-11/40],\n",
    "                            [0,25/216,0,1408/2565,2197/4104,-1/5,0],\n",
    "                            [0,16/135,0,6656/12825,28561/56430,-9/50,2/55]])\n",
    "fehlberg_4_5.ranks = (4,5)"
   ]
  },
  {
   "cell_type": "code",
   "execution_count": 5,
   "metadata": {
    "collapsed": true
   },
   "outputs": [],
   "source": [
    "def get_spring(start,end,count,size = 1.):\n",
    "    start = np.asarray(start)\n",
    "    end = np.asarray(end)\n",
    "    length = np.sqrt(np.sum((end-start)**2))\n",
    "    flat_space = length/6.\n",
    "    x = np.linspace(flat_space,length-flat_space,count*4+1)\n",
    "    length_needed = 2*np.pi*count \n",
    "    s = size*np.sin((length_needed/(length-flat_space*2))*x)\n",
    "    rotations = (end-start)/length\n",
    "    rotation_matrix = np.array([[rotations[0],-rotations[1]],[rotations[1],rotations[0]]])\n",
    "    first_flat = np.array([[0],[0]])\n",
    "    second_flat = np.array([[length],[0]])\n",
    "    return rotation_matrix.dot(np.hstack((first_flat, np.array([x,s]), second_flat))) + start[:,np.newaxis]"
   ]
  },
  {
   "cell_type": "markdown",
   "metadata": {},
   "source": [
    "Dwie spreżyny"
   ]
  },
  {
   "cell_type": "code",
   "execution_count": 6,
   "metadata": {
    "collapsed": true
   },
   "outputs": [],
   "source": [
    "k_1 = 4\n",
    "k_2 = 10\n",
    "L = 3\n",
    "m = 3"
   ]
  },
  {
   "cell_type": "code",
   "execution_count": 7,
   "metadata": {
    "collapsed": true
   },
   "outputs": [],
   "source": [
    "x_0 = 0\n",
    "v_0 = 3"
   ]
  },
  {
   "cell_type": "code",
   "execution_count": 8,
   "metadata": {
    "collapsed": true
   },
   "outputs": [],
   "source": [
    "functions = [\n",
    "    lambda t,ys: ys[1],\n",
    "    lambda t,ys: (k_1 - k_2)/m*ys[0]\n",
    "]"
   ]
  },
  {
   "cell_type": "code",
   "execution_count": 9,
   "metadata": {
    "collapsed": true
   },
   "outputs": [],
   "source": [
    "draw_system(fehlberg_4_5,\n",
    "            0.,\n",
    "            y_0s=[x_0,v_0],\n",
    "            approx = functions,\n",
    "            labels = [\"x(t)\",\"v(t)\"])"
   ]
  },
  {
   "cell_type": "code",
   "execution_count": 10,
   "metadata": {
    "collapsed": true
   },
   "outputs": [],
   "source": [
    "Y = np.zeros(shape=(2,))"
   ]
  },
  {
   "cell_type": "code",
   "execution_count": 11,
   "metadata": {
    "collapsed": true
   },
   "outputs": [],
   "source": [
    "def double_spring(method, y_0s, approx, step = 0.1, filename = None):\n",
    "    import matplotlib.animation as animation\n",
    "    \n",
    "    fig = plt.figure(figsize=(5,5))\n",
    "    ax = fig.add_subplot(111)\n",
    "    ax.grid()\n",
    "    plt.ylim(-20,20)\n",
    "    plt.xlim(-20,20)\n",
    "\n",
    "    spring1, = ax.plot([],[])\n",
    "    spring2, = ax.plot([],[])\n",
    "    \n",
    "    time_template = 'time = %.1fs'\n",
    "    time_text = ax.text(0.05, 0.9, '', transform=ax.transAxes)\n",
    "    \n",
    "    mass, = ax.plot([],[], marker='o', markersize = 10.)\n",
    "    \n",
    "    def init():\n",
    "        global Y\n",
    "        Y = y_0s\n",
    "        spring1.set_data([],[])\n",
    "        spring2.set_data([],[])\n",
    "        time_text.set_text('')\n",
    "        mass.set_data([],[])\n",
    "        \n",
    "        return spring1, spring2, time_text, mass\n",
    "    \n",
    "    def animate(t):\n",
    "        global Y\n",
    "        y_1, y_2 = method(tn=t*step,yn=Y,functions=approx,h=step)\n",
    "        Y += y_2\n",
    "        new_x = Y[0]\n",
    "        spring = get_spring([-10,0],[new_x,0],6)\n",
    "        spring1.set_data(spring[0],spring[1])\n",
    "        spring = get_spring([new_x,0],[10,0],6)\n",
    "        spring2.set_data(spring[0],spring[1])\n",
    "        mass.set_data([new_x],[0])\n",
    "\n",
    "        time_text.set_text(time_template % (t*step))\n",
    "        return spring1, spring2, time_text, mass\n",
    "    \n",
    "    ani = animation.FuncAnimation(fig, animate, np.arange(400),\n",
    "                              interval=25, blit=True, init_func=init)\n",
    "\n",
    "    if filename:\n",
    "        ani.save(filename + '.mp4', fps=30)\n",
    "    plt.show()"
   ]
  },
  {
   "cell_type": "code",
   "execution_count": 12,
   "metadata": {
    "collapsed": true
   },
   "outputs": [],
   "source": [
    "k_1 = 5\n",
    "k_2 = 10\n",
    "L = 3\n",
    "m = 3"
   ]
  },
  {
   "cell_type": "code",
   "execution_count": 13,
   "metadata": {
    "collapsed": true
   },
   "outputs": [],
   "source": [
    "x_0 = 2\n",
    "v_0 = 3"
   ]
  },
  {
   "cell_type": "code",
   "execution_count": 14,
   "metadata": {
    "collapsed": false
   },
   "outputs": [],
   "source": [
    "double_spring(method=fehlberg_4_5,\n",
    "               y_0s=[x_0,v_0],\n",
    "               approx= functions,\n",
    "               step=0.05)"
   ]
  },
  {
   "cell_type": "code",
   "execution_count": 15,
   "metadata": {
    "collapsed": false
   },
   "outputs": [],
   "source": [
    "def triple_spring(method, y_0s, approx, step = 0.1, filename = None):\n",
    "    import matplotlib.animation as animation\n",
    "    \n",
    "    fig = plt.figure(figsize=(5,5))\n",
    "    ax = fig.add_subplot(111)\n",
    "    ax.grid()\n",
    "    plt.ylim(-20,20)\n",
    "    plt.xlim(-20,20)\n",
    "\n",
    "    spring1, = ax.plot([],[])\n",
    "    spring2, = ax.plot([],[])\n",
    "    spring3, = ax.plot([],[])\n",
    "    \n",
    "    time_template = 'time = %.1fs'\n",
    "    time_text = ax.text(0.05, 0.9, '', transform=ax.transAxes)\n",
    "    \n",
    "    mass, = ax.plot([],[], linestyle='None', marker='o', markersize = 10.)\n",
    "    \n",
    "    points = (-15,-5,5,15)\n",
    "    \n",
    "    def init():\n",
    "        global Y\n",
    "        Y = y_0s\n",
    "        spring1.set_data([],[])\n",
    "        spring2.set_data([],[])\n",
    "        spring3.set_data([],[])\n",
    "        time_text.set_text('')\n",
    "        mass.set_data([],[])\n",
    "        \n",
    "        return spring1, spring2, spring3, time_text, mass\n",
    "    \n",
    "    def animate(t):\n",
    "        global Y\n",
    "        y_1, y_2 = method(tn=t*step,yn=Y,functions=approx,h=step)\n",
    "        Y += y_2\n",
    "        fixed_1 = points[0]\n",
    "        mass_1 = points[1]+Y[0]\n",
    "        mass_2 = points[2]+Y[2]\n",
    "        fixed_2 = points[3]\n",
    "        \n",
    "        spring = get_spring([fixed_1,0],[mass_1,0],6)\n",
    "        spring1.set_data(spring[0],spring[1])\n",
    "        \n",
    "        spring = get_spring([mass_1,0],[mass_2,0],6)\n",
    "        spring2.set_data(spring[0],spring[1])\n",
    "        \n",
    "        spring = get_spring([mass_2,0],[fixed_2,0],6)\n",
    "        spring3.set_data(spring[0],spring[1])\n",
    "        \n",
    "        mass.set_data([mass_1,mass_2],[0,0])\n",
    "\n",
    "        time_text.set_text(time_template % (t*step))\n",
    "        return spring1, spring2, spring3, time_text, mass\n",
    "    \n",
    "    ani = animation.FuncAnimation(fig, animate, np.arange(400),\n",
    "                              interval=25, blit=True, init_func=init)\n",
    "\n",
    "    if filename:\n",
    "        ani.save(filename + '.mp4', fps=30)\n",
    "    plt.show()"
   ]
  },
  {
   "cell_type": "code",
   "execution_count": 16,
   "metadata": {
    "collapsed": false
   },
   "outputs": [],
   "source": [
    "functions = [\n",
    "    lambda t,ys: ys[1],\n",
    "    lambda t,ys: (k_1*ys[0]+k_2*(ys[0]-ys[2]))/-m_1,\n",
    "    lambda t,ys: ys[3],\n",
    "    lambda t,ys: (k_3*ys[2]+k_2*(ys[2]-ys[0]))/-m_2\n",
    "]"
   ]
  },
  {
   "cell_type": "code",
   "execution_count": 17,
   "metadata": {
    "collapsed": true
   },
   "outputs": [],
   "source": [
    "k_1 = 2\n",
    "k_2 = 2\n",
    "k_3 = 2\n",
    "m_1 = .2\n",
    "m_2 = .2"
   ]
  },
  {
   "cell_type": "code",
   "execution_count": 18,
   "metadata": {
    "collapsed": true
   },
   "outputs": [],
   "source": [
    "x_1_0 = 3\n",
    "v_1_0 = 0\n",
    "x_2_0 = 0\n",
    "v_2_0 = 0"
   ]
  },
  {
   "cell_type": "code",
   "execution_count": 19,
   "metadata": {
    "collapsed": false
   },
   "outputs": [],
   "source": [
    "draw_system(fehlberg_4_5,\n",
    "            0.,\n",
    "            y_0s=[x_1_0,v_1_0,x_2_0,v_2_0],\n",
    "            approx = functions,\n",
    "            labels = [\"x_1(t)\",\"v_1(t)\",\"x_2(t)\",\"v_2(t)\"])"
   ]
  },
  {
   "cell_type": "code",
   "execution_count": 20,
   "metadata": {
    "collapsed": false
   },
   "outputs": [],
   "source": [
    "triple_spring(method=fehlberg_4_5,\n",
    "              y_0s=[x_1_0,v_1_0,x_2_0,v_2_0],\n",
    "              approx= functions,\n",
    "              step=0.05)"
   ]
  },
  {
   "cell_type": "markdown",
   "metadata": {},
   "source": [
    "Z oporami ($\\psi(v)$) zależnymi od prędkości"
   ]
  },
  {
   "cell_type": "markdown",
   "metadata": {},
   "source": [
    "$\\psi(v) = c  v$"
   ]
  },
  {
   "cell_type": "code",
   "execution_count": 21,
   "metadata": {
    "collapsed": true
   },
   "outputs": [],
   "source": [
    "c = 1"
   ]
  },
  {
   "cell_type": "code",
   "execution_count": 22,
   "metadata": {
    "collapsed": true
   },
   "outputs": [],
   "source": [
    "functions = [\n",
    "    lambda t,ys: ys[1],\n",
    "    lambda t,ys: (k_1*ys[0]+k_2*(ys[0]-ys[2]))/-m_1 - c*ys[1],\n",
    "    lambda t,ys: ys[3],\n",
    "    lambda t,ys: (k_3*ys[2]+k_2*(ys[2]-ys[0]))/-m_2 - c*ys[3]\n",
    "]"
   ]
  },
  {
   "cell_type": "code",
   "execution_count": 23,
   "metadata": {
    "collapsed": false
   },
   "outputs": [],
   "source": [
    "triple_spring(method=fehlberg_4_5,\n",
    "              y_0s=[x_1_0,v_1_0,x_2_0,v_2_0],\n",
    "              approx= functions,\n",
    "              step=0.05)"
   ]
  },
  {
   "cell_type": "markdown",
   "metadata": {},
   "source": [
    "$\\psi(v) = sgn(v) c  v^2$"
   ]
  },
  {
   "cell_type": "code",
   "execution_count": 24,
   "metadata": {
    "collapsed": true
   },
   "outputs": [],
   "source": [
    "c = 0.1"
   ]
  },
  {
   "cell_type": "code",
   "execution_count": 25,
   "metadata": {
    "collapsed": true
   },
   "outputs": [],
   "source": [
    "x_1_0 = 20\n",
    "v_1_0 = 0\n",
    "x_2_0 = -10\n",
    "v_2_0 = 0"
   ]
  },
  {
   "cell_type": "code",
   "execution_count": 26,
   "metadata": {
    "collapsed": true
   },
   "outputs": [],
   "source": [
    "functions = [\n",
    "    lambda t,ys: ys[1],\n",
    "    lambda t,ys: (k_1*ys[0]+k_2*(ys[0]-ys[2]))/-m_1 - c*np.sign(ys[1])*ys[1]**2,\n",
    "    lambda t,ys: ys[3],\n",
    "    lambda t,ys: (k_3*ys[2]+k_2*(ys[2]-ys[0]))/-m_2 - c*np.sign(ys[3])*ys[3]**2\n",
    "]"
   ]
  },
  {
   "cell_type": "code",
   "execution_count": 27,
   "metadata": {
    "collapsed": false
   },
   "outputs": [],
   "source": [
    "triple_spring(method=fehlberg_4_5,\n",
    "              y_0s=[x_1_0,v_1_0,x_2_0,v_2_0],\n",
    "              approx= functions,\n",
    "              step=0.05)"
   ]
  },
  {
   "cell_type": "markdown",
   "metadata": {},
   "source": [
    "Dwie spręzyny - ruch w dwóch wymiarach"
   ]
  },
  {
   "cell_type": "code",
   "execution_count": 28,
   "metadata": {
    "collapsed": true
   },
   "outputs": [],
   "source": [
    "def double_spring_2d(method, y_0s, approx, step = 0.1, filename = None):\n",
    "    import matplotlib.animation as animation\n",
    "    \n",
    "    fig = plt.figure(figsize=(5,5))\n",
    "    ax = fig.add_subplot(111)\n",
    "    ax.grid()\n",
    "    plt.ylim(-20,20)\n",
    "    plt.xlim(-20,20)\n",
    "\n",
    "    \n",
    "    old_x = []\n",
    "    old_y = []\n",
    "    \n",
    "    history, = ax.plot([],[],linestyle='--')\n",
    "    \n",
    "    spring1, = ax.plot([],[])\n",
    "    spring2, = ax.plot([],[])\n",
    "    \n",
    "    time_template = 'time = %.1fs'\n",
    "    time_text = ax.text(0.05, 0.9, '', transform=ax.transAxes)\n",
    "    \n",
    "    mass, = ax.plot([],[], marker='o', markersize = 10.)\n",
    "    \n",
    "    \n",
    "    \n",
    "    def init():\n",
    "        global Y\n",
    "        Y = y_0s\n",
    "        spring1.set_data([],[])\n",
    "        spring2.set_data([],[])\n",
    "        time_text.set_text('')\n",
    "        mass.set_data([],[])\n",
    "        history.set_data([],[])\n",
    "    \n",
    "        return history, spring1, spring2, time_text, mass\n",
    "    \n",
    "    def animate(t):\n",
    "        global Y\n",
    "        y_1, y_2 = method(tn=t*step,yn=Y,functions=approx,h=step)\n",
    "        Y += y_2\n",
    "        new_x = Y[0]\n",
    "        new_y = Y[2]\n",
    "        old_x.append(new_x)\n",
    "        old_y.append(new_y)\n",
    "        spring = get_spring([-10,0],[new_x,new_y],6)\n",
    "        spring1.set_data(spring[0],spring[1])\n",
    "        spring = get_spring([new_x,new_y],[10,0],6)\n",
    "        spring2.set_data(spring[0],spring[1])\n",
    "        mass.set_data([new_x],[new_y])\n",
    "        history.set_data([old_x],[old_y])\n",
    "\n",
    "        time_text.set_text(time_template % (t*step))\n",
    "        return history, spring1, spring2, time_text, mass\n",
    "    \n",
    "    ani = animation.FuncAnimation(fig, animate, np.arange(400),\n",
    "                              interval=25, blit=True, init_func=init)\n",
    "\n",
    "    if filename:\n",
    "        ani.save(filename + '.mp4', fps=30)\n",
    "    plt.show()"
   ]
  },
  {
   "cell_type": "code",
   "execution_count": 29,
   "metadata": {
    "collapsed": true
   },
   "outputs": [],
   "source": [
    "k = 2\n",
    "L = 10\n",
    "m = 3\n",
    "g = 9.81"
   ]
  },
  {
   "cell_type": "code",
   "execution_count": 30,
   "metadata": {
    "collapsed": true
   },
   "outputs": [],
   "source": [
    "a = lambda ys: np.sqrt((L + ys[0])**2 + ys[2]**2)\n",
    "b = lambda ys: np.sqrt((L - ys[0])**2 + ys[2]**2)\n",
    "functions = [\n",
    "    lambda t,ys: ys[1],\n",
    "    lambda t,ys: ( k * ( (L+ys[0]) *( L - a(ys)) / a(ys) - (L-ys[0])*(L - b(ys)) / b(ys) ) )/m,\n",
    "    lambda t,ys: ys[3],\n",
    "    lambda t,ys: -g + 1/m * ( k* ys[2] * ( ( L - a(ys) ) / a(ys) + (L - b(ys)) / b(ys) ))\n",
    "]"
   ]
  },
  {
   "cell_type": "code",
   "execution_count": 31,
   "metadata": {
    "collapsed": true
   },
   "outputs": [],
   "source": [
    "x_0 = 0\n",
    "v_x_0 = 0\n",
    "y_0 = 0\n",
    "v_y_0 = 0"
   ]
  },
  {
   "cell_type": "code",
   "execution_count": 32,
   "metadata": {
    "collapsed": false
   },
   "outputs": [],
   "source": [
    "draw_system(fehlberg_4_5,\n",
    "            0.,\n",
    "            y_0s=[x_0,v_x_0,y_0,v_y_0],\n",
    "            approx = functions,\n",
    "            labels = [\"x(t)\",\"v_x(t)\",\"y(t)\",\"v_y(t)\"])"
   ]
  },
  {
   "cell_type": "code",
   "execution_count": 33,
   "metadata": {
    "collapsed": false
   },
   "outputs": [],
   "source": [
    "double_spring_2d(method=fehlberg_4_5,\n",
    "              y_0s=[x_0,v_x_0,y_0,v_y_0],\n",
    "              approx= functions,\n",
    "              step=0.05)"
   ]
  },
  {
   "cell_type": "code",
   "execution_count": 34,
   "metadata": {
    "collapsed": true
   },
   "outputs": [],
   "source": [
    "x_0 = 0\n",
    "v_x_0 = 15\n",
    "y_0 = 0\n",
    "v_y_0 = 15"
   ]
  },
  {
   "cell_type": "code",
   "execution_count": 35,
   "metadata": {
    "collapsed": true
   },
   "outputs": [],
   "source": [
    "k = 5"
   ]
  },
  {
   "cell_type": "code",
   "execution_count": 36,
   "metadata": {
    "collapsed": true
   },
   "outputs": [],
   "source": [
    "double_spring_2d(method=fehlberg_4_5,\n",
    "              y_0s=[x_0,v_x_0,y_0,v_y_0],\n",
    "              approx= functions,\n",
    "              step=0.05)"
   ]
  },
  {
   "cell_type": "markdown",
   "metadata": {},
   "source": [
    "Z oporami ruchu"
   ]
  },
  {
   "cell_type": "code",
   "execution_count": 37,
   "metadata": {
    "collapsed": true
   },
   "outputs": [],
   "source": [
    "c = .05"
   ]
  },
  {
   "cell_type": "code",
   "execution_count": 38,
   "metadata": {
    "collapsed": false
   },
   "outputs": [],
   "source": [
    "a = lambda ys: np.sqrt((L + ys[0])**2 + ys[2]**2)\n",
    "b = lambda ys: np.sqrt((L - ys[0])**2 + ys[2]**2)\n",
    "functions = [\n",
    "    lambda t,ys: ys[1],\n",
    "    lambda t,ys: ( k * ( (L+ys[0]) *( L - a(ys)) / a(ys) - (L-ys[0])*(L - b(ys)) / b(ys) ) )/m - np.sign(ys[1]) * c * ys[1]**2,\n",
    "    lambda t,ys: ys[3],\n",
    "    lambda t,ys: -g + 1/m * ( k* ys[2] * ( ( L - a(ys) ) / a(ys) + (L - b(ys)) / b(ys) )) - np.sign(ys[3]) * c * ys[3]**2\n",
    "]"
   ]
  },
  {
   "cell_type": "code",
   "execution_count": 39,
   "metadata": {
    "collapsed": true
   },
   "outputs": [],
   "source": [
    "double_spring_2d(method=fehlberg_4_5,\n",
    "              y_0s=[x_0,v_x_0,y_0,v_y_0],\n",
    "              approx= functions,\n",
    "              step=0.05)"
   ]
  },
  {
   "cell_type": "markdown",
   "metadata": {},
   "source": [
    "System z czterema spręzynami"
   ]
  },
  {
   "cell_type": "code",
   "execution_count": 40,
   "metadata": {
    "collapsed": false
   },
   "outputs": [],
   "source": [
    "def spring_node(method, y_0s, approx, step = 0.1, filename = None):\n",
    "    import matplotlib.animation as animation\n",
    "    \n",
    "    fig = plt.figure(figsize=(5,5))\n",
    "    ax = fig.add_subplot(111)\n",
    "    ax.grid()\n",
    "    plt.ylim(-20,20)\n",
    "    plt.xlim(-20,20)\n",
    "\n",
    "    \n",
    "    old_x = []\n",
    "    old_y = []\n",
    "    \n",
    "    history, = ax.plot([],[],linestyle='--')\n",
    "    \n",
    "    spring1, = ax.plot([],[])\n",
    "    spring2, = ax.plot([],[])\n",
    "    spring3, = ax.plot([],[])\n",
    "    spring4, = ax.plot([],[])\n",
    "    \n",
    "    time_template = 'time = %.1fs'\n",
    "    time_text = ax.text(0.05, 0.9, '', transform=ax.transAxes)\n",
    "    \n",
    "    mass, = ax.plot([],[], marker='o', markersize = 10.)\n",
    "    \n",
    "    \n",
    "    def init():\n",
    "        global Y\n",
    "        Y = y_0s\n",
    "        spring1.set_data([],[])\n",
    "        spring2.set_data([],[])\n",
    "        time_text.set_text('')\n",
    "        mass.set_data([],[])\n",
    "        history.set_data([],[])\n",
    "        spring3.set_data([],[])\n",
    "        spring4.set_data([],[])\n",
    "    \n",
    "        return history, spring1, spring2, spring3, spring4, time_text, mass\n",
    "    \n",
    "    def animate(t):\n",
    "        global Y\n",
    "        y_1, y_2 = method(tn=t*step,yn=Y,functions=approx,h=step)\n",
    "        Y += y_2\n",
    "        new_x = Y[0]\n",
    "        new_y = Y[2]\n",
    "        old_x.append(new_x)\n",
    "        old_y.append(new_y)\n",
    "        spring = get_spring([-10,0],[new_x,new_y],6)\n",
    "        spring1.set_data(spring[0],spring[1])\n",
    "        spring = get_spring([new_x,new_y],[10,0],6)\n",
    "        spring2.set_data(spring[0],spring[1])\n",
    "        spring = get_spring([0,10],[new_x,new_y],6)\n",
    "        spring3.set_data(spring[0],spring[1])\n",
    "        spring = get_spring([new_x,new_y],[0,-10],6)\n",
    "        spring4.set_data(spring[0],spring[1])\n",
    "        mass.set_data([new_x],[new_y])\n",
    "        history.set_data([old_x],[old_y])\n",
    "\n",
    "        time_text.set_text(time_template % (t*step))\n",
    "        return history, spring1, spring2, spring3,spring4, time_text, mass\n",
    "    \n",
    "    ani = animation.FuncAnimation(fig, animate, np.arange(400),\n",
    "                              interval=25, blit=True, init_func=init)\n",
    "\n",
    "    if filename:\n",
    "        ani.save(filename + '.mp4', fps=30)\n",
    "    plt.show()"
   ]
  },
  {
   "cell_type": "code",
   "execution_count": 41,
   "metadata": {
    "collapsed": true
   },
   "outputs": [],
   "source": [
    "c_ = 0.2"
   ]
  },
  {
   "cell_type": "code",
   "execution_count": 42,
   "metadata": {
    "collapsed": true
   },
   "outputs": [],
   "source": [
    "a = lambda ys: np.sqrt((L + ys[0])**2 + ys[2]**2)\n",
    "b = lambda ys: np.sqrt((L - ys[0])**2 + ys[2]**2)\n",
    "c = lambda ys: np.sqrt((ys[0]) + (L + ys[2])**2)\n",
    "d = lambda ys: np.sqrt((ys[0]) + (L - ys[2])**2)\n",
    "functions = [\n",
    "    lambda t,ys: ys[1],\n",
    "    lambda t,ys: ( k * ( (L+ys[0]) *( L - a(ys)) / a(ys) - (L-ys[0])*(L - b(ys)) / b(ys) + \\\n",
    "                   ys[0] *( (L-c(ys))/c(ys) + (L-d(ys))/d(ys) ) ) )/m,\n",
    "    lambda t,ys: ys[3],\n",
    "    lambda t,ys: ( k*  ( (L+ys[2]) *( L - c(ys)) / c(ys) - (L-ys[2])*(L - d(ys)) / d(ys) + \\\n",
    "                   ys[2] *( (L-a(ys))/a(ys) + (L-b(ys))/b(ys) ) ) )/m - g\n",
    "]"
   ]
  },
  {
   "cell_type": "code",
   "execution_count": 134,
   "metadata": {
    "collapsed": true
   },
   "outputs": [],
   "source": [
    "k = 25"
   ]
  },
  {
   "cell_type": "code",
   "execution_count": 44,
   "metadata": {
    "collapsed": true
   },
   "outputs": [],
   "source": [
    "x_0 = 3\n",
    "v_x_0 = 0\n",
    "y_0 = 3\n",
    "v_y_0 = 0"
   ]
  },
  {
   "cell_type": "code",
   "execution_count": 45,
   "metadata": {
    "collapsed": false
   },
   "outputs": [],
   "source": [
    "spring_node(method=fehlberg_4_5,\n",
    "              y_0s=[x_0,v_x_0,y_0,v_y_0],\n",
    "              approx= functions,\n",
    "              step=0.05)"
   ]
  },
  {
   "cell_type": "code",
   "execution_count": 46,
   "metadata": {
    "collapsed": false
   },
   "outputs": [],
   "source": [
    "a = lambda ys: np.sqrt((L + ys[0])**2 + ys[2]**2)\n",
    "b = lambda ys: np.sqrt((L - ys[0])**2 + ys[2]**2)\n",
    "c = lambda ys: np.sqrt((ys[0]) + (L + ys[2])**2)\n",
    "d = lambda ys: np.sqrt((ys[0]) + (L - ys[2])**2)\n",
    "functions = [\n",
    "    lambda t,ys: ys[1],\n",
    "    lambda t,ys: ( k * ( (L+ys[0]) *( L - a(ys)) / a(ys) - (L-ys[0])*(L - b(ys)) / b(ys) + \\\n",
    "                   ys[0] *( (L-c(ys))/c(ys) + (L-d(ys))/d(ys) ) ) )/m - \\\n",
    "                   np.sign(ys[1]) * c_ * ys[1]**2,\n",
    "    lambda t,ys: ys[3],\n",
    "    lambda t,ys: ( k*  ( (L+ys[2]) *( L - c(ys)) / c(ys) - (L-ys[2])*(L - d(ys)) / d(ys) + \\\n",
    "                   ys[2] *( (L-a(ys))/a(ys) + (L-b(ys))/b(ys) ) ) )/m - g - \\\n",
    "                   np.sign(ys[3]) * c_ * ys[3]**2\n",
    "]"
   ]
  },
  {
   "cell_type": "code",
   "execution_count": 47,
   "metadata": {
    "collapsed": true
   },
   "outputs": [],
   "source": [
    "spring_node(method=fehlberg_4_5,\n",
    "              y_0s=[x_0,v_x_0,y_0,v_y_0],\n",
    "              approx= functions,\n",
    "              step=0.05)"
   ]
  },
  {
   "cell_type": "code",
   "execution_count": 122,
   "metadata": {
    "collapsed": false
   },
   "outputs": [
    {
     "name": "stdout",
     "output_type": "stream",
     "text": [
      "[[[ 0.  0.  0.]\n",
      "  [ 0.  0.  0.]\n",
      "  [ 0.  0.  0.]]\n",
      "\n",
      " [[ 0.  0.  0.]\n",
      "  [ 0.  0.  0.]\n",
      "  [ 0.  0.  0.]]]\n",
      "[[[  0.   0.   0.   0.   0.]\n",
      "  [ 10.  10.  10.  10.  10.]\n",
      "  [ 20.  20.  15.  20.  20.]\n",
      "  [ 30.  30.  30.  30.  30.]\n",
      "  [ 40.  40.  40.  40.  40.]]\n",
      "\n",
      " [[  0.  10.  20.  30.  40.]\n",
      "  [  0.  10.  20.  30.  40.]\n",
      "  [  0.  10.  20.  30.  40.]\n",
      "  [  0.  10.  20.  30.  40.]\n",
      "  [  0.  10.  20.  30.  40.]]]\n",
      "[[[ 10.          10.00416667  10.        ]\n",
      "  [ 20.00093169  14.99078689  20.        ]\n",
      "  [ 30.          30.00416667  30.        ]]\n",
      "\n",
      " [[ 10.          20.          30.        ]\n",
      "  [  9.99813661  19.99824045  30.        ]\n",
      "  [ 10.          20.          30.        ]]]\n"
     ]
    }
   ],
   "source": [
    "balls = np.mgrid[0:5,0:5]\n",
    "pos = balls*10.\n",
    "vel = np.zeros(shape=(2,3,3))\n",
    "print vel\n",
    "pos[0,2,2] = 15.\n",
    "print pos\n",
    "step = 0.01\n",
    "plt.figure()\n",
    "plt.scatter(mass[1].ravel(),mass[0].ravel())\n",
    "plt.show()\n",
    "\n",
    "mass = pos[:,1:4,1:4]\n",
    "north = pos[:,0:3,1:4]\n",
    "south = pos[:,2:5,1:4]\n",
    "west = pos[:,1:4,0:3]\n",
    "east = pos[:,1:4,2:5]\n",
    "\n",
    "spring_len = lambda direction: np.sqrt(np.sum((direction-mass)**2,axis = 0))\n",
    "spring_n = spring_len(north)\n",
    "spring_s = spring_len(south)\n",
    "spring_e = spring_len(east)\n",
    "spring_w = spring_len(west)\n",
    "update_north = (spring_n-L)*(mass-north)/spring_n\n",
    "update_south = (spring_s-L)*(mass-south)/spring_s\n",
    "update_east = (spring_e-L)*(mass-east)/spring_e\n",
    "update_west = (spring_e-L)*(mass-east)/spring_w\n",
    "update_vel = step*k*(update_north + update_south + update_west + update_east)/m\n",
    "vel += update_vel\n",
    "update_pos = step*vel\n",
    "pos[:,1:4,1:4] += update_pos\n",
    "\n",
    "plt.figure()\n",
    "plt.scatter(mass[1].ravel(),mass[0].ravel())\n",
    "plt.show()\n",
    "print mass"
   ]
  },
  {
   "cell_type": "code",
   "execution_count": 146,
   "metadata": {
    "collapsed": false
   },
   "outputs": [],
   "source": [
    "def spring_field(step = 0.01, filename = None):\n",
    "    import matplotlib.animation as animation\n",
    "    global vel,pos\n",
    "    fig = plt.figure(figsize=(5,5))\n",
    "    ax = fig.add_subplot(111)\n",
    "    ax.grid()\n",
    "    plt.ylim(-5,70)\n",
    "    plt.xlim(-5,70)\n",
    "    \n",
    "    points, = ax.plot([],[], linestyle='None', marker='o', markersize = 10.)\n",
    "    \n",
    "    time_template = 'time = %.1fs'\n",
    "    time_text = ax.text(0.05, 0.9, '', transform=ax.transAxes)\n",
    "    \n",
    "    balls = np.mgrid[0:5,0:5]\n",
    "    pos = balls*10.\n",
    "    vel = np.zeros(shape=(2,3,3))\n",
    "    pos[0,2,2] = 15.\n",
    "    \n",
    "    \n",
    "    def init():\n",
    "        points.set_data([],[])\n",
    "    \n",
    "        return points, time_text\n",
    "    \n",
    "    def animate(t):\n",
    "        global vel, pos\n",
    "        mass = pos[:,1:4,1:4]\n",
    "        north = pos[:,0:3,1:4]\n",
    "        south = pos[:,2:5,1:4]\n",
    "        west = pos[:,1:4,0:3]\n",
    "        east = pos[:,1:4,2:5]\n",
    "\n",
    "        spring_len = lambda direction: np.sqrt(np.sum((direction-mass)**2,axis = 0))\n",
    "        spring_n = spring_len(north)\n",
    "        spring_s = spring_len(south)\n",
    "        spring_e = spring_len(east)\n",
    "        spring_w = spring_len(west)\n",
    "        update_north = (spring_n-L)*(mass-north)/spring_n\n",
    "        update_south = (spring_s-L)*(mass-south)/spring_s\n",
    "        update_east = (spring_e-L)*(mass-east)/spring_e\n",
    "        update_west = (spring_w-L)*(mass-west)/spring_w\n",
    "        update_vel = -step*k*(update_north + update_south + update_east + update_west)/m\n",
    "        vel += update_vel\n",
    "        update_pos = step*vel\n",
    "        pos[:,1:4,1:4] += update_pos\n",
    "        \n",
    "        points.set_data(pos[0].ravel(),pos[1].ravel())\n",
    "        time_text.set_text(time_template % (t*step))\n",
    "        return points, time_text\n",
    "    \n",
    "    ani = animation.FuncAnimation(fig, animate, np.arange(400),\n",
    "                              interval=20, blit=True, init_func=init)\n",
    "\n",
    "    if filename:\n",
    "        ani.save(filename + '.mp4', fps=30)\n",
    "    plt.show()"
   ]
  },
  {
   "cell_type": "code",
   "execution_count": 147,
   "metadata": {
    "collapsed": false
   },
   "outputs": [],
   "source": [
    "spring_field()"
   ]
  }
 ],
 "metadata": {
  "kernelspec": {
   "display_name": "Python 2",
   "language": "python",
   "name": "python2"
  },
  "language_info": {
   "codemirror_mode": {
    "name": "ipython",
    "version": 2
   },
   "file_extension": ".py",
   "mimetype": "text/x-python",
   "name": "python",
   "nbconvert_exporter": "python",
   "pygments_lexer": "ipython2",
   "version": "2.7.11"
  }
 },
 "nbformat": 4,
 "nbformat_minor": 0
}
