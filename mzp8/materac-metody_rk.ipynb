{
 "cells": [
  {
   "cell_type": "code",
   "execution_count": 1,
   "metadata": {
    "collapsed": true
   },
   "outputs": [],
   "source": [
    "import numpy as np\n",
    "import matplotlib.pyplot as plt\n",
    "from __future__ import division"
   ]
  },
  {
   "cell_type": "code",
   "execution_count": 2,
   "metadata": {
    "collapsed": false
   },
   "outputs": [],
   "source": [
    "def calc_k(k,b):\n",
    "    return np.sum(b[:,np.newaxis,np.newaxis,np.newaxis,np.newaxis]*k,axis=0)"
   ]
  },
  {
   "cell_type": "code",
   "execution_count": 3,
   "metadata": {
    "collapsed": true
   },
   "outputs": [],
   "source": [
    "def heuns(tn,x,function,h):\n",
    "    k1 = h*function(tn,x)\n",
    "    k2 = h*function(tn+h,x+k1)\n",
    "    return (k1+k2)/2"
   ]
  },
  {
   "cell_type": "code",
   "execution_count": 4,
   "metadata": {
    "collapsed": true
   },
   "outputs": [],
   "source": [
    "def merson(tn,x,function,h):\n",
    "    k1 = h*function(tn,x)\n",
    "    k2 = h*function(tn+h/3,x+k1/3)\n",
    "    k3 = h*function(tn+h/3,x+(k1+k2)/6)\n",
    "    k4 = h*function(tn+h/2,x+(k1+k3*3)/8)\n",
    "    k5 = h*function(tn+h,x+k1/2-3*k3/2+2*k4)\n",
    "    return k1/6+2*k4/3+k5/6"
   ]
  },
  {
   "cell_type": "code",
   "execution_count": 5,
   "metadata": {
    "collapsed": false
   },
   "outputs": [],
   "source": [
    "pos = np.mgrid[0:5,0:5]*10.\n",
    "pos[0,2,2] = 25.\n",
    "vel = np.zeros_like(pos)\n",
    "state = np.array([pos,vel])\n",
    "import pandas as pd"
   ]
  },
  {
   "cell_type": "code",
   "execution_count": 6,
   "metadata": {
    "collapsed": true
   },
   "outputs": [],
   "source": [
    "spring_len = lambda direction,ballz: np.sqrt(np.sum((direction-ballz)**2,axis = 0))\n",
    "def simple_update(tn,x):\n",
    "    mass = x[0,:,1:-1,1:-1]\n",
    "    north = x[0,:,0:-2,1:-1]\n",
    "    south = x[0,:,2:,1:-1]\n",
    "    west = x[0,:,1:-1,0:-2]\n",
    "    east = x[0,:,1:-1,2:]\n",
    "    \n",
    "    \n",
    "    spring_n = spring_len(north,mass)\n",
    "    spring_s = spring_len(south,mass)\n",
    "    spring_e = spring_len(east,mass)\n",
    "    spring_w = spring_len(west,mass)\n",
    "    \n",
    "    update_north = (spring_n-L)*(mass-north)/spring_n\n",
    "    update_south = (spring_s-L)*(mass-south)/spring_s\n",
    "    update_east = (spring_e-L)*(mass-east)/spring_e\n",
    "    update_west = (spring_w-L)*(mass-west)/spring_w\n",
    "    \n",
    "    result = np.zeros_like(x)\n",
    "    result[1,:,1:-1,1:-1] = -(k/m)*(update_north + update_south + \\\n",
    "                              update_east + update_west)\n",
    "\n",
    "    result[0] = x[1]\n",
    "    return result"
   ]
  },
  {
   "cell_type": "code",
   "execution_count": 7,
   "metadata": {
    "collapsed": true
   },
   "outputs": [],
   "source": [
    "k = 30\n",
    "L = 10\n",
    "g = 9.81\n",
    "m = 10"
   ]
  },
  {
   "cell_type": "code",
   "execution_count": 184,
   "metadata": {
    "collapsed": false
   },
   "outputs": [],
   "source": [
    "def spring_field_rk( update_function, step = 0.01, filename = None):\n",
    "    import matplotlib.animation as animation\n",
    "    global state, frame\n",
    "    \n",
    "    frame = 0.\n",
    "\n",
    "    \n",
    "    pos = np.mgrid[0:5,0:5]*10.\n",
    "    vel = np.zeros_like(pos)\n",
    "    pos[0,2,2] = 25.\n",
    "    pos[1,2,2] = 25.\n",
    "    pos[0] += 60\n",
    "    state = np.array([pos,vel])\n",
    "    \n",
    "    \n",
    "    fig = plt.figure(figsize=(5,5))\n",
    "    ax = fig.add_subplot(111)\n",
    "    ax.grid()\n",
    "    plt.ylim(-10,np.max(state[0,0])+50)\n",
    "    plt.xlim(np.min(state[0,1])-20,np.max(state[0,1])+20)\n",
    "\n",
    "    \n",
    "    time_template = 'time = %.1fs'\n",
    "    time_text = ax.text(0.05, 0.9, '', transform=ax.transAxes)\n",
    "    \n",
    "    v_springs = []\n",
    "    for i in range(state.shape[2]):\n",
    "        v_springs.append(ax.plot([],[], linestyle='--', color='red')[0])\n",
    "        \n",
    "    h_springs = []\n",
    "    for i in range(state.shape[3]):\n",
    "        h_springs.append(ax.plot([],[], linestyle='--', color = 'red')[0])\n",
    "    \n",
    "        \n",
    "    points, = ax.plot([],[], linestyle='None', marker='o', markersize = 10.)\n",
    "    \n",
    "    \n",
    "    def init():\n",
    "        \n",
    "        return h_springs + v_springs + [points, time_text]\n",
    "    \n",
    "    def animate(t):\n",
    "        global state,frame\n",
    "        \n",
    "        while frame < 1/30:\n",
    "            state += merson(tn=t*step,x=state,function= update_function,h=step)\n",
    "            frame += step\n",
    "        frame -= 1/30\n",
    "        state[1,0,:,:] = state[1,0,:,:] * -(state[0,0,:,:] < 0)\n",
    "        state[0,0,:,:] = np.abs(state[0,0,:,:])\n",
    "\n",
    "        points.set_data([],[])\n",
    "        #points.set_data(state[0,1].ravel(),state[0,0].ravel())\n",
    "        \n",
    "        time_text.set_text(time_template % (t*step))\n",
    "        \n",
    "        for i in range(state.shape[2]):\n",
    "            v_springs[i].set_data(state[0,1,i,:],state[0,0,i,:])\n",
    "            \n",
    "        for i in range(state.shape[3]):\n",
    "            h_springs[i].set_data(state[0,1,:,i],state[0,0,:,i])\n",
    "        \n",
    "        return h_springs + v_springs + [points, time_text]\n",
    "    \n",
    "    ani = animation.FuncAnimation(fig, animate, np.arange(10/step),\n",
    "                              interval=1, blit=True, init_func=init)\n",
    "\n",
    "    if filename:\n",
    "        ani.save(filename + '.mp4', fps=30)\n",
    "    plt.show()"
   ]
  },
  {
   "cell_type": "code",
   "execution_count": 179,
   "metadata": {
    "collapsed": false
   },
   "outputs": [],
   "source": [
    "spring_field_rk(update_function=simple_update)"
   ]
  },
  {
   "cell_type": "code",
   "execution_count": 57,
   "metadata": {
    "collapsed": true
   },
   "outputs": [],
   "source": [
    "c = 0.1"
   ]
  },
  {
   "cell_type": "code",
   "execution_count": 129,
   "metadata": {
    "collapsed": false
   },
   "outputs": [],
   "source": [
    "def resistance_update(tn,x):\n",
    "    mass = x[0,:,1:-1,1:-1]\n",
    "    north = x[0,:,0:-2,1:-1]\n",
    "    south = x[0,:,2:,1:-1]\n",
    "    west = x[0,:,1:-1,0:-2]\n",
    "    east = x[0,:,1:-1,2:]\n",
    "    \n",
    "    \n",
    "    spring_n = spring_len(north,mass)\n",
    "    spring_s = spring_len(south,mass)\n",
    "    spring_e = spring_len(east,mass)\n",
    "    spring_w = spring_len(west,mass)\n",
    "    \n",
    "    update_north = (spring_n-L)*(mass-north)/spring_n\n",
    "    update_south = (spring_s-L)*(mass-south)/spring_s\n",
    "    update_east = (spring_e-L)*(mass-east)/spring_e\n",
    "    update_west = (spring_w-L)*(mass-west)/spring_w\n",
    "    \n",
    "    result = np.zeros_like(x)\n",
    "    result[1,:,1:-1,1:-1] = -(k/m)*(update_north + update_south + \\\n",
    "                              update_east + update_west) - \\\n",
    "                            np.sign(x[1,:,1:-1,1:-1])*c*x[1,:,1:-1,1:-1]**2 \n",
    "\n",
    "    result[0] = x[1]\n",
    "    return result"
   ]
  },
  {
   "cell_type": "code",
   "execution_count": 130,
   "metadata": {
    "collapsed": false
   },
   "outputs": [],
   "source": [
    "spring_field_rk(update_function=resistance_update)"
   ]
  },
  {
   "cell_type": "code",
   "execution_count": 13,
   "metadata": {
    "collapsed": true
   },
   "outputs": [],
   "source": [
    "def resistance_gravity_update(tn,x):\n",
    "    mass = x[0,:,1:-1,1:-1]\n",
    "    north = x[0,:,0:-2,1:-1]\n",
    "    south = x[0,:,2:,1:-1]\n",
    "    west = x[0,:,1:-1,0:-2]\n",
    "    east = x[0,:,1:-1,2:]\n",
    "    \n",
    "    \n",
    "    spring_n = spring_len(north,mass)\n",
    "    spring_s = spring_len(south,mass)\n",
    "    spring_e = spring_len(east,mass)\n",
    "    spring_w = spring_len(west,mass)\n",
    "    \n",
    "    update_north = (spring_n-L)*(mass-north)/spring_n\n",
    "    update_south = (spring_s-L)*(mass-south)/spring_s\n",
    "    update_east = (spring_e-L)*(mass-east)/spring_e\n",
    "    update_west = (spring_w-L)*(mass-west)/spring_w\n",
    "    \n",
    "    result = np.zeros_like(x)\n",
    "    result[1,:,1:-1,1:-1] = -(k/m)*(update_north + update_south + \\\n",
    "                              update_east + update_west) - \\\n",
    "                            np.sign(x[1,:,1:-1,1:-1])*c*x[1,:,1:-1,1:-1]**2\n",
    "    \n",
    "    result[1,0,1:-1,1:-1] -= g\n",
    "\n",
    "    result[0] = x[1]\n",
    "    \n",
    "    return result"
   ]
  },
  {
   "cell_type": "code",
   "execution_count": 131,
   "metadata": {
    "collapsed": true
   },
   "outputs": [],
   "source": [
    "spring_field_rk(update_function=resistance_gravity_update)"
   ]
  },
  {
   "cell_type": "code",
   "execution_count": 174,
   "metadata": {
    "collapsed": true
   },
   "outputs": [],
   "source": [
    "def galareta_update(tn,x):\n",
    "\n",
    "    \n",
    "    north = x[0,:,0:-1,:]\n",
    "    south = x[0,:,1:,:]\n",
    "    \n",
    "    west = x[0,:,:,0:-1]\n",
    "    east = x[0,:,:,1:]\n",
    "    \n",
    "    north_west = x[0,:,0:-1,0:-1]\n",
    "    south_east = x[0,:,1:,1:]\n",
    "    north_east = x[0,:,0:-1,1:]\n",
    "    south_west = x[0,:,1:,0:-1]\n",
    "    \n",
    "    spring_v = spring_len(north,south)\n",
    "    spring_h = spring_len(west,east)\n",
    "    \n",
    "    spring_diag = spring_len(north_west,south_east)\n",
    "    \n",
    "    spring_diag2 = spring_len(north_east,south_west)\n",
    "    \n",
    "    update_north = (spring_v-L)*(south-north)/spring_v\n",
    "    update_south = (spring_v-L)*(north-south)/spring_v\n",
    "    update_east = (spring_h-L)*(west-east)/spring_h\n",
    "    update_west = (spring_h-L)*(east-west)/spring_h\n",
    "    \n",
    "    update_south_east = (spring_diag-L*np.sqrt(2))*(north_west-south_east)/spring_diag\n",
    "    \n",
    "    update_north_west = (spring_diag-L*np.sqrt(2))*(south_east-north_west)/spring_diag\n",
    "\n",
    "    update_south_west = (spring_diag2-L*np.sqrt(2))*(north_east-south_west)/spring_diag2\n",
    "    \n",
    "    update_north_east = (spring_diag2-L*np.sqrt(2))*(south_west-north_east)/spring_diag2\n",
    "    \n",
    "    result = np.zeros_like(x)\n",
    "    result[1,:,1:,:] += -(k/m)*(update_north)\n",
    "    result[1,:,0:-1:,:] += -(k/m)*(update_south)\n",
    "    \n",
    "    result[1,:,:,1:] += -(k/m)*(update_west)\n",
    "    result[1,:,:,0:-1] += -(k/m)*(update_east)\n",
    "    \n",
    "    result[1,:,1:,1:] += -(k/m)*(update_north_west)\n",
    "    result[1,:,0:-1,0:-1] += -(k/m)*(update_south_east)\n",
    "    \n",
    "    result[1,:,0:-1,1:] += -(k/m)*(update_south_west)\n",
    "    result[1,:,1:,0:-1] += -(k/m)*(update_north_east)\n",
    "    \n",
    "    result[1,:,:,:] -= np.sign(x[1,:,:,:])*c*x[1,:,:,:]**2\n",
    "    result[1,:,:,:] -= c_*x[1,:,:,:]\n",
    "    \n",
    "    result[1,0,:,:] -= g\n",
    "\n",
    "    result[0] = x[1]\n",
    "    \n",
    "    return result"
   ]
  },
  {
   "cell_type": "code",
   "execution_count": 268,
   "metadata": {
    "collapsed": true
   },
   "outputs": [],
   "source": [
    "k = 500\n",
    "L = 13\n",
    "c = 0.01\n",
    "c_ = 0.01"
   ]
  },
  {
   "cell_type": "code",
   "execution_count": null,
   "metadata": {
    "collapsed": false
   },
   "outputs": [],
   "source": [
    "spring_field_rk(update_function=galareta_update,filename=\"galaretka2\")"
   ]
  },
  {
   "cell_type": "code",
   "execution_count": null,
   "metadata": {
    "collapsed": true
   },
   "outputs": [],
   "source": []
  }
 ],
 "metadata": {
  "kernelspec": {
   "display_name": "Python 2",
   "language": "python",
   "name": "python2"
  },
  "language_info": {
   "codemirror_mode": {
    "name": "ipython",
    "version": 2
   },
   "file_extension": ".py",
   "mimetype": "text/x-python",
   "name": "python",
   "nbconvert_exporter": "python",
   "pygments_lexer": "ipython2",
   "version": "2.7.11"
  }
 },
 "nbformat": 4,
 "nbformat_minor": 0
}
