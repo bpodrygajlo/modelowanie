{
 "cells": [
  {
   "cell_type": "code",
   "execution_count": 1,
   "metadata": {
    "collapsed": true
   },
   "outputs": [],
   "source": [
    "import numpy as np\n",
    "import matplotlib.pyplot as plt\n",
    "from __future__ import division"
   ]
  },
  {
   "cell_type": "code",
   "execution_count": 2,
   "metadata": {
    "collapsed": false
   },
   "outputs": [],
   "source": [
    "def calc_k(k,b):\n",
    "    return np.sum(b[:,np.newaxis,np.newaxis,np.newaxis,np.newaxis]*k,axis=0)"
   ]
  },
  {
   "cell_type": "code",
   "execution_count": 303,
   "metadata": {
    "collapsed": true
   },
   "outputs": [],
   "source": [
    "def heuns(tn,x,function,h):\n",
    "    k1 = h*function(tn,x)\n",
    "    k2 = h*function(tn+h,x+k1)\n",
    "    return (k1+k2)/2"
   ]
  },
  {
   "cell_type": "code",
   "execution_count": 302,
   "metadata": {
    "collapsed": true
   },
   "outputs": [],
   "source": [
    "def merson(tn,x,function,h):\n",
    "    k1 = h*function(tn,x)\n",
    "    k2 = h*function(tn+h/3,x+k1/3)\n",
    "    k3 = h*function(tn+h/3,x+(k1+k2)/6)\n",
    "    k4 = h*function(tn+h/2,x+(k1+k3*3)/8)\n",
    "    k5 = h*function(tn+h,x+k1/2-3*k3/2+2*k4)\n",
    "    return k1/6+2*k4/3+k5/6"
   ]
  },
  {
   "cell_type": "code",
   "execution_count": 304,
   "metadata": {
    "collapsed": false
   },
   "outputs": [],
   "source": [
    "pos = np.mgrid[0:5,0:5]*10.\n",
    "pos[0,2,2] = 25.\n",
    "vel = np.zeros_like(pos)\n",
    "state = np.array([pos,vel])\n",
    "import pandas as pd"
   ]
  },
  {
   "cell_type": "code",
   "execution_count": 429,
   "metadata": {
    "collapsed": true
   },
   "outputs": [],
   "source": [
    "spring_len = lambda direction,ballz: np.sqrt(np.sum((direction-ballz)**2,axis = 0))\n",
    "def simple_update(tn,x):\n",
    "    mass = x[0,:,1:-1,1:-1]\n",
    "    north = x[0,:,0:-2,1:-1]\n",
    "    south = x[0,:,2:,1:-1]\n",
    "    west = x[0,:,1:-1,0:-2]\n",
    "    east = x[0,:,1:-1,2:]\n",
    "    \n",
    "    \n",
    "    spring_n = spring_len(north,mass)\n",
    "    spring_s = spring_len(south,mass)\n",
    "    spring_e = spring_len(east,mass)\n",
    "    spring_w = spring_len(west,mass)\n",
    "    \n",
    "    update_north = (spring_n-L)*(mass-north)/spring_n\n",
    "    update_south = (spring_s-L)*(mass-south)/spring_s\n",
    "    update_east = (spring_e-L)*(mass-east)/spring_e\n",
    "    update_west = (spring_w-L)*(mass-west)/spring_w\n",
    "    \n",
    "    result = np.zeros_like(x)\n",
    "    result[1,:,1:-1,1:-1] = -(k/m)*(update_north + update_south + \\\n",
    "                              update_east + update_west)\n",
    "\n",
    "    result[0] = x[1]\n",
    "    return result"
   ]
  },
  {
   "cell_type": "code",
   "execution_count": 430,
   "metadata": {
    "collapsed": true
   },
   "outputs": [],
   "source": [
    "k = 30\n",
    "L = 10\n",
    "g = 9.81\n",
    "m = 10"
   ]
  },
  {
   "cell_type": "code",
   "execution_count": 489,
   "metadata": {
    "collapsed": false
   },
   "outputs": [],
   "source": [
    "def spring_field_rk( update_function, step = 0.01, filename = None):\n",
    "    import matplotlib.animation as animation\n",
    "    global state\n",
    "\n",
    "    \n",
    "    pos = np.mgrid[0:7,0:5]*10.\n",
    "    vel = np.zeros_like(pos)\n",
    "    pos[0,2,2] = 25.\n",
    "    pos[1,2,2] = 25.\n",
    "    state = np.array([pos,vel])\n",
    "    \n",
    "    \n",
    "    fig = plt.figure(figsize=(5,5))\n",
    "    ax = fig.add_subplot(111)\n",
    "    ax.grid()\n",
    "    plt.ylim(np.min(state[0,0])-20,np.max(state[0,0])+20)\n",
    "    plt.xlim(np.min(state[0,1])-20,np.max(state[0,1])+20)\n",
    "\n",
    "    \n",
    "    time_template = 'time = %.1fs'\n",
    "    time_text = ax.text(0.05, 0.9, '', transform=ax.transAxes)\n",
    "    \n",
    "    v_springs = []\n",
    "    for i in range(state.shape[2]):\n",
    "        v_springs.append(ax.plot(state[0,1,i,:],state[0,0,i,:], linestyle='--', color='red')[0])\n",
    "        \n",
    "    h_springs = []\n",
    "    for i in range(state.shape[3]):\n",
    "        h_springs.append(ax.plot(state[0,1,:,i],state[0,0,:,i], linestyle='--', color = 'red')[0])\n",
    "    \n",
    "        \n",
    "    points, = ax.plot([],[], linestyle='None', marker='o', markersize = 10.)\n",
    "    \n",
    "    \n",
    "    \n",
    "    def init():\n",
    "        \n",
    "        return None\n",
    "    \n",
    "    def animate(t):\n",
    "        global state\n",
    "        \n",
    "        state += merson(tn=t*step,x=state,function=update_function,h=step)\n",
    "        \n",
    "        points.set_data(state[0,1].ravel(),state[0,0].ravel())\n",
    "        \n",
    "        time_text.set_text(time_template % (t*step))\n",
    "        \n",
    "        for i in range(state.shape[2]):\n",
    "            v_springs[i].set_data(state[0,1,i,:],state[0,0,i,:])\n",
    "            \n",
    "        for i in range(state.shape[3]):\n",
    "            h_springs[i].set_data(state[0,1,:,i],state[0,0,:,i])\n",
    "        \n",
    "        return None\n",
    "    \n",
    "    ani = animation.FuncAnimation(fig, animate, np.arange(1000),\n",
    "                              interval=1000*step, blit=False, init_func=init)\n",
    "\n",
    "    if filename:\n",
    "        ani.save(filename + '.mp4', fps=30)\n",
    "    plt.show()"
   ]
  },
  {
   "cell_type": "code",
   "execution_count": 491,
   "metadata": {
    "collapsed": false
   },
   "outputs": [],
   "source": [
    "spring_field_rk(update_function=simple_update, filename='spring_field_1a')"
   ]
  },
  {
   "cell_type": "code",
   "execution_count": 480,
   "metadata": {
    "collapsed": true
   },
   "outputs": [],
   "source": [
    "c = 0.1"
   ]
  },
  {
   "cell_type": "code",
   "execution_count": 481,
   "metadata": {
    "collapsed": false
   },
   "outputs": [],
   "source": [
    "def resistance_update(tn,x):\n",
    "    mass = x[0,:,1:-1,1:-1]\n",
    "    north = x[0,:,0:-2,1:-1]\n",
    "    south = x[0,:,2:,1:-1]\n",
    "    west = x[0,:,1:-1,0:-2]\n",
    "    east = x[0,:,1:-1,2:]\n",
    "    \n",
    "    \n",
    "    spring_n = spring_len(north,mass)\n",
    "    spring_s = spring_len(south,mass)\n",
    "    spring_e = spring_len(east,mass)\n",
    "    spring_w = spring_len(west,mass)\n",
    "    \n",
    "    update_north = (spring_n-L)*(mass-north)/spring_n\n",
    "    update_south = (spring_s-L)*(mass-south)/spring_s\n",
    "    update_east = (spring_e-L)*(mass-east)/spring_e\n",
    "    update_west = (spring_w-L)*(mass-west)/spring_w\n",
    "    \n",
    "    result = np.zeros_like(x)\n",
    "    result[1,:,1:-1,1:-1] = -(k/m)*(update_north + update_south + \\\n",
    "                              update_east + update_west) - \\\n",
    "                            np.sign(x[1,:,1:-1,1:-1])*c*x[1,:,1:-1,1:-1]**2 \n",
    "\n",
    "    result[0] = x[1]\n",
    "    return result"
   ]
  },
  {
   "cell_type": "code",
   "execution_count": 482,
   "metadata": {
    "collapsed": false
   },
   "outputs": [],
   "source": [
    "spring_field_rk(update_function=resistance_update)"
   ]
  },
  {
   "cell_type": "code",
   "execution_count": 463,
   "metadata": {
    "collapsed": true
   },
   "outputs": [],
   "source": [
    "def resistance_gravity_update(tn,x):\n",
    "    mass = x[0,:,1:-1,1:-1]\n",
    "    north = x[0,:,0:-2,1:-1]\n",
    "    south = x[0,:,2:,1:-1]\n",
    "    west = x[0,:,1:-1,0:-2]\n",
    "    east = x[0,:,1:-1,2:]\n",
    "    \n",
    "    \n",
    "    spring_n = spring_len(north,mass)\n",
    "    spring_s = spring_len(south,mass)\n",
    "    spring_e = spring_len(east,mass)\n",
    "    spring_w = spring_len(west,mass)\n",
    "    \n",
    "    update_north = (spring_n-L)*(mass-north)/spring_n\n",
    "    update_south = (spring_s-L)*(mass-south)/spring_s\n",
    "    update_east = (spring_e-L)*(mass-east)/spring_e\n",
    "    update_west = (spring_w-L)*(mass-west)/spring_w\n",
    "    \n",
    "    result = np.zeros_like(x)\n",
    "    result[1,:,1:-1,1:-1] = -(k/m)*(update_north + update_south + \\\n",
    "                              update_east + update_west) - \\\n",
    "                            np.sign(x[1,:,1:-1,1:-1])*c*x[1,:,1:-1,1:-1]**2\n",
    "    \n",
    "    result[1,0,1:-1,1:-1] -= g\n",
    "\n",
    "    result[0] = x[1]\n",
    "    return result"
   ]
  },
  {
   "cell_type": "code",
   "execution_count": 484,
   "metadata": {
    "collapsed": true
   },
   "outputs": [],
   "source": [
    "spring_field_rk(update_function=resistance_gravity_update)"
   ]
  }
 ],
 "metadata": {
  "kernelspec": {
   "display_name": "Python 2",
   "language": "python",
   "name": "python2"
  },
  "language_info": {
   "codemirror_mode": {
    "name": "ipython",
    "version": 2
   },
   "file_extension": ".py",
   "mimetype": "text/x-python",
   "name": "python",
   "nbconvert_exporter": "python",
   "pygments_lexer": "ipython2",
   "version": "2.7.11"
  }
 },
 "nbformat": 4,
 "nbformat_minor": 0
}
