{
 "cells": [
  {
   "cell_type": "code",
   "execution_count": 1,
   "metadata": {
    "collapsed": true
   },
   "outputs": [],
   "source": [
    "import numpy as np\n",
    "import matplotlib.pyplot as plt\n",
    "from __future__ import division"
   ]
  },
  {
   "cell_type": "code",
   "execution_count": 2,
   "metadata": {
    "collapsed": true
   },
   "outputs": [],
   "source": [
    "k = 2\n",
    "L = 10\n",
    "g = 9.81\n",
    "m = 2"
   ]
  },
  {
   "cell_type": "code",
   "execution_count": 3,
   "metadata": {
    "collapsed": true
   },
   "outputs": [],
   "source": [
    "def spring_field(step = 0.01, filename = None):\n",
    "    import matplotlib.animation as animation\n",
    "    global pos,vel\n",
    "    fig = plt.figure(figsize=(5,5))\n",
    "    ax = fig.add_subplot(111)\n",
    "    ax.grid()\n",
    "    plt.ylim(-5,70)\n",
    "    plt.xlim(-5,70)\n",
    "    \n",
    "    points, = ax.plot([],[], linestyle='None', marker='o', markersize = 10.)\n",
    "    \n",
    "    time_template = 'time = %.1fs'\n",
    "    time_text = ax.text(0.05, 0.9, '', transform=ax.transAxes)\n",
    "    \n",
    "    pos = np.mgrid[0:5,0:5]*10.\n",
    "    vel = np.zeros(shape=(2,3,3))\n",
    "    pos[0,2,2] = 40.\n",
    "\n",
    "    \n",
    "    def init():\n",
    "        points.set_data([],[])\n",
    "    \n",
    "        return points, time_text\n",
    "    \n",
    "    def animate(t):\n",
    "        global pos,vel\n",
    "        mass = pos[:,1:4,1:4]\n",
    "        north = pos[:,0:3,1:4]\n",
    "        south = pos[:,2:5,1:4]\n",
    "        west = pos[:,1:4,0:3]\n",
    "        east = pos[:,1:4,2:5]\n",
    "\n",
    "        spring_len = lambda direction: np.sqrt(np.sum((direction-mass)**2,axis = 0))\n",
    "        spring_n = spring_len(north)\n",
    "        spring_s = spring_len(south)\n",
    "        spring_e = spring_len(east)\n",
    "        spring_w = spring_len(west)\n",
    "        update_north = (spring_n-L)*(mass-north)/spring_n\n",
    "        update_south = (spring_s-L)*(mass-south)/spring_s\n",
    "        update_east = (spring_e-L)*(mass-east)/spring_e\n",
    "        update_west = (spring_w-L)*(mass-west)/spring_w\n",
    "        update_vel = -step*k*(update_north + update_south + update_east + update_west)/m\n",
    "        update_pos = step*vel\n",
    "        \n",
    "        pos[:,1:4,1:4] += update_pos\n",
    "        vel += update_vel\n",
    "        \n",
    "        points.set_data(pos[0].ravel(),pos[1].ravel())\n",
    "        time_text.set_text(time_template % (t*step))\n",
    "        return points, time_text\n",
    "    \n",
    "    ani = animation.FuncAnimation(fig, animate, np.arange(400),\n",
    "                              interval=step*10, blit=True, init_func=init)\n",
    "\n",
    "    if filename:\n",
    "        ani.save(filename + '.mp4', fps=30)\n",
    "    plt.show()"
   ]
  },
  {
   "cell_type": "code",
   "execution_count": 4,
   "metadata": {
    "collapsed": false
   },
   "outputs": [],
   "source": [
    "spring_field()"
   ]
  },
  {
   "cell_type": "code",
   "execution_count": 10,
   "metadata": {
    "collapsed": true
   },
   "outputs": [],
   "source": [
    "def spring_field_state(step = 0.01, filename = None):\n",
    "    import matplotlib.animation as animation\n",
    "    global state\n",
    "    fig = plt.figure(figsize=(5,5))\n",
    "    ax = fig.add_subplot(111)\n",
    "    ax.grid()\n",
    "    plt.ylim(-5,70)\n",
    "    plt.xlim(-5,70)\n",
    "    \n",
    "    points, = ax.plot([],[], linestyle='None', marker='o', markersize = 10.)\n",
    "    \n",
    "    time_template = 'time = %.1fs'\n",
    "    time_text = ax.text(0.05, 0.9, '', transform=ax.transAxes)\n",
    "    \n",
    "    pos = np.mgrid[0:5,0:5]*10.\n",
    "    vel = np.zeros_like(pos)\n",
    "    pos[0,2,2] = 25.\n",
    "    state = np.array([pos,vel])\n",
    "    \n",
    "    def init():\n",
    "        points.set_data([],[])\n",
    "    \n",
    "        return points, time_text\n",
    "    \n",
    "    def animate(t):\n",
    "        global state\n",
    "        mass = state[0,:,1:4,1:4]\n",
    "        north = state[0,:,0:3,1:4]\n",
    "        south = state[0,:,2:5,1:4]\n",
    "        west = state[0,:,1:4,0:3]\n",
    "        east = state[0,:,1:4,2:5]\n",
    "\n",
    "        spring_len = lambda direction: np.sqrt(np.sum((direction-mass)**2,axis = 0))\n",
    "        spring_n = spring_len(north)\n",
    "        spring_s = spring_len(south)\n",
    "        spring_e = spring_len(east)\n",
    "        spring_w = spring_len(west)\n",
    "        update_north = (spring_n-L)*(mass-north)/spring_n\n",
    "        update_south = (spring_s-L)*(mass-south)/spring_s\n",
    "        update_east = (spring_e-L)*(mass-east)/spring_e\n",
    "        update_west = (spring_w-L)*(mass-west)/spring_w      \n",
    "        \n",
    "        state[0] += step*state[1]\n",
    "        state[1,:,1:4,1:4] += -step*k*(update_north + update_south \\\n",
    "                             + update_east + update_west)/m\n",
    "        \n",
    "        points.set_data(state[0,0].ravel(),state[0,1].ravel())\n",
    "        time_text.set_text(time_template % (t*step))\n",
    "        return points, time_text\n",
    "    \n",
    "    ani = animation.FuncAnimation(fig, animate, np.arange(400),\n",
    "                              interval=step*10, blit=True, init_func=init)\n",
    "\n",
    "    if filename:\n",
    "        ani.save(filename + '.mp4', fps=30)\n",
    "    plt.show()"
   ]
  },
  {
   "cell_type": "code",
   "execution_count": 11,
   "metadata": {
    "collapsed": false
   },
   "outputs": [],
   "source": [
    "spring_field_state()"
   ]
  },
  {
   "cell_type": "code",
   "execution_count": 7,
   "metadata": {
    "collapsed": true
   },
   "outputs": [],
   "source": [
    "spring_len = lambda direction,ballz: np.sqrt(np.sum((direction-ballz)**2,axis = 0))\n",
    "def update_fun(tn,x):\n",
    "    mass = x[0,:,1:4,1:4]\n",
    "    north = x[0,:,0:3,1:4]\n",
    "    south = x[0,:,2:5,1:4]\n",
    "    west = x[0,:,1:4,0:3]\n",
    "    east = x[0,:,1:4,2:5]\n",
    "    \n",
    "    spring_n = spring_len(north,mass)\n",
    "    spring_s = spring_len(south,mass)\n",
    "    spring_e = spring_len(east,mass)\n",
    "    spring_w = spring_len(west,mass)\n",
    "    \n",
    "    update_north = (spring_n-L)*(mass-north)/spring_n\n",
    "    update_south = (spring_s-L)*(mass-south)/spring_s\n",
    "    update_east = (spring_e-L)*(mass-east)/spring_e\n",
    "    update_west = (spring_w-L)*(mass-west)/spring_w\n",
    "    \n",
    "    result = np.zeros_like(x)\n",
    "    result[1,:,1:4,1:4] = -k*(update_north + update_south + \\\n",
    "                              update_east + update_west)/m\n",
    "\n",
    "    result[0] = x[1]\n",
    "    return result"
   ]
  },
  {
   "cell_type": "code",
   "execution_count": 8,
   "metadata": {
    "collapsed": true
   },
   "outputs": [],
   "source": [
    "def spring_field_state_function(step = 0.01, filename = None):\n",
    "    import matplotlib.animation as animation\n",
    "    global state\n",
    "    fig = plt.figure(figsize=(5,5))\n",
    "    ax = fig.add_subplot(111)\n",
    "    ax.grid()\n",
    "    plt.ylim(-5,70)\n",
    "    plt.xlim(-5,70)\n",
    "    \n",
    "    points, = ax.plot([],[], linestyle='None', marker='o', markersize = 10.)\n",
    "    \n",
    "    time_template = 'time = %.1fs'\n",
    "    time_text = ax.text(0.05, 0.9, '', transform=ax.transAxes)\n",
    "    \n",
    "    pos = np.mgrid[0:5,0:5]*10.\n",
    "    vel = np.zeros_like(pos)\n",
    "    pos[0,2,2] = 45.\n",
    "    pos[1,2,2] = 45.\n",
    "    state = np.array([pos,vel])\n",
    "    \n",
    "    def init():\n",
    "        points.set_data([],[])\n",
    "    \n",
    "        return points, time_text\n",
    "    \n",
    "    def animate(t):\n",
    "        global state\n",
    "        \n",
    "        state += step*update_fun(t*step,state)\n",
    "        \n",
    "        points.set_data(state[0,0].ravel(),state[0,1].ravel())\n",
    "        time_text.set_text(time_template % (t*step))\n",
    "        return points, time_text\n",
    "    \n",
    "    ani = animation.FuncAnimation(fig, animate, np.arange(400),\n",
    "                              interval=step*10, blit=True, init_func=init)\n",
    "\n",
    "    if filename:\n",
    "        ani.save(filename + '.mp4', fps=30)\n",
    "    plt.show()"
   ]
  },
  {
   "cell_type": "code",
   "execution_count": 9,
   "metadata": {
    "collapsed": false
   },
   "outputs": [],
   "source": [
    "spring_field_state_function()"
   ]
  }
 ],
 "metadata": {
  "kernelspec": {
   "display_name": "Python 2",
   "language": "python",
   "name": "python2"
  },
  "language_info": {
   "codemirror_mode": {
    "name": "ipython",
    "version": 2
   },
   "file_extension": ".py",
   "mimetype": "text/x-python",
   "name": "python",
   "nbconvert_exporter": "python",
   "pygments_lexer": "ipython2",
   "version": "2.7.11"
  }
 },
 "nbformat": 4,
 "nbformat_minor": 0
}
