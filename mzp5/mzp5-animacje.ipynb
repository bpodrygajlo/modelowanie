{
 "cells": [
  {
   "cell_type": "code",
   "execution_count": 52,
   "metadata": {
    "collapsed": true
   },
   "outputs": [],
   "source": [
    "import numpy as np\n",
    "import matplotlib.pyplot as plt"
   ]
  },
  {
   "cell_type": "code",
   "execution_count": 53,
   "metadata": {
    "collapsed": true
   },
   "outputs": [],
   "source": [
    "#Using code from mzp5-wykresy\n",
    "class NumericalMethod2d():\n",
    "    def __init__(self,updates = None):\n",
    "        self.updates = updates\n",
    "        \n",
    "    def add_step(self,update):\n",
    "        if self.updates is None:\n",
    "            self.updates = update\n",
    "        else:\n",
    "            self.updates = np.vstack((self.updates,update))\n",
    "        \n",
    "    @property\n",
    "    def update_count(self):\n",
    "        return self.updates.shape[0]-1\n",
    "    \n",
    "    def __call__(self,f1,f2,tn,y1n,y2n,h):\n",
    "        k = np.zeros(shape=(self.update_count,2))\n",
    "        for i in range(self.update_count):\n",
    "            a = self.updates[i,0]\n",
    "            b = self.updates[i,1:]\n",
    "            k[i,0] = h * f1(tn+a*h,y1n+b.dot(k[:,0].T),y2n+b.dot(k[:,1].T))\n",
    "            k[i,1] = h * f2(tn+a*h,y1n+b.dot(k[:,0].T),y2n+b.dot(k[:,1].T))\n",
    "        c = self.updates[self.update_count,1:]\n",
    "        return c.dot(k[:,0].T),c.dot(k[:,1].T)"
   ]
  },
  {
   "cell_type": "code",
   "execution_count": 106,
   "metadata": {
    "collapsed": true
   },
   "outputs": [],
   "source": [
    "def pendulum(method, start_x, start_y, start_dy, f1, f2, step = 0.1, saving = False):\n",
    "    import matplotlib.animation as animation\n",
    "    x = start_x\n",
    "    y = start_y\n",
    "    dy = start_dy\n",
    "    \n",
    "    fig = plt.figure(figsize=(5,5))\n",
    "    ax = fig.add_subplot(111)\n",
    "    ax.grid()\n",
    "    plt.ylim(-30,30)\n",
    "    plt.xlim(-30,30)\n",
    "\n",
    "    line, = ax.plot([], [], 'o-', lw=2)\n",
    "    time_template = 'time = %.1fs'\n",
    "    time_text = ax.text(0.05, 0.9, '', transform=ax.transAxes)\n",
    "    \n",
    "    \n",
    "    def init():\n",
    "        line.set_data([], [])\n",
    "        time_text.set_text('')\n",
    "        y = start_y\n",
    "        x = start_x\n",
    "        dy = start_dy\n",
    "        return line, time_text\n",
    "    \n",
    "    def animate(t):\n",
    "        global x\n",
    "        global y\n",
    "        global dy\n",
    "        y_update, dy_update = method(f1=f1,f2=f2,tn=x,y1n=y,y2n=dy,h=step)\n",
    "        y += y_update\n",
    "        dy += dy_update\n",
    "        line.set_data([0.0,-L*np.sin(y)],[0.0,-L*np.cos(y)])\n",
    "        time_text.set_text(time_template % (t*step))\n",
    "        return line, time_text\n",
    "    \n",
    "    ani = animation.FuncAnimation(fig, animate, np.arange(400),\n",
    "                              interval=25, blit=True, init_func=init)\n",
    "\n",
    "    if saving:\n",
    "        ani.save('pendulum.mp4', fps=15)\n",
    "    plt.show()\n",
    "    x = start_x\n",
    "    y = start_y\n",
    "    dy = start_dy"
   ]
  },
  {
   "cell_type": "code",
   "execution_count": 55,
   "metadata": {
    "collapsed": true
   },
   "outputs": [],
   "source": [
    "euler = NumericalMethod2d(np.array([[1.,0.],[0.,1.]]))"
   ]
  },
  {
   "cell_type": "code",
   "execution_count": 56,
   "metadata": {
    "collapsed": true
   },
   "outputs": [],
   "source": [
    "heuns = NumericalMethod2d(\n",
    "    np.array([[0.,0.,0.],\n",
    "              [1.,1.,0.],\n",
    "              [0.,.5,.5]]))"
   ]
  },
  {
   "cell_type": "code",
   "execution_count": 57,
   "metadata": {
    "collapsed": true
   },
   "outputs": [],
   "source": [
    "merson = NumericalMethod2d(\n",
    "    np.array([[0.,0.,0.,0.,0.,0.],\n",
    "              [1./3.,1./3.,0.,0.,0.,0.],\n",
    "              [1./3.,1./6.,1./6.,0.,0.,0.],\n",
    "              [1./2.,1./8.,0.,3./8.,0.,0.],\n",
    "              [1.,1./2.,0.,-3./2.,2.,0.],\n",
    "              [0.,1./6.,0.,0.,2./3.,1./6.]]))"
   ]
  },
  {
   "cell_type": "markdown",
   "metadata": {},
   "source": [
    "## Zadanie 3"
   ]
  },
  {
   "cell_type": "markdown",
   "metadata": {},
   "source": [
    "zagadnienie początkowe, parametry wahadła"
   ]
  },
  {
   "cell_type": "code",
   "execution_count": 98,
   "metadata": {
    "collapsed": true
   },
   "outputs": [],
   "source": [
    "Theta_0 = 3.\n",
    "g=10.\n",
    "L=15.\n",
    "x=0.\n",
    "y=Theta_0\n",
    "dy=0."
   ]
  },
  {
   "cell_type": "markdown",
   "metadata": {},
   "source": [
    "animacja, zapisywanie do pliku przy fladze saving = True"
   ]
  },
  {
   "cell_type": "code",
   "execution_count": 99,
   "metadata": {
    "collapsed": false
   },
   "outputs": [],
   "source": [
    "pendulum(heuns,0,Theta_0,0,lambda t,y,v: v, lambda t,y,v:-g/L*np.sin(y), saving = False)"
   ]
  },
  {
   "cell_type": "markdown",
   "metadata": {},
   "source": [
    "## Zadanie 4: Rownanie z uwzględnieniem oporów ruchu"
   ]
  },
  {
   "cell_type": "code",
   "execution_count": 108,
   "metadata": {
    "collapsed": true
   },
   "outputs": [],
   "source": [
    "Theta_0 = 3.\n",
    "g=10.\n",
    "L=15.\n",
    "x=0.\n",
    "y=Theta_0\n",
    "dy=0.\n",
    "c = .2\n",
    "m = 0.4"
   ]
  },
  {
   "cell_type": "code",
   "execution_count": null,
   "metadata": {
    "collapsed": false
   },
   "outputs": [],
   "source": [
    "pendulum(heuns,\n",
    "         0,\n",
    "         Theta_0,\n",
    "         0,\n",
    "         lambda t,y,v: v,\n",
    "         lambda t,y,v:-c*v/(m*L)-g/L*np.sin(y), saving = True)"
   ]
  },
  {
   "cell_type": "code",
   "execution_count": 101,
   "metadata": {
    "collapsed": true
   },
   "outputs": [],
   "source": [
    "pendulum(euler,\n",
    "         0,\n",
    "         Theta_0,\n",
    "         0,\n",
    "         lambda t,y,v: v,\n",
    "         lambda t,y,v:-c*v/(m*L)-g/L*np.sin(y))"
   ]
  },
  {
   "cell_type": "code",
   "execution_count": null,
   "metadata": {
    "collapsed": true
   },
   "outputs": [],
   "source": []
  }
 ],
 "metadata": {
  "kernelspec": {
   "display_name": "Python 2",
   "language": "python",
   "name": "python2"
  },
  "language_info": {
   "codemirror_mode": {
    "name": "ipython",
    "version": 2
   },
   "file_extension": ".py",
   "mimetype": "text/x-python",
   "name": "python",
   "nbconvert_exporter": "python",
   "pygments_lexer": "ipython2",
   "version": "2.7.11"
  }
 },
 "nbformat": 4,
 "nbformat_minor": 0
}
