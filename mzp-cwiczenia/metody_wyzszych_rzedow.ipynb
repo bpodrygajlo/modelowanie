{
 "cells": [
  {
   "cell_type": "code",
   "execution_count": 8,
   "metadata": {
    "collapsed": false
   },
   "outputs": [],
   "source": [
    "import numpy as np\n",
    "import matplotlib.pyplot as plt"
   ]
  },
  {
   "cell_type": "code",
   "execution_count": 83,
   "metadata": {
    "collapsed": false
   },
   "outputs": [],
   "source": [
    "def runge_kutty(initial_x, initial_y, dy, y = None, step = 0.1):\n",
    "    count = np.ceil(10.0/step)\n",
    "    X = np.linspace(initial_x,initial_x+10,count)\n",
    "    Y = np.zeros_like(X)\n",
    "    Y[0] = initial_y\n",
    "    \n",
    "    def apply_method(x,y):\n",
    "        K1 = step*dy(x,y)\n",
    "        K2 = step*dy(x+step/2.,y+K1/2)\n",
    "        return y+K2\n",
    "        \n",
    "    for i in np.arange(1,count):\n",
    "        Y[i] = apply_method(X[i-1],Y[i-1])\n",
    "\n",
    "    plt.figure(figsize = (9,9))\n",
    "    plt.subplot(3,1,1)\n",
    "    plt.plot(X,Y, color = 'blue', label ='approximation')\n",
    "    plt.legend(loc = 'upper left')\n",
    "    if not y is None:\n",
    "        plt.plot(X,y(X),color = 'red', label='real value')\n",
    "        plt.legend(loc = 'upper left')\n",
    "        #plt.subplot(3,1,2)\n",
    "        #L = y(X) - np.roll(y(X),1) - apply_method(np.roll(X,1),np.roll(y(X),1))\n",
    "        #plt.plot(X[1:],np.abs(L[1:]),label = 'local error')\n",
    "        plt.legend(loc = 'upper left')        \n",
    "        plt.subplot(3,1,3)\n",
    "        plt.plot(X,np.abs(Y-y(X)),label ='global error')\n",
    "        plt.legend(loc = 'upper left')\n",
    "    plt.show()"
   ]
  },
  {
   "cell_type": "code",
   "execution_count": 84,
   "metadata": {
    "collapsed": false
   },
   "outputs": [
    {
     "name": "stderr",
     "output_type": "stream",
     "text": [
      "/pio/lscratch/1/os/anaconda/lib/python2.7/site-packages/ipykernel/__main__.py:13: DeprecationWarning: using a non-integer number instead of an integer will result in an error in the future\n"
     ]
    }
   ],
   "source": [
    "runge_kutty(0,1,lambda x,y: np.exp(x),y = lambda x: np.exp(x), step=0.1)"
   ]
  },
  {
   "cell_type": "code",
   "execution_count": 62,
   "metadata": {
    "collapsed": false,
    "scrolled": true
   },
   "outputs": [
    {
     "name": "stderr",
     "output_type": "stream",
     "text": [
      "/pio/lscratch/1/os/anaconda/lib/python2.7/site-packages/ipykernel/__main__.py:7: DeprecationWarning: using a non-integer number instead of an integer will result in an error in the future\n",
      "/pio/lscratch/1/os/anaconda/lib/python2.7/site-packages/ipykernel/__main__.py:8: DeprecationWarning: using a non-integer number instead of an integer will result in an error in the future\n",
      "/pio/lscratch/1/os/anaconda/lib/python2.7/site-packages/ipykernel/__main__.py:9: DeprecationWarning: using a non-integer number instead of an integer will result in an error in the future\n"
     ]
    }
   ],
   "source": [
    "runge_kutty(0,1,lambda t,y: 1-2*t+4*y,lambda t: 9./8.*np.exp(4*t) + t/2. -1./8.,step=0.1)"
   ]
  },
  {
   "cell_type": "code",
   "execution_count": 94,
   "metadata": {
    "collapsed": true
   },
   "outputs": [],
   "source": [
    "class Rkm():\n",
    "    def __init__(self):\n",
    "        self.updates = []\n",
    "    def add_step(self,update_list):\n",
    "        self.updates.append(update_list)\n",
    "    def __call__(self,function,t,y,step):\n",
    "        self.steps = np.zeros_like(self.updates[:-1])\n",
    "        for i,step in enumerate(self.steps):\n",
    "            self.k = np.zeros_like(self.steps)\n",
    "            a,b = step\n",
    "            self.steps[i] = step*function(t+a*step,np.sum(b*self.steps))\n",
    "        _,b = self.updates[-1]\n",
    "        return "
   ]
  },
  {
   "cell_type": "code",
   "execution_count": 96,
   "metadata": {
    "collapsed": false
   },
   "outputs": [
    {
     "data": {
      "text/plain": [
       "[(0.0, array([0, 0])), (0.5, array([ 0.5,  0. ]))]"
      ]
     },
     "execution_count": 96,
     "metadata": {},
     "output_type": "execute_result"
    }
   ],
   "source": [
    "runge = Rkm()\n",
    "runge.add_step((0.0,np.array([0,0])))\n",
    "runge.add_step((0.5,np.array([0.5,0])))\n",
    "runge.updates\n"
   ]
  },
  {
   "cell_type": "code",
   "execution_count": 99,
   "metadata": {
    "collapsed": false
   },
   "outputs": [
    {
     "data": {
      "text/plain": [
       "[1, 2]"
      ]
     },
     "execution_count": 99,
     "metadata": {},
     "output_type": "execute_result"
    }
   ],
   "source": [
    "x=[1,2,3]\n",
    "x[:-1]"
   ]
  },
  {
   "cell_type": "code",
   "execution_count": null,
   "metadata": {
    "collapsed": true
   },
   "outputs": [],
   "source": [
    "def runge_kutty(initial_x, initial_y, dy, y = None, step = 0.1):\n",
    "    count = np.ceil(10.0/step)\n",
    "    X = np.linspace(initial_x,initial_x+10,count)\n",
    "    Y = np.zeros_like(X)\n",
    "    Y[0] = initial_y\n",
    "    for i in np.arange(1,count):\n",
    "        K1 = step*dy(X[i-1],Y[i-1])\n",
    "        K2 = step*dy(X[i-1]+step/2,Y[i-1]+K1/2)\n",
    "        Y[i] = Y[i-1]+K2\n",
    "    plt.figure(figsize = (9,9))\n",
    "    plt.subplot(3,1,1)\n",
    "    plt.plot(X,Y, color = 'blue', label ='approximation')\n",
    "    plt.legend(loc = 'upper left')\n",
    "    if not y is None:\n",
    "        plt.plot(X,y(X),color = 'red', label='real value')\n",
    "        plt.legend(loc = 'upper left')\n",
    "        plt.subplot(3,1,2)\n",
    "        L = y(X) - np.roll(y(X),1)- step*dy(np.roll(X,1),np.roll(y(X),1))\n",
    "        plt.plot(X[1:],np.abs(L[1:]),label = 'local error')\n",
    "        plt.legend(loc = 'upper left')        \n",
    "        plt.subplot(3,1,3)\n",
    "        plt.plot(X,np.abs(Y-y(X)),label ='global error')\n",
    "        plt.legend(loc = 'upper left')\n",
    "    plt.show()"
   ]
  }
 ],
 "metadata": {
  "kernelspec": {
   "display_name": "Python 2",
   "language": "python",
   "name": "python2"
  },
  "language_info": {
   "codemirror_mode": {
    "name": "ipython",
    "version": 2
   },
   "file_extension": ".py",
   "mimetype": "text/x-python",
   "name": "python",
   "nbconvert_exporter": "python",
   "pygments_lexer": "ipython2",
   "version": "2.7.11"
  }
 },
 "nbformat": 4,
 "nbformat_minor": 0
}
