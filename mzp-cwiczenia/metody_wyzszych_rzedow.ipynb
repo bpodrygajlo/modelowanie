{
 "cells": [
  {
   "cell_type": "code",
   "execution_count": 1,
   "metadata": {
    "collapsed": false
   },
   "outputs": [],
   "source": [
    "import numpy as np\n",
    "import matplotlib.pyplot as plt"
   ]
  },
  {
   "cell_type": "code",
   "execution_count": 144,
   "metadata": {
    "collapsed": false
   },
   "outputs": [],
   "source": [
    "class NumericalMethod():\n",
    "    def __init__(self,updates = None):\n",
    "        self.updates = updates\n",
    "        \n",
    "    def add_step(self,update):\n",
    "        if self.updates is None:\n",
    "            self.updates = update\n",
    "        else:\n",
    "            self.updates = np.vstack((self.updates,update))\n",
    "        \n",
    "    @property\n",
    "    def update_count(self):\n",
    "        return self.updates.shape[0]-1\n",
    "    \n",
    "    def __call__(self,function,tn,yn,h):\n",
    "        if self.updates.shape[0] != self.updates.shape[1]:\n",
    "            raise Exception('Update matrix not square')\n",
    "        k = np.zeros(shape=(self.update_count,))\n",
    "        for i in range(self.update_count):\n",
    "            a = self.updates[i,0]\n",
    "            b= self.updates[i,1:]\n",
    "            k[i] = h*function(tn+a*h,np.sum(self.updates[i,1:].dot(k.T)))\n",
    "        b = self.updates[self.update_count,1:]\n",
    "        return yn+b.dot(k.T)"
   ]
  },
  {
   "cell_type": "code",
   "execution_count": 171,
   "metadata": {
    "collapsed": true
   },
   "outputs": [],
   "source": [
    "runge_kutty = NumericalMethod(np.array([[0,0,0],[0.5,0.5,0],[0,0,1.]]))"
   ]
  },
  {
   "cell_type": "code",
   "execution_count": 181,
   "metadata": {
    "collapsed": true
   },
   "outputs": [],
   "source": [
    "def draw_graphs(method, start_x, start_y, dy, y = None, step = 0.1):\n",
    "    count = np.ceil(10.0/step)\n",
    "    X = np.linspace(start_x,start_x+10,count)\n",
    "    Y = np.zeros_like(X)\n",
    "    Y[0] = start_y\n",
    "        \n",
    "    for i in np.arange(1,count):\n",
    "        Y[i] = method(function=dy,tn=X[i-1],yn=Y[i-1],h=step)\n",
    "\n",
    "    plt.figure(figsize = (9,9))\n",
    "    plt.subplot(2,1,1)\n",
    "    plt.plot(X,Y, color = 'blue', label ='approximation')\n",
    "    plt.legend(loc = 'upper left')\n",
    "    if not y is None:\n",
    "        plt.plot(X,y(X),color = 'red', label='real value',linestyle='--')\n",
    "        plt.legend(loc = 'upper left')    \n",
    "        plt.subplot(2,1,2)\n",
    "        plt.plot(X,np.abs(Y-y(X)),label ='global error')\n",
    "        plt.legend(loc = 'upper left')\n",
    "    plt.show()"
   ]
  },
  {
   "cell_type": "code",
   "execution_count": null,
   "metadata": {
    "collapsed": false
   },
   "outputs": [],
   "source": [
    "draw_graphs(runge_kutty, start_x = 0, start_y = 1, dy = lambda t,y: np.exp(t), y = lambda t: np.exp(t),step = 0.1)"
   ]
  },
  {
   "cell_type": "code",
   "execution_count": 168,
   "metadata": {
    "collapsed": true
   },
   "outputs": [],
   "source": [
    "euler = NumericalMethod(np.array([[1,0],[0,1]]))"
   ]
  },
  {
   "cell_type": "code",
   "execution_count": 178,
   "metadata": {
    "collapsed": true
   },
   "outputs": [],
   "source": [
    "draw_graphs(euler, start_x = 0, start_y = 1, dy = lambda t,y: np.exp(t), y = lambda t: np.exp(t),step = 0.1)"
   ]
  }
 ],
 "metadata": {
  "kernelspec": {
   "display_name": "Python 2",
   "language": "python",
   "name": "python2"
  },
  "language_info": {
   "codemirror_mode": {
    "name": "ipython",
    "version": 2
   },
   "file_extension": ".py",
   "mimetype": "text/x-python",
   "name": "python",
   "nbconvert_exporter": "python",
   "pygments_lexer": "ipython2",
   "version": "2.7.11"
  }
 },
 "nbformat": 4,
 "nbformat_minor": 0
}
