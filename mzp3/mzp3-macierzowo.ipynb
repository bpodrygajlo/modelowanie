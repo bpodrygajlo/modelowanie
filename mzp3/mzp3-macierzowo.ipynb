{
 "cells": [
  {
   "cell_type": "code",
   "execution_count": 1,
   "metadata": {
    "collapsed": false
   },
   "outputs": [
    {
     "name": "stdout",
     "output_type": "stream",
     "text": [
      "Populating the interactive namespace from numpy and matplotlib\n"
     ]
    }
   ],
   "source": [
    "%pylab inline"
   ]
  },
  {
   "cell_type": "code",
   "execution_count": 2,
   "metadata": {
    "collapsed": false
   },
   "outputs": [],
   "source": [
    "from numpy.polynomial.polynomial import Polynomial"
   ]
  },
  {
   "cell_type": "code",
   "execution_count": 3,
   "metadata": {
    "collapsed": true
   },
   "outputs": [],
   "source": [
    "poly = Polynomial([1,0,0,0,0,1])"
   ]
  },
  {
   "cell_type": "code",
   "execution_count": 9,
   "metadata": {
    "collapsed": false
   },
   "outputs": [
    {
     "data": {
      "text/plain": [
       "Polynomial([ 0.,  0.,  0.,  0.,  5.], [-1.,  1.], [-1.,  1.])"
      ]
     },
     "execution_count": 9,
     "metadata": {},
     "output_type": "execute_result"
    }
   ],
   "source": [
    "der = poly.deriv()\n",
    "der"
   ]
  },
  {
   "cell_type": "code",
   "execution_count": 11,
   "metadata": {
    "collapsed": false
   },
   "outputs": [
    {
     "data": {
      "text/plain": [
       "array([   5.,   80.,  405.])"
      ]
     },
     "execution_count": 11,
     "metadata": {},
     "output_type": "execute_result"
    }
   ],
   "source": [
    "der(1)\n",
    "x = np.array([1,2,3])\n",
    "der(x)"
   ]
  },
  {
   "cell_type": "code",
   "execution_count": 12,
   "metadata": {
    "collapsed": false
   },
   "outputs": [
    {
     "data": {
      "text/plain": [
       "array([-1.00000000+0.j        , -0.30901699-0.95105652j,\n",
       "       -0.30901699+0.95105652j,  0.80901699-0.58778525j,\n",
       "        0.80901699+0.58778525j])"
      ]
     },
     "execution_count": 12,
     "metadata": {},
     "output_type": "execute_result"
    }
   ],
   "source": [
    "poly.roots()"
   ]
  },
  {
   "cell_type": "code",
   "execution_count": 13,
   "metadata": {
    "collapsed": true
   },
   "outputs": [],
   "source": [
    "def dist(roots,point):\n",
    "    return np.abs(roots-point)"
   ]
  },
  {
   "cell_type": "code",
   "execution_count": 27,
   "metadata": {
    "collapsed": false,
    "scrolled": true
   },
   "outputs": [
    {
     "data": {
      "text/plain": [
       "array([3, 3, 3], dtype=int64)"
      ]
     },
     "execution_count": 27,
     "metadata": {},
     "output_type": "execute_result"
    }
   ],
   "source": [
    "dists = dist(poly.roots(),x[:,np.newaxis])\n",
    "np.min(dists, axis = 1)\n",
    "np.argmin(dists, axis = 1 )"
   ]
  },
  {
   "cell_type": "code",
   "execution_count": 16,
   "metadata": {
    "collapsed": false
   },
   "outputs": [],
   "source": [
    "def get_delta(poly,deriv,point):\n",
    "    return -poly(point)/deriv(point)"
   ]
  },
  {
   "cell_type": "code",
   "execution_count": 89,
   "metadata": {
    "collapsed": false
   },
   "outputs": [
    {
     "data": {
      "text/plain": [
       "array([-0.4       , -0.4125    , -0.60246914])"
      ]
     },
     "execution_count": 89,
     "metadata": {},
     "output_type": "execute_result"
    }
   ],
   "source": [
    "get_delta(poly,der,x)"
   ]
  },
  {
   "cell_type": "code",
   "execution_count": 103,
   "metadata": {
    "collapsed": false
   },
   "outputs": [
    {
     "data": {
      "text/plain": [
       "array([[4, 4, 4],\n",
       "       [4, 4, 4]], dtype=int64)"
      ]
     },
     "execution_count": 103,
     "metadata": {},
     "output_type": "execute_result"
    }
   ],
   "source": [
    "dists = grid[:,:,newaxis]\n",
    "dists\n",
    "dists = dists - poly.roots()\n",
    "np.argmin(dists, axis = 2)"
   ]
  },
  {
   "cell_type": "code",
   "execution_count": 143,
   "metadata": {
    "collapsed": false
   },
   "outputs": [
    {
     "name": "stdout",
     "output_type": "stream",
     "text": [
      "initial dat [[ 2.  3.  4.]\n",
      " [ 1. -2.  3.]]\n",
      "is done [[ 1.  1.  1.]\n",
      " [ 1.  1.  1.]]\n",
      "amout of iterations [[ 0.  0.  0.]\n",
      " [ 0.  0.  0.]]\n",
      "roots [-1.00000000+0.j         -0.30901699-0.95105652j -0.30901699+0.95105652j\n",
      "  0.80901699-0.58778525j  0.80901699+0.58778525j]\n"
     ]
    }
   ],
   "source": [
    "grid = np.array([[2.,3.,4.],[1.,-2.,3.]])\n",
    "print \"initial dat\", grid\n",
    "done = np.ones_like(grid)\n",
    "print \"is done\", done\n",
    "count = np.zeros_like(grid)\n",
    "print \"amout of iterations\", count\n",
    "num = 0\n",
    "print \"roots\", poly.roots()"
   ]
  },
  {
   "cell_type": "code",
   "execution_count": 218,
   "metadata": {
    "collapsed": false
   },
   "outputs": [
    {
     "name": "stdout",
     "output_type": "stream",
     "text": [
      "distances from roots\n",
      "[[[  9.24375515e-08   1.17557056e+00   1.17557056e+00   1.90211312e+00\n",
      "     1.90211312e+00]\n",
      "  [  2.02191985e-09   1.17557051e+00   1.17557051e+00   1.90211303e+00\n",
      "     1.90211303e+00]\n",
      "  [  1.06889660e-06   1.17557113e+00   1.17557113e+00   1.90211405e+00\n",
      "     1.90211405e+00]]\n",
      "\n",
      " [[  1.95630175e-08   1.17557052e+00   1.17557052e+00   1.90211305e+00\n",
      "     1.90211305e+00]\n",
      "  [  2.28289696e-06   1.17557185e+00   1.17557185e+00   1.90211520e+00\n",
      "     1.90211520e+00]\n",
      "  [  2.02191985e-09   1.17557051e+00   1.17557051e+00   1.90211303e+00\n",
      "     1.90211303e+00]]]\n",
      "minimum dostances\n",
      "[[ True  True  True]\n",
      " [ True  True  True]]\n",
      "some are done?\n",
      "[[ 0.  0.  0.]\n",
      " [ 0.  0.  0.]]\n",
      "grid updated\n",
      "[[-1.00000009 -1.         -1.00000107]\n",
      " [-1.00000002 -1.00000228 -1.        ]]\n",
      "update count on not done\n",
      "[ 15.  27.  15.   4.   5.  27.]\n",
      "which is the closes to current solution?\n",
      "[[0 0 0]\n",
      " [0 0 0]]\n"
     ]
    }
   ],
   "source": [
    "\n",
    "dists = np.abs(grid[:,:,newaxis]-poly.roots())\n",
    "print \"distances from roots\"\n",
    "print dists\n",
    "mins = np.min(dists,axis=2)< 1e-5\n",
    "print \"minimum dostances\"\n",
    "print mins\n",
    "done[mins] = 0\n",
    "print \"some are done?\"\n",
    "print done\n",
    "grid[done == 1] += get_delta(poly,der,grid[done == 1])\n",
    "print \"grid updated\"\n",
    "print grid\n",
    "count[~mins] = num\n",
    "print \"update count on not done\"\n",
    "print count[mins]\n",
    "num+=1\n",
    "print \"which is the closes to current solution?\"\n",
    "print np.argmin(dists,axis=2)"
   ]
  },
  {
   "cell_type": "code",
   "execution_count": 268,
   "metadata": {
    "collapsed": false
   },
   "outputs": [],
   "source": [
    "def newton_matrix(poly,deriv,roots,grid,max_num=20,tolerance=1e-5):\n",
    "    done = np.ones_like(grid)\n",
    "    count = np.zeros_like(grid, dtype = float32)\n",
    "    num = 0\n",
    "    while np.sum(done) != 0 and num < max_num:\n",
    "        dists = np.abs(grid[:,:,newaxis]-roots)\n",
    "        mins = np.min(dists,axis=2)<tolerance\n",
    "        done[mins] = 0\n",
    "        grid[done == 1] += get_delta(poly,der,grid[done == 1])\n",
    "        count[~mins] = num\n",
    "        num+=1\n",
    "    dists = np.abs(grid[:,:,newaxis]-roots)\n",
    "    root = np.argmin(dists,axis=2)\n",
    "    return count, root"
   ]
  },
  {
   "cell_type": "code",
   "execution_count": 269,
   "metadata": {
    "collapsed": false
   },
   "outputs": [
    {
     "data": {
      "text/plain": [
       "array([[[ 200.,    0.,  100.],\n",
       "        [   0.,  200.,  100.],\n",
       "        [ 200.,    0.,  100.]],\n",
       "\n",
       "       [[ 200.,    0.,  100.],\n",
       "        [ 100.,    0.,  200.],\n",
       "        [ 200.,    0.,  100.]]])"
      ]
     },
     "execution_count": 269,
     "metadata": {},
     "output_type": "execute_result"
    }
   ],
   "source": [
    "count, root  = newton_matrix(poly,der,poly.roots(),np.array([[1.,2.+2j,3.],[-3.+1j,1.-3j,2.]]),max_num=20,tolerance=1e-3)\n",
    "\n",
    "colors = np.array(\n",
    "            [[200.,0.,100.],\n",
    "             [100.,200.,0.],\n",
    "             [100.,0.,200.],\n",
    "             [200.,100.,0.],\n",
    "             [0.,200.,100.]])\n",
    "colors[root]"
   ]
  },
  {
   "cell_type": "code",
   "execution_count": 298,
   "metadata": {
    "collapsed": false
   },
   "outputs": [],
   "source": [
    "def get_image(poly,deriv=None,roots=None,size = 200,rang = 2., colors = None, center = (0.,0.), rotation = 0.0, printing = False):\n",
    "\n",
    "    if colors is None:\n",
    "        colors = np.array(\n",
    "            [[200.,0.,100.],\n",
    "             [100.,200.,0.],\n",
    "             [100.,0.,200.],\n",
    "             [200.,100.,0.],\n",
    "             [0.,200.,100.]])\n",
    "    \n",
    "    if deriv is None:\n",
    "        deriv = poly.deriv()\n",
    "    \n",
    "    \n",
    "    if roots is None:\n",
    "        roots = poly.roots()\n",
    "\n",
    "    grid = np.mgrid[0:size,0:size]/float(size)*rang - rang/2\n",
    "    grid[0] += center[1]\n",
    "    grid[1] += center[0]\n",
    "    \n",
    "    grid = grid[0] + 1j * grid[1]\n",
    "    grid *= (sin(rotation) + 1j * cos(rotation))\n",
    "    \n",
    "    darken, color = newton_matrix(poly,deriv,roots,grid)\n",
    "             \n",
    "    img = colors[color] - darken[:,:,newaxis]*5.\n",
    "    return img"
   ]
  },
  {
   "cell_type": "code",
   "execution_count": 299,
   "metadata": {
    "collapsed": false
   },
   "outputs": [
    {
     "name": "stderr",
     "output_type": "stream",
     "text": [
      "d:\\anac\\lib\\site-packages\\IPython\\kernel\\__main__.py:2: RuntimeWarning: divide by zero encountered in divide\n",
      "  from IPython.kernel.zmq import kernelapp as app\n",
      "d:\\anac\\lib\\site-packages\\IPython\\kernel\\__main__.py:2: RuntimeWarning: invalid value encountered in divide\n",
      "  from IPython.kernel.zmq import kernelapp as app\n",
      "d:\\anac\\lib\\site-packages\\IPython\\kernel\\__main__.py:7: RuntimeWarning: invalid value encountered in less\n"
     ]
    },
    {
     "data": {
      "image/png": "[encoded data removed]",
      "text/plain": [
       "<matplotlib.figure.Figure at 0xc7ce6d8>"
      ]
     },
     "metadata": {},
     "output_type": "display_data"
    }
   ],
   "source": [
    "size = 1000\n",
    "img = get_image(poly, size = size, rang=4., center = (0,0), rotation= 0, printing = True)\n",
    "imshow(img)\n",
    "name = \"obrazek {0:d}\"\n",
    "imsave(name.format(size),img)"
   ]
  },
  {
   "cell_type": "code",
   "execution_count": 302,
   "metadata": {
    "collapsed": false
   },
   "outputs": [],
   "source": [
    "def save_animation(poly,size,move_x,move_y,zoom,rotation,steps,stepsize):\n",
    "    deriv = poly.deriv()\n",
    "    roots = poly.roots()\n",
    "    t = 0.0\n",
    "    for i in range(steps):\n",
    "        z = zoom(t)\n",
    "        x = move_x(t)\n",
    "        y = move_y(t)\n",
    "        r = rotation(t)\n",
    "        print \"Generating image \", i\n",
    "        img = get_image(poly,deriv = deriv, roots = roots, size = size, rang = z, center = (x,y), rotation = r, printing = True)\n",
    "        imsave('anim_{0:02d}'.format(i),img)\n",
    "        t += stepsize"
   ]
  },
  {
   "cell_type": "code",
   "execution_count": 303,
   "metadata": {
    "collapsed": false
   },
   "outputs": [
    {
     "name": "stderr",
     "output_type": "stream",
     "text": [
      "d:\\anac\\lib\\site-packages\\IPython\\kernel\\__main__.py:2: RuntimeWarning: divide by zero encountered in divide\n",
      "  from IPython.kernel.zmq import kernelapp as app\n",
      "d:\\anac\\lib\\site-packages\\IPython\\kernel\\__main__.py:2: RuntimeWarning: invalid value encountered in divide\n",
      "  from IPython.kernel.zmq import kernelapp as app\n",
      "d:\\anac\\lib\\site-packages\\IPython\\kernel\\__main__.py:7: RuntimeWarning: invalid value encountered in less\n"
     ]
    },
    {
     "name": "stdout",
     "output_type": "stream",
     "text": [
      "Generating image  0\n",
      "Generating image  1\n",
      "Generating image  2\n",
      "Generating image  3\n",
      "Generating image  4\n",
      "Generating image  5\n",
      "Generating image  6\n",
      "Generating image  7\n",
      "Generating image  8\n",
      "Generating image  9\n",
      "Generating image  10\n",
      "Generating image  11\n",
      "Generating image  12\n",
      "Generating image  13\n",
      "Generating image  14\n",
      "Generating image  15\n",
      "Generating image  16\n",
      "Generating image  17\n",
      "Generating image  18\n",
      "Generating image  19\n",
      "Generating image  20\n",
      "Generating image  21\n",
      "Generating image  22\n",
      "Generating image  23\n"
     ]
    },
    {
     "ename": "KeyboardInterrupt",
     "evalue": "",
     "output_type": "error",
     "traceback": [
      "\u001b[1;31m---------------------------------------------------------------------------\u001b[0m",
      "\u001b[1;31mKeyboardInterrupt\u001b[0m                         Traceback (most recent call last)",
      "\u001b[1;32m<ipython-input-303-ce2681ebaa7b>\u001b[0m in \u001b[0;36m<module>\u001b[1;34m()\u001b[0m\n\u001b[0;32m      5\u001b[0m                \u001b[1;32mlambda\u001b[0m \u001b[0mx\u001b[0m\u001b[1;33m:\u001b[0m \u001b[0msin\u001b[0m\u001b[1;33m(\u001b[0m\u001b[0mx\u001b[0m\u001b[1;33m)\u001b[0m\u001b[1;33m+\u001b[0m\u001b[1;36m2\u001b[0m\u001b[1;33m,\u001b[0m\u001b[1;33m\u001b[0m\u001b[0m\n\u001b[0;32m      6\u001b[0m                \u001b[1;32mlambda\u001b[0m \u001b[0mx\u001b[0m\u001b[1;33m:\u001b[0m \u001b[0mx\u001b[0m\u001b[1;33m/\u001b[0m\u001b[1;33m(\u001b[0m\u001b[1;36m2.0\u001b[0m\u001b[1;33m*\u001b[0m\u001b[1;36m3.14\u001b[0m\u001b[1;33m)\u001b[0m\u001b[1;33m,\u001b[0m\u001b[1;33m\u001b[0m\u001b[0m\n\u001b[1;32m----> 7\u001b[1;33m                steps = 100, stepsize = 2*3.14/100)\n\u001b[0m",
      "\u001b[1;32m<ipython-input-302-29c7bdc03c0a>\u001b[0m in \u001b[0;36msave_animation\u001b[1;34m(poly, size, move_x, move_y, zoom, rotation, steps, stepsize)\u001b[0m\n\u001b[0;32m      9\u001b[0m         \u001b[0mr\u001b[0m \u001b[1;33m=\u001b[0m \u001b[0mrotation\u001b[0m\u001b[1;33m(\u001b[0m\u001b[0mt\u001b[0m\u001b[1;33m)\u001b[0m\u001b[1;33m\u001b[0m\u001b[0m\n\u001b[0;32m     10\u001b[0m         \u001b[1;32mprint\u001b[0m \u001b[1;34m\"Generating image \"\u001b[0m\u001b[1;33m,\u001b[0m \u001b[0mi\u001b[0m\u001b[1;33m\u001b[0m\u001b[0m\n\u001b[1;32m---> 11\u001b[1;33m         \u001b[0mimg\u001b[0m \u001b[1;33m=\u001b[0m \u001b[0mget_image\u001b[0m\u001b[1;33m(\u001b[0m\u001b[0mpoly\u001b[0m\u001b[1;33m,\u001b[0m\u001b[0mderiv\u001b[0m \u001b[1;33m=\u001b[0m \u001b[0mderiv\u001b[0m\u001b[1;33m,\u001b[0m \u001b[0mroots\u001b[0m \u001b[1;33m=\u001b[0m \u001b[0mroots\u001b[0m\u001b[1;33m,\u001b[0m \u001b[0msize\u001b[0m \u001b[1;33m=\u001b[0m \u001b[0msize\u001b[0m\u001b[1;33m,\u001b[0m \u001b[0mrang\u001b[0m \u001b[1;33m=\u001b[0m \u001b[0mz\u001b[0m\u001b[1;33m,\u001b[0m \u001b[0mcenter\u001b[0m \u001b[1;33m=\u001b[0m \u001b[1;33m(\u001b[0m\u001b[0mx\u001b[0m\u001b[1;33m,\u001b[0m\u001b[0my\u001b[0m\u001b[1;33m)\u001b[0m\u001b[1;33m,\u001b[0m \u001b[0mrotation\u001b[0m \u001b[1;33m=\u001b[0m \u001b[0mr\u001b[0m\u001b[1;33m,\u001b[0m \u001b[0mprinting\u001b[0m \u001b[1;33m=\u001b[0m \u001b[0mTrue\u001b[0m\u001b[1;33m)\u001b[0m\u001b[1;33m\u001b[0m\u001b[0m\n\u001b[0m\u001b[0;32m     12\u001b[0m         \u001b[0mimsave\u001b[0m\u001b[1;33m(\u001b[0m\u001b[1;34m'anim_{0:02d}'\u001b[0m\u001b[1;33m.\u001b[0m\u001b[0mformat\u001b[0m\u001b[1;33m(\u001b[0m\u001b[0mi\u001b[0m\u001b[1;33m)\u001b[0m\u001b[1;33m,\u001b[0m\u001b[0mimg\u001b[0m\u001b[1;33m)\u001b[0m\u001b[1;33m\u001b[0m\u001b[0m\n\u001b[0;32m     13\u001b[0m         \u001b[0mt\u001b[0m \u001b[1;33m+=\u001b[0m \u001b[0mstepsize\u001b[0m\u001b[1;33m\u001b[0m\u001b[0m\n",
      "\u001b[1;32m<ipython-input-298-34cc1d9a82bd>\u001b[0m in \u001b[0;36mget_image\u001b[1;34m(poly, deriv, roots, size, rang, colors, center, rotation, printing)\u001b[0m\n\u001b[0;32m     24\u001b[0m     \u001b[0mgrid\u001b[0m \u001b[1;33m*=\u001b[0m \u001b[1;33m(\u001b[0m\u001b[0msin\u001b[0m\u001b[1;33m(\u001b[0m\u001b[0mrotation\u001b[0m\u001b[1;33m)\u001b[0m \u001b[1;33m+\u001b[0m \u001b[1;36m1j\u001b[0m \u001b[1;33m*\u001b[0m \u001b[0mcos\u001b[0m\u001b[1;33m(\u001b[0m\u001b[0mrotation\u001b[0m\u001b[1;33m)\u001b[0m\u001b[1;33m)\u001b[0m\u001b[1;33m\u001b[0m\u001b[0m\n\u001b[0;32m     25\u001b[0m \u001b[1;33m\u001b[0m\u001b[0m\n\u001b[1;32m---> 26\u001b[1;33m     \u001b[0mdarken\u001b[0m\u001b[1;33m,\u001b[0m \u001b[0mcolor\u001b[0m \u001b[1;33m=\u001b[0m \u001b[0mnewton_matrix\u001b[0m\u001b[1;33m(\u001b[0m\u001b[0mpoly\u001b[0m\u001b[1;33m,\u001b[0m\u001b[0mderiv\u001b[0m\u001b[1;33m,\u001b[0m\u001b[0mroots\u001b[0m\u001b[1;33m,\u001b[0m\u001b[0mgrid\u001b[0m\u001b[1;33m)\u001b[0m\u001b[1;33m\u001b[0m\u001b[0m\n\u001b[0m\u001b[0;32m     27\u001b[0m \u001b[1;33m\u001b[0m\u001b[0m\n\u001b[0;32m     28\u001b[0m     \u001b[0mimg\u001b[0m \u001b[1;33m=\u001b[0m \u001b[0mcolors\u001b[0m\u001b[1;33m[\u001b[0m\u001b[0mcolor\u001b[0m\u001b[1;33m]\u001b[0m \u001b[1;33m-\u001b[0m \u001b[0mdarken\u001b[0m\u001b[1;33m[\u001b[0m\u001b[1;33m:\u001b[0m\u001b[1;33m,\u001b[0m\u001b[1;33m:\u001b[0m\u001b[1;33m,\u001b[0m\u001b[0mnewaxis\u001b[0m\u001b[1;33m]\u001b[0m\u001b[1;33m*\u001b[0m\u001b[1;36m5.\u001b[0m\u001b[1;33m\u001b[0m\u001b[0m\n",
      "\u001b[1;32m<ipython-input-268-7244a8b9787d>\u001b[0m in \u001b[0;36mnewton_matrix\u001b[1;34m(poly, deriv, roots, grid, max_num, tolerance)\u001b[0m\n\u001b[0;32m      4\u001b[0m     \u001b[0mnum\u001b[0m \u001b[1;33m=\u001b[0m \u001b[1;36m0\u001b[0m\u001b[1;33m\u001b[0m\u001b[0m\n\u001b[0;32m      5\u001b[0m     \u001b[1;32mwhile\u001b[0m \u001b[0mnp\u001b[0m\u001b[1;33m.\u001b[0m\u001b[0msum\u001b[0m\u001b[1;33m(\u001b[0m\u001b[0mdone\u001b[0m\u001b[1;33m)\u001b[0m \u001b[1;33m!=\u001b[0m \u001b[1;36m0\u001b[0m \u001b[1;32mand\u001b[0m \u001b[0mnum\u001b[0m \u001b[1;33m<\u001b[0m \u001b[0mmax_num\u001b[0m\u001b[1;33m:\u001b[0m\u001b[1;33m\u001b[0m\u001b[0m\n\u001b[1;32m----> 6\u001b[1;33m         \u001b[0mdists\u001b[0m \u001b[1;33m=\u001b[0m \u001b[0mnp\u001b[0m\u001b[1;33m.\u001b[0m\u001b[0mabs\u001b[0m\u001b[1;33m(\u001b[0m\u001b[0mgrid\u001b[0m\u001b[1;33m[\u001b[0m\u001b[1;33m:\u001b[0m\u001b[1;33m,\u001b[0m\u001b[1;33m:\u001b[0m\u001b[1;33m,\u001b[0m\u001b[0mnewaxis\u001b[0m\u001b[1;33m]\u001b[0m\u001b[1;33m-\u001b[0m\u001b[0mroots\u001b[0m\u001b[1;33m)\u001b[0m\u001b[1;33m\u001b[0m\u001b[0m\n\u001b[0m\u001b[0;32m      7\u001b[0m         \u001b[0mmins\u001b[0m \u001b[1;33m=\u001b[0m \u001b[0mnp\u001b[0m\u001b[1;33m.\u001b[0m\u001b[0mmin\u001b[0m\u001b[1;33m(\u001b[0m\u001b[0mdists\u001b[0m\u001b[1;33m,\u001b[0m\u001b[0maxis\u001b[0m\u001b[1;33m=\u001b[0m\u001b[1;36m2\u001b[0m\u001b[1;33m)\u001b[0m\u001b[1;33m<\u001b[0m\u001b[0mtolerance\u001b[0m\u001b[1;33m\u001b[0m\u001b[0m\n\u001b[0;32m      8\u001b[0m         \u001b[0mdone\u001b[0m\u001b[1;33m[\u001b[0m\u001b[0mmins\u001b[0m\u001b[1;33m]\u001b[0m \u001b[1;33m=\u001b[0m \u001b[1;36m0\u001b[0m\u001b[1;33m\u001b[0m\u001b[0m\n",
      "\u001b[1;31mKeyboardInterrupt\u001b[0m: "
     ]
    }
   ],
   "source": [
    "save_animation(poly,\n",
    "               256,\n",
    "               lambda x: sin(x),\n",
    "               lambda x: cos(x),\n",
    "               lambda x: sin(x)+2,\n",
    "               lambda x: x/(2.0*3.14),\n",
    "               steps = 100, stepsize = 2*3.14/100)"
   ]
  }
 ],
 "metadata": {
  "kernelspec": {
   "display_name": "Python 2",
   "language": "python",
   "name": "python2"
  },
  "language_info": {
   "codemirror_mode": {
    "name": "ipython",
    "version": 2
   },
   "file_extension": ".py",
   "mimetype": "text/x-python",
   "name": "python",
   "nbconvert_exporter": "python",
   "pygments_lexer": "ipython2",
   "version": "2.7.11"
  }
 },
 "nbformat": 4,
 "nbformat_minor": 0
}
