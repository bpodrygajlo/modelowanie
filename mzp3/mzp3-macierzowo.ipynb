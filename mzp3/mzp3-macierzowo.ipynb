{
 "cells": [
  {
   "cell_type": "code",
   "execution_count": 1,
   "metadata": {
    "collapsed": false
   },
   "outputs": [
    {
     "name": "stdout",
     "output_type": "stream",
     "text": [
      "Populating the interactive namespace from numpy and matplotlib\n"
     ]
    }
   ],
   "source": [
    "%pylab inline"
   ]
  },
  {
   "cell_type": "code",
   "execution_count": 2,
   "metadata": {
    "collapsed": false
   },
   "outputs": [],
   "source": [
    "from numpy.polynomial.polynomial import Polynomial"
   ]
  },
  {
   "cell_type": "code",
   "execution_count": 3,
   "metadata": {
    "collapsed": true
   },
   "outputs": [],
   "source": [
    "poly = Polynomial([1,0,0,0,0,1])"
   ]
  },
  {
   "cell_type": "code",
   "execution_count": 4,
   "metadata": {
    "collapsed": false
   },
   "outputs": [
    {
     "data": {
      "text/plain": [
       "Polynomial([ 0.,  0.,  0.,  0.,  5.], [-1.,  1.], [-1.,  1.])"
      ]
     },
     "execution_count": 4,
     "metadata": {},
     "output_type": "execute_result"
    }
   ],
   "source": [
    "der = poly.deriv()\n",
    "der"
   ]
  },
  {
   "cell_type": "code",
   "execution_count": 5,
   "metadata": {
    "collapsed": false
   },
   "outputs": [
    {
     "data": {
      "text/plain": [
       "array([   5.,   80.,  405.])"
      ]
     },
     "execution_count": 5,
     "metadata": {},
     "output_type": "execute_result"
    }
   ],
   "source": [
    "der(1)\n",
    "x = np.array([1,2,3])\n",
    "der(x)"
   ]
  },
  {
   "cell_type": "code",
   "execution_count": 6,
   "metadata": {
    "collapsed": false
   },
   "outputs": [
    {
     "data": {
      "text/plain": [
       "array([-1.00000000+0.j        , -0.30901699-0.95105652j,\n",
       "       -0.30901699+0.95105652j,  0.80901699-0.58778525j,\n",
       "        0.80901699+0.58778525j])"
      ]
     },
     "execution_count": 6,
     "metadata": {},
     "output_type": "execute_result"
    }
   ],
   "source": [
    "poly.roots()"
   ]
  },
  {
   "cell_type": "code",
   "execution_count": 7,
   "metadata": {
    "collapsed": true
   },
   "outputs": [],
   "source": [
    "def dist(roots,point):\n",
    "    return np.abs(roots-point)"
   ]
  },
  {
   "cell_type": "code",
   "execution_count": 8,
   "metadata": {
    "collapsed": false,
    "scrolled": true
   },
   "outputs": [
    {
     "data": {
      "text/plain": [
       "array([3, 3, 3], dtype=int64)"
      ]
     },
     "execution_count": 8,
     "metadata": {},
     "output_type": "execute_result"
    }
   ],
   "source": [
    "dists = dist(poly.roots(),x[:,np.newaxis])\n",
    "np.min(dists, axis = 1)\n",
    "np.argmin(dists, axis = 1 )"
   ]
  },
  {
   "cell_type": "code",
   "execution_count": 9,
   "metadata": {
    "collapsed": false
   },
   "outputs": [],
   "source": [
    "def get_delta(poly,deriv,point):\n",
    "    return -poly(point)/deriv(point)"
   ]
  },
  {
   "cell_type": "code",
   "execution_count": 10,
   "metadata": {
    "collapsed": false
   },
   "outputs": [
    {
     "data": {
      "text/plain": [
       "array([-0.4       , -0.4125    , -0.60246914])"
      ]
     },
     "execution_count": 10,
     "metadata": {},
     "output_type": "execute_result"
    }
   ],
   "source": [
    "get_delta(poly,der,x)"
   ]
  },
  {
   "cell_type": "code",
   "execution_count": 11,
   "metadata": {
    "collapsed": false
   },
   "outputs": [
    {
     "data": {
      "text/plain": [
       "array([[4, 4, 4],\n",
       "       [4, 4, 4]], dtype=int64)"
      ]
     },
     "execution_count": 11,
     "metadata": {},
     "output_type": "execute_result"
    }
   ],
   "source": [
    "grid = np.array([[2.,3.,4.],[1.,-2.,3.]])\n",
    "dists = grid[:,:,newaxis]\n",
    "dists\n",
    "dists = dists - poly.roots()\n",
    "np.argmin(dists, axis = 2)"
   ]
  },
  {
   "cell_type": "markdown",
   "metadata": {},
   "source": [
    "Setup initial data"
   ]
  },
  {
   "cell_type": "code",
   "execution_count": 12,
   "metadata": {
    "collapsed": false
   },
   "outputs": [
    {
     "name": "stdout",
     "output_type": "stream",
     "text": [
      "initial data\n",
      "[[ 2.  3.  4.]\n",
      " [ 1. -2.  3.]]\n",
      "is done\n",
      "[[ 1.  1.  1.]\n",
      " [ 1.  1.  1.]]\n",
      "amout of iterations\n",
      "[[ 0.  0.  0.]\n",
      " [ 0.  0.  0.]]\n",
      "roots\n",
      "[-1.00000000+0.j         -0.30901699-0.95105652j -0.30901699+0.95105652j\n",
      "  0.80901699-0.58778525j  0.80901699+0.58778525j]\n"
     ]
    }
   ],
   "source": [
    "grid = np.array([[2.,3.,4.],[1.,-2.,3.]])\n",
    "print \"initial data\"\n",
    "print grid\n",
    "done = np.ones_like(grid)\n",
    "print \"is done\"\n",
    "print done\n",
    "count = np.zeros_like(grid)\n",
    "print \"amout of iterations\"\n",
    "print count\n",
    "num = 0\n",
    "print \"roots\"\n",
    "print poly.roots()"
   ]
  },
  {
   "cell_type": "markdown",
   "metadata": {},
   "source": [
    "Run this cell X times to see how the loop works"
   ]
  },
  {
   "cell_type": "code",
   "execution_count": 13,
   "metadata": {
    "collapsed": false
   },
   "outputs": [
    {
     "name": "stdout",
     "output_type": "stream",
     "text": [
      "distances from roots\n",
      "[[[ 3.          2.49721204  2.49721204  1.32813103  1.32813103]\n",
      "  [ 4.          3.44297865  3.44297865  2.26845719  2.26845719]\n",
      "  [ 5.          4.41272432  4.41272432  3.24466702  3.24466702]]\n",
      "\n",
      " [[ 2.          1.61803399  1.61803399  0.61803399  0.61803399]\n",
      "  [ 1.          1.94008557  1.94008557  2.86985504  2.86985504]\n",
      "  [ 4.          3.44297865  3.44297865  2.26845719  2.26845719]]]\n",
      "tolerance reached?\n",
      "[[False False False]\n",
      " [False False False]]\n",
      "some are done?\n",
      "[[ 1.  1.  1.]\n",
      " [ 1.  1.  1.]]\n",
      "grid updated\n",
      "[[ 1.5875      2.39753086  3.19921875]\n",
      " [ 0.6        -1.6125      2.39753086]]\n",
      "update count on not done\n",
      "[]\n",
      "which root is the closes to current solution?\n",
      "[[3 3 3]\n",
      " [3 0 3]]\n"
     ]
    }
   ],
   "source": [
    "dists = np.abs(grid[:,:,newaxis]-poly.roots())\n",
    "print \"distances from roots\"\n",
    "print dists\n",
    "mins = np.min(dists,axis=2)< 1e-5\n",
    "print \"tolerance reached?\"\n",
    "print mins\n",
    "done[mins] = 0\n",
    "print \"some are done?\"\n",
    "print done\n",
    "grid[done == 1] += get_delta(poly,der,grid[done == 1])\n",
    "print \"grid updated\"\n",
    "print grid\n",
    "count[~mins] = num\n",
    "print \"update count on not done\"\n",
    "print count[mins]\n",
    "num+=1\n",
    "print \"which root is the closes to current solution?\"\n",
    "print np.argmin(dists,axis=2)"
   ]
  },
  {
   "cell_type": "code",
   "execution_count": 14,
   "metadata": {
    "collapsed": false
   },
   "outputs": [],
   "source": [
    "def newton_matrix(poly,deriv,roots,grid,max_num=20,tolerance=1e-5):\n",
    "    done = np.ones_like(grid)\n",
    "    count = np.zeros_like(grid, dtype = float32)\n",
    "    num = 0\n",
    "    while np.sum(done) != 0 and num < max_num:\n",
    "        dists = np.abs(grid[:,:,newaxis]-roots)\n",
    "        mins = np.min(dists,axis=2)<tolerance\n",
    "        done[mins] = 0\n",
    "        grid[done == 1] += get_delta(poly,der,grid[done == 1])\n",
    "        count[~mins] = num\n",
    "        num+=1\n",
    "    dists = np.abs(grid[:,:,newaxis]-roots)\n",
    "    root = np.argmin(dists,axis=2)\n",
    "    return count, root"
   ]
  },
  {
   "cell_type": "code",
   "execution_count": 15,
   "metadata": {
    "collapsed": false
   },
   "outputs": [
    {
     "data": {
      "text/plain": [
       "array([[[ 200.,    0.,  100.],\n",
       "        [   0.,  200.,  100.],\n",
       "        [ 200.,    0.,  100.]],\n",
       "\n",
       "       [[ 200.,    0.,  100.],\n",
       "        [ 100.,    0.,  200.],\n",
       "        [ 200.,    0.,  100.]]])"
      ]
     },
     "execution_count": 15,
     "metadata": {},
     "output_type": "execute_result"
    }
   ],
   "source": [
    "count, root  = newton_matrix(poly,der,poly.roots(),np.array([[1.,2.+2j,3.],[-3.+1j,1.-3j,2.]]),max_num=20,tolerance=1e-3)\n",
    "\n",
    "colors = np.array(\n",
    "            [[200.,0.,100.],\n",
    "             [100.,200.,0.],\n",
    "             [100.,0.,200.],\n",
    "             [200.,100.,0.],\n",
    "             [0.,200.,100.]])\n",
    "colors[root]"
   ]
  },
  {
   "cell_type": "code",
   "execution_count": 16,
   "metadata": {
    "collapsed": false
   },
   "outputs": [],
   "source": [
    "def get_image(poly,deriv=None,roots=None,size = 200,rang = 2., colors = None, center = (0.,0.), rotation = 0.0, printing = False):\n",
    "\n",
    "    if colors is None:\n",
    "        colors = np.array(\n",
    "            [[200.,0.,100.],\n",
    "             [100.,200.,0.],\n",
    "             [100.,0.,200.],\n",
    "             [200.,100.,0.],\n",
    "             [0.,200.,100.]])\n",
    "    \n",
    "    if deriv is None:\n",
    "        deriv = poly.deriv()\n",
    "    \n",
    "    \n",
    "    if roots is None:\n",
    "        roots = poly.roots()\n",
    "\n",
    "    grid = np.mgrid[0:size,0:size]/float(size)*rang - rang/2\n",
    "    grid[0] += center[1]\n",
    "    grid[1] += center[0]\n",
    "    \n",
    "    grid = grid[0] + 1j * grid[1]\n",
    "    grid *= (sin(rotation) + 1j * cos(rotation))\n",
    "    \n",
    "    darken, color = newton_matrix(poly,deriv,roots,grid)\n",
    "             \n",
    "    img = colors[color] - darken[:,:,newaxis]*5.\n",
    "    return img"
   ]
  },
  {
   "cell_type": "code",
   "execution_count": 17,
   "metadata": {
    "collapsed": false
   },
   "outputs": [
    {
     "name": "stderr",
     "output_type": "stream",
     "text": [
      "d:\\anac\\lib\\site-packages\\IPython\\kernel\\__main__.py:2: RuntimeWarning: divide by zero encountered in divide\n",
      "  from IPython.kernel.zmq import kernelapp as app\n",
      "d:\\anac\\lib\\site-packages\\IPython\\kernel\\__main__.py:2: RuntimeWarning: invalid value encountered in divide\n",
      "  from IPython.kernel.zmq import kernelapp as app\n",
      "d:\\anac\\lib\\site-packages\\numpy\\polynomial\\_polybase.py:292: RuntimeWarning: invalid value encountered in multiply\n",
      "  arg = off + scl*arg\n",
      "d:\\anac\\lib\\site-packages\\IPython\\kernel\\__main__.py:7: RuntimeWarning: invalid value encountered in less\n"
     ]
    },
    {
     "data": {
      "image/png": "[encoded data removed]",
      "text/plain": [
       "<matplotlib.figure.Figure at 0xa5bcba8>"
      ]
     },
     "metadata": {},
     "output_type": "display_data"
    }
   ],
   "source": [
    "size = 100\n",
    "img = get_image(poly, size = size, rang=4., center = (0,0), rotation= 0, printing = True)\n",
    "imshow(img)\n",
    "name = \"obrazek {0:d}\"\n",
    "imsave(name.format(size),img)"
   ]
  },
  {
   "cell_type": "code",
   "execution_count": 18,
   "metadata": {
    "collapsed": false
   },
   "outputs": [],
   "source": [
    "def save_animation(poly,size,move_x,move_y,zoom,rotation,steps,stepsize):\n",
    "    deriv = poly.deriv()\n",
    "    roots = poly.roots()\n",
    "    t = 0.0\n",
    "    plt.ion()\n",
    "    for i in range(steps):\n",
    "        z = zoom(t)\n",
    "        x = move_x(t)\n",
    "        y = move_y(t)\n",
    "        r = rotation(t)\n",
    "        print \".\",\n",
    "        img = get_image(poly,deriv = deriv, roots = roots, size = size, rang = z, center = (x,y), rotation = r, printing = True)\n",
    "        imsave('anim_{0:03d}'.format(i),img)\n",
    "        t += stepsize\n",
    "    plt.show()"
   ]
  },
  {
   "cell_type": "code",
   "execution_count": 19,
   "metadata": {
    "collapsed": false
   },
   "outputs": [
    {
     "name": "stdout",
     "output_type": "stream",
     "text": [
      ". . . . . . . . . . . . . . . . . . . . . . . . . . . . . . . . . . . . . . . . . . . . . . . . . . . . . . . . . . . . . . . . . . . . . . . . . . . . . . . . . . . . . . . . . . . . . . . . . . . .\n"
     ]
    }
   ],
   "source": [
    "save_animation(poly,\n",
    "               256,\n",
    "               lambda x: 0.01,\n",
    "               lambda x: -1,\n",
    "               lambda x: sin(x+3.14)+1.01,\n",
    "               lambda x: x,\n",
    "               steps = 100, stepsize = 2*3.14/100)"
   ]
  },
  {
   "cell_type": "code",
   "execution_count": 20,
   "metadata": {
    "collapsed": false
   },
   "outputs": [],
   "source": [
    "def save_animation_poly_change(poly_fun,size,move_x,move_y,zoom,rotation,steps,stepsize):\n",
    "    t = 0.0\n",
    "    plt.ion()\n",
    "    for i in range(steps):\n",
    "        poly = Polynomial(poly_fun(t))\n",
    "        deriv = poly.deriv()\n",
    "        roots = poly.roots()\n",
    "        z = zoom(t)\n",
    "        x = move_x(t)\n",
    "        y = move_y(t)\n",
    "        r = rotation(t)\n",
    "        print \".\",\n",
    "        img = get_image(poly,deriv = deriv, roots = roots, size = size, rang = z, center = (x,y), rotation = r, printing = True)\n",
    "        imsave('anim_{0:03d}'.format(i),img)\n",
    "        t += stepsize"
   ]
  },
  {
   "cell_type": "code",
   "execution_count": 26,
   "metadata": {
    "collapsed": true
   },
   "outputs": [],
   "source": [
    "def polyfun(x):\n",
    "    return [1,0,2*cos(3*x),0,0,1]"
   ]
  },
  {
   "cell_type": "code",
   "execution_count": 27,
   "metadata": {
    "collapsed": false
   },
   "outputs": [
    {
     "name": "stdout",
     "output_type": "stream",
     "text": [
      ". . . . . . . . . . . . . . . . . . . . . . . . . . . . . . . . . . . . . . . . . . . . . . . . . . . . . . . . . . . . . . . . . . . . . . . . . . . . . . . . . . . . . . . . . . . . . . . . . . . .\n"
     ]
    }
   ],
   "source": [
    "save_animation_poly_change(polyfun,\n",
    "                           256,\n",
    "                           lambda x: 0,\n",
    "                           lambda x: 0,\n",
    "                           lambda x: 5,\n",
    "                           lambda x: 1,\n",
    "                           steps = 100,\n",
    "                           stepsize = 2*3.14/100)"
   ]
  }
 ],
 "metadata": {
  "kernelspec": {
   "display_name": "Python 2",
   "language": "python",
   "name": "python2"
  },
  "language_info": {
   "codemirror_mode": {
    "name": "ipython",
    "version": 2
   },
   "file_extension": ".py",
   "mimetype": "text/x-python",
   "name": "python",
   "nbconvert_exporter": "python",
   "pygments_lexer": "ipython2",
   "version": "2.7.11"
  }
 },
 "nbformat": 4,
 "nbformat_minor": 0
}
