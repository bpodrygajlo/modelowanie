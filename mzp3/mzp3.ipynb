{
 "cells": [
  {
   "cell_type": "code",
   "execution_count": 1,
   "metadata": {
    "collapsed": false
   },
   "outputs": [
    {
     "name": "stdout",
     "output_type": "stream",
     "text": [
      "Populating the interactive namespace from numpy and matplotlib\n"
     ]
    }
   ],
   "source": [
    "%pylab inline"
   ]
  },
  {
   "cell_type": "code",
   "execution_count": 2,
   "metadata": {
    "collapsed": true
   },
   "outputs": [],
   "source": [
    "import sys"
   ]
  },
  {
   "cell_type": "code",
   "execution_count": 3,
   "metadata": {
    "collapsed": false
   },
   "outputs": [],
   "source": [
    "from numpy.polynomial.polynomial import Polynomial"
   ]
  },
  {
   "cell_type": "code",
   "execution_count": 4,
   "metadata": {
    "collapsed": true
   },
   "outputs": [],
   "source": [
    "poly = Polynomial([1,0,0,0,0,1])"
   ]
  },
  {
   "cell_type": "code",
   "execution_count": 5,
   "metadata": {
    "collapsed": false
   },
   "outputs": [
    {
     "data": {
      "text/plain": [
       "Polynomial([ 0.,  0.,  0.,  0.,  5.], [-1.,  1.], [-1.,  1.])"
      ]
     },
     "execution_count": 5,
     "metadata": {},
     "output_type": "execute_result"
    }
   ],
   "source": [
    "der = poly.deriv()\n",
    "der"
   ]
  },
  {
   "cell_type": "code",
   "execution_count": 6,
   "metadata": {
    "collapsed": false
   },
   "outputs": [
    {
     "data": {
      "text/plain": [
       "array([-1.00000000+0.j        , -0.30901699-0.95105652j,\n",
       "       -0.30901699+0.95105652j,  0.80901699-0.58778525j,\n",
       "        0.80901699+0.58778525j])"
      ]
     },
     "execution_count": 6,
     "metadata": {},
     "output_type": "execute_result"
    }
   ],
   "source": [
    "poly.roots()"
   ]
  },
  {
   "cell_type": "code",
   "execution_count": 7,
   "metadata": {
    "collapsed": true
   },
   "outputs": [],
   "source": [
    "def dist(roots,point):\n",
    "    return np.abs(roots-point)"
   ]
  },
  {
   "cell_type": "code",
   "execution_count": 8,
   "metadata": {
    "collapsed": false,
    "scrolled": true
   },
   "outputs": [
    {
     "data": {
      "text/plain": [
       "array([ 2.23606798,  2.34949931,  1.30993166,  1.59922998,  0.45430772])"
      ]
     },
     "execution_count": 8,
     "metadata": {},
     "output_type": "execute_result"
    }
   ],
   "source": [
    "dist(poly.roots(),1+1j)"
   ]
  },
  {
   "cell_type": "code",
   "execution_count": 9,
   "metadata": {
    "collapsed": true
   },
   "outputs": [],
   "source": [
    "def get_jacobian(deriv,point):\n",
    "    value = deriv(point)\n",
    "    return np.array([[np.real(value),np.imag(value)],\n",
    "                     [np.imag(value),np.real(value)]])"
   ]
  },
  {
   "cell_type": "code",
   "execution_count": 10,
   "metadata": {
    "collapsed": true
   },
   "outputs": [],
   "source": [
    "def get_coeffs(poly,point):\n",
    "    value = poly(point)\n",
    "    return np.array([np.real(value),np.imag(value)])"
   ]
  },
  {
   "cell_type": "code",
   "execution_count": 11,
   "metadata": {
    "collapsed": false
   },
   "outputs": [],
   "source": [
    "def get_delta(poly,deriv,point):\n",
    "    return -poly(point)/deriv(point)"
   ]
  },
  {
   "cell_type": "code",
   "execution_count": 12,
   "metadata": {
    "collapsed": true
   },
   "outputs": [],
   "source": [
    "def newton(poly,deriv,roots,start,max_num=50,tolerance=1e-3):\n",
    "    num = 0\n",
    "    point = start\n",
    "    min_dist = np.inf\n",
    "    min_root = -1\n",
    "    for i in range(max_num):\n",
    "        dists = dist(roots,point)\n",
    "        min_dist = min(dists)\n",
    "        min_root = argmin(dists)\n",
    "        if min_dist < tolerance:\n",
    "            break\n",
    "        point += get_delta(poly,deriv,point)\n",
    "        num += 1\n",
    "    return num, min_root, min_dist\n",
    "        "
   ]
  },
  {
   "cell_type": "code",
   "execution_count": 13,
   "metadata": {
    "collapsed": false
   },
   "outputs": [],
   "source": [
    "def get_image(poly,deriv=None,roots=None,size = 200,rang = 2., colors = None, center = (0.,0.), rotation = 0.0, printing = False):\n",
    "    if printing:\n",
    "        print '|',\n",
    "        for i in range(4):\n",
    "            print '---------------', (i+1)*20, '%',\n",
    "        print '--------------- |'\n",
    "        print '|',\n",
    "    img = np.zeros(shape=(size,size,3),dtype = float)\n",
    "    \n",
    "\n",
    "    if colors is None:\n",
    "        colors = np.array(\n",
    "            [[200.,0.,100.],\n",
    "             [100.,200.,0.],\n",
    "             [100.,0.,200.],\n",
    "             [200.,100.,0.],\n",
    "             [0.,200.,100.]])\n",
    "    \n",
    "    if deriv is None:\n",
    "        deriv = poly.deriv()\n",
    "    \n",
    "    \n",
    "    if roots is None:\n",
    "        roots = poly.roots()\n",
    "\n",
    "    for i in range(size):\n",
    "        for j in range(size):\n",
    "            point = float(i)/size*rang-rang/2. - center[1] + 1j* (float(j)/size*rang-rang/2. + center[0])\n",
    "            darken, color, min_dist = newton(poly,deriv,roots,complex64(point*(sin(rotation) + 1j * cos(rotation))),tolerance=1e-3)\n",
    "            img[i,j] = colors[color] - darken*5.0\n",
    "        if (i+1) % (size/50) == 0 and printing:\n",
    "            print \"#\",\n",
    "        \n",
    "    if printing:\n",
    "        print '|'\n",
    "    return img"
   ]
  },
  {
   "cell_type": "code",
   "execution_count": 14,
   "metadata": {
    "collapsed": false
   },
   "outputs": [
    {
     "name": "stdout",
     "output_type": "stream",
     "text": [
      "| --------------- 20 % --------------- 40 % --------------- 60 % --------------- 80 % --------------- |\n",
      "| # # # # # # # # # # # # # # # # # # # # # # # # "
     ]
    },
    {
     "name": "stderr",
     "output_type": "stream",
     "text": [
      "d:\\anac\\lib\\site-packages\\IPython\\kernel\\__main__.py:2: RuntimeWarning: divide by zero encountered in cdouble_scalars\n",
      "  from IPython.kernel.zmq import kernelapp as app\n",
      "d:\\anac\\lib\\site-packages\\IPython\\kernel\\__main__.py:2: RuntimeWarning: invalid value encountered in cdouble_scalars\n",
      "  from IPython.kernel.zmq import kernelapp as app\n",
      "d:\\anac\\lib\\site-packages\\numpy\\polynomial\\_polybase.py:292: RuntimeWarning: invalid value encountered in multiply\n",
      "  arg = off + scl*arg\n"
     ]
    },
    {
     "name": "stdout",
     "output_type": "stream",
     "text": [
      "# # # # # # # # # # # # # # # # # # # # # # # # # # |\n"
     ]
    },
    {
     "data": {
      "image/png": "[encoded data removed]",
      "text/plain": [
       "<matplotlib.figure.Figure at 0xa080860>"
      ]
     },
     "metadata": {},
     "output_type": "display_data"
    }
   ],
   "source": [
    "size = 1000\n",
    "img = get_image(poly, size = size, rang=4., center = (0,0), rotation= 0, printing = True)\n",
    "imshow(img)\n",
    "name = \"obrazek {0:d}\"\n",
    "imsave(name.format(size),img)"
   ]
  },
  {
   "cell_type": "code",
   "execution_count": 15,
   "metadata": {
    "collapsed": false
   },
   "outputs": [],
   "source": [
    "def save_animation(poly,size,move_x,move_y,zoom,rotation,steps,stepsize):\n",
    "    deriv = poly.deriv()\n",
    "    roots = poly.roots()\n",
    "    t = 0.0\n",
    "    for i in range(steps):\n",
    "        z = zoom(t)\n",
    "        x = move_x(t)\n",
    "        y = move_y(t)\n",
    "        r = rotation(t)\n",
    "        print \"Generating image \", i\n",
    "        img = get_image(poly,deriv = deriv, roots = roots, size = size, rang = z, center = (x,y), rotation = r, printing = True)\n",
    "        imsave('anim_{0:d}'.format(i),img)\n",
    "        t += stepsize"
   ]
  },
  {
   "cell_type": "code",
   "execution_count": 17,
   "metadata": {
    "collapsed": false
   },
   "outputs": [
    {
     "name": "stdout",
     "output_type": "stream",
     "text": [
      " Generating image  0\n",
      "| --------------- 20 % --------------- 40 % --------------- 60 % --------------- 80 % --------------- |\n",
      "| # # # # # # # # # # # # # # # # # # # # # # # # # # # # # # # # # # # # # # # # # # # # # # # # # # # |\n",
      "Generating image  1\n",
      "| --------------- 20 % --------------- 40 % --------------- 60 % --------------- 80 % --------------- |\n",
      "| # # # # # # # # # # # # # # # # # # # # # # # # # # # # # # # # # # # # # # # # # # # # # # # # # # # |\n",
      "Generating image  2\n",
      "| --------------- 20 % --------------- 40 % --------------- 60 % --------------- 80 % --------------- |\n",
      "| # # # # # # # # # # # # # # # # # # # # # # # # # # # # # # # # # # # # # # # # # # # # # # # # # # # |\n",
      "Generating image  3\n",
      "| --------------- 20 % --------------- 40 % --------------- 60 % --------------- 80 % --------------- |\n",
      "| # # # # # # # # # # # # # # # # # # # # # # # # # # # # # # # # # # # # # # # # # # # # # # # # # # # |\n",
      "Generating image  4\n",
      "| --------------- 20 % --------------- 40 % --------------- 60 % --------------- 80 % --------------- |\n",
      "| # # # # # # # # # # # # # # # # # # # # # # # # # # # # # # # # # # # # # # # # # # # # # # # # # # # |\n",
      "Generating image  5\n",
      "| --------------- 20 % --------------- 40 % --------------- 60 % --------------- 80 % --------------- |\n",
      "| # # # # # # # # # # # # # # # # # # # # # # # # # # # # # # # # # # # # # # # # # # # # # # # # # # # |\n",
      "Generating image  6\n",
      "| --------------- 20 % --------------- 40 % --------------- 60 % --------------- 80 % --------------- |\n",
      "| # # # # # # # # # # # # # # # # # # # # # # # # # # # # # # # # # # # # # # # # # # # # # # # # # # # |\n",
      "Generating image  7\n",
      "| --------------- 20 % --------------- 40 % --------------- 60 % --------------- 80 % --------------- |\n",
      "| # # # # # # # # # # # # # # # # # # # # # # # # # # # # # # # # # # # # # # # # # # # # # # # # # # # |\n",
      "Generating image  8\n",
      "| --------------- 20 % --------------- 40 % --------------- 60 % --------------- 80 % --------------- |\n",
      "| # # # # # # # # # # # # # # # # # # # # # # # # # # # # # # # # # # # # # # # # # # # # # # # # # # # |\n",
      "Generating image  9\n",
      "| --------------- 20 % --------------- 40 % --------------- 60 % --------------- 80 % --------------- |\n",
      "| # # # # # # # # # # # # # # # # # # # # # # # # # # # # # # # # # # # # # # # # # # # # # # # # # # # |\n",
      "Generating image  10\n",
      "| --------------- 20 % --------------- 40 % --------------- 60 % --------------- 80 % --------------- |\n",
      "| # # # # # # # # # # # # # # # # # # # # # # # # # # # # # # # # # # # # # # # # # # # # # # # # # # # |\n",
      "Generating image  11\n",
      "| --------------- 20 % --------------- 40 % --------------- 60 % --------------- 80 % --------------- |\n",
      "| # # # # # # # # # # # # # # # # # # # # # # # # # # # # # # # # # # # # # # # # # # # # # # # # # # # |\n",
      "Generating image  12\n",
      "| --------------- 20 % --------------- 40 % --------------- 60 % --------------- 80 % --------------- |\n",
      "| # # # # # # # # # # # # # # # # # # # # # # # # # # # # # # # # # # # # # # # # # # # # # # # # # # # |\n",
      "Generating image  13\n",
      "| --------------- 20 % --------------- 40 % --------------- 60 % --------------- 80 % --------------- |\n",
      "| # # # # # # # # # # # # # # # # # # # # # # # # # # # # # # # # # # # # # # # # # # # # # # # # # # # |\n",
      "Generating image  14\n",
      "| --------------- 20 % --------------- 40 % --------------- 60 % --------------- 80 % --------------- |\n",
      "| # # # # # # # # # # # # # # # # # # # # # # # # # # # # # # # # # # # # # # # # # # # # # # # # # # # |\n",
      "Generating image  15\n",
      "| --------------- 20 % --------------- 40 % --------------- 60 % --------------- 80 % --------------- |\n",
      "| # # # # # # # # # # # # # # # # # # # # # # # # # # # # # # # # # # # # # # # # # # # # # # # # # # # |\n",
      "Generating image  16\n",
      "| --------------- 20 % --------------- 40 % --------------- 60 % --------------- 80 % --------------- |\n",
      "| # # # # # # # # # # # # # # # # # # # # # # # # # # # # # # # # # # # # # # # # # # # # # # # # # # # |\n",
      "Generating image  17\n",
      "| --------------- 20 % --------------- 40 % --------------- 60 % --------------- 80 % --------------- |\n",
      "| # # # # # # # # # # # # # # # # # # # # # # # # # # # # # # # # # # # # # # # # # # # # # # # # # # # |\n",
      "Generating image  18\n",
      "| --------------- 20 % --------------- 40 % --------------- 60 % --------------- 80 % --------------- |\n",
      "| # # # # # # # # # # # # # # # # # # # # # # # # # # # # # # # # # # # # # # # # # # # # # # # # # # # |\n",
      "Generating image  19\n",
      "| --------------- 20 % --------------- 40 % --------------- 60 % --------------- 80 % --------------- |\n",
      "| # # # # # # # # # # # # # # # # # # # # # # # # # # # # # # # # # # # # # # # # # # # # # # # # # # # |\n",
      "Generating image  20\n",
      "| --------------- 20 % --------------- 40 % --------------- 60 % --------------- 80 % --------------- |\n",
      "| # # # # # # # # # # # # # # # # # # # # # # # # # # # # # # # # # # # # # # # # # # # # # # # # # # # |\n",
      "Generating image  21\n",
      "| --------------- 20 % --------------- 40 % --------------- 60 % --------------- 80 % --------------- |\n",
      "| # # # # # # # # # # # # # # # # # # # # # # # # # # # # # # # # # # # # # # # # # # # # # # # # # # # |\n",
      "Generating image  22\n",
      "| --------------- 20 % --------------- 40 % --------------- 60 % --------------- 80 % --------------- |\n",
      "| # # # # # # # # # # # # # # # # # # # # # # # # # # # # # # # # # # # # # # # # # # # # # # # # # # # |\n",
      "Generating image  23\n",
      "| --------------- 20 % --------------- 40 % --------------- 60 % --------------- 80 % --------------- |\n",
      "| # # # # # # # # # # # # # # # # # # # # # # # # # # # # # # # # # # # # # # # # # # # # # # # # # # # |\n",
      "Generating image  24\n",
      "| --------------- 20 % --------------- 40 % --------------- 60 % --------------- 80 % --------------- |\n",
      "| # # # # # # # # # # # # # # # # # # # # # # # # # # # # # # # # # # # # # # # # # # # # # # # # # # # |\n",
      "Generating image  25\n",
      "| --------------- 20 % --------------- 40 % --------------- 60 % --------------- 80 % --------------- |\n",
      "| # # # # # # # # # # # # # # # # # # # # # # # # # # # # # # # # # # # # # # # # # # # # # # # # # # # |\n",
      "Generating image  26\n",
      "| --------------- 20 % --------------- 40 % --------------- 60 % --------------- 80 % --------------- |\n",
      "| # # # # # # # # # # # # # # # # # # # # # # # # # # # # # # # # # # # # # # # # # # # # # # # # # # # |\n",
      "Generating image  27\n",
      "| --------------- 20 % --------------- 40 % --------------- 60 % --------------- 80 % --------------- |\n",
      "| # # # # # # # # # # # # # # # # # # # # # # # # # # # # # # # # # # # # # # # # # # # # # # # # # # # |\n",
      "Generating image  28\n",
      "| --------------- 20 % --------------- 40 % --------------- 60 % --------------- 80 % --------------- |\n",
      "| # # # # # # # # # # # # # # # # # # # # # # # # # # # # # # # # # # # # # # # # # # # # # # # # # # # |\n",
      "Generating image  29\n",
      "| --------------- 20 % --------------- 40 % --------------- 60 % --------------- 80 % --------------- |\n",
      "| # # # # # # # # # # # # # # # # # # # # # # # # # # # # # # # # # # # # # # # # # # # # # # # # # # # |\n",
      "Generating image  30\n",
      "| --------------- 20 % --------------- 40 % --------------- 60 % --------------- 80 % --------------- |\n",
      "| # # # # # # # # # # # # # # # # # # # # # # # # # # # # # # # # # # # # # # # # # # # # # # # # # # # |\n",
      "Generating image  31\n",
      "| --------------- 20 % --------------- 40 % --------------- 60 % --------------- 80 % --------------- |\n",
      "| # # # # # # # # # # # # # # # # # # # # # # # # # # # # # # # # # # # # # # # # # # # # # # # # # # # |\n",
      "Generating image  32\n",
      "| --------------- 20 % --------------- 40 % --------------- 60 % --------------- 80 % --------------- |\n",
      "| # # # # # # # # # # # # # # # # # # # # # # # # # # # # # # # # # # # # # # # # # # # # # # # # # # # |\n",
      "Generating image  33\n",
      "| --------------- 20 % --------------- 40 % --------------- 60 % --------------- 80 % --------------- |\n",
      "| # # # # # # # # # # # # # # # # # # # # # # # # # # # # # # # # # # # # # # # # # # # # # # # # # # # |\n",
      "Generating image  34\n",
      "| --------------- 20 % --------------- 40 % --------------- 60 % --------------- 80 % --------------- |\n",
      "| # # # # # # # # # # # # # # # # # # # # # # # # # # # # # # # # # # # # # # # # # # # # # # # # # # # |\n",
      "Generating image  35\n",
      "| --------------- 20 % --------------- 40 % --------------- 60 % --------------- 80 % --------------- |\n",
      "| # # # # # # # # # # # # # # # # # # # # # # # # # # # # # # # # # # # # # # # # # # # # # # # # # # # |\n",
      "Generating image  36\n",
      "| --------------- 20 % --------------- 40 % --------------- 60 % --------------- 80 % --------------- |\n",
      "| # # # # # # # # # # # # # # # # # # # # # # # # # # # # # # # # # # # # # # # # # # # # # # # # # # # |\n",
      "Generating image  37\n",
      "| --------------- 20 % --------------- 40 % --------------- 60 % --------------- 80 % --------------- |\n",
      "| # # # # # # # # # # # # # # # # # # # # # # # # # # # # # # # # # # # # # # # # # # # # # # # # # # # |\n",
      "Generating image  38\n",
      "| --------------- 20 % --------------- 40 % --------------- 60 % --------------- 80 % --------------- |\n",
      "| # # # # # # # # # # # # # # # # # # # # # # # # # # # # # # # # # # # # # # # # # # # # # # # # # # # |\n",
      "Generating image  39\n",
      "| --------------- 20 % --------------- 40 % --------------- 60 % --------------- 80 % --------------- |\n",
      "| # # # # # # # # # # # # # # # # # # # # # # # # # # # # # # # # # # # # # # # # # # # # # # # # # # # |\n",
      "Generating image  40\n",
      "| --------------- 20 % --------------- 40 % --------------- 60 % --------------- 80 % --------------- |\n",
      "| # # # # # # # # # # # # # # # # # # # # # # # # # # # # # # # # # # # # # # # # # # # # # # # # # # # |\n",
      "Generating image  41\n",
      "| --------------- 20 % --------------- 40 % --------------- 60 % --------------- 80 % --------------- |\n",
      "| # # # # # # # # # # # # # # # # # # # # # # # # # # # # # # # # # # # # # # # # # # # # # # # # # # # |\n",
      "Generating image  42\n",
      "| --------------- 20 % --------------- 40 % --------------- 60 % --------------- 80 % --------------- |\n",
      "| # # # # # # # # # # # # # # # # # # # # # # # # # # # # # # # # # # # # # # # # # # # # # # # # # # # |\n",
      "Generating image  43\n",
      "| --------------- 20 % --------------- 40 % --------------- 60 % --------------- 80 % --------------- |\n",
      "| # # # # # # # # # # # # # # # # # # # # # # # # # # # # # # # # # # # # # # # # # # # # # # # # # # # |\n",
      "Generating image  44\n",
      "| --------------- 20 % --------------- 40 % --------------- 60 % --------------- 80 % --------------- |\n",
      "| # # # # # # # # # # # # # # # # # # # # # # # # # # # # # # # # # # # # # # # # # # # # # # # # # # # |\n",
      "Generating image  45\n",
      "| --------------- 20 % --------------- 40 % --------------- 60 % --------------- 80 % --------------- |\n",
      "| # # # # # # # # # # # # # # # # # # # # # # # # # # # # # # # # # # # # # # # # # # # # # # # # # # # |\n",
      "Generating image  46\n",
      "| --------------- 20 % --------------- 40 % --------------- 60 % --------------- 80 % --------------- |\n",
      "| # # # # # # # # # # # # # # # # # # # # # # # # # # # # # # # # # # # # # # # # # # # # # # # # # # # |\n",
      "Generating image  47\n",
      "| --------------- 20 % --------------- 40 % --------------- 60 % --------------- 80 % --------------- |\n",
      "| # # # # # # # # # # # # # # # # # # # # # # # # # # # # # # # # # # # # # # # # # # # # # # # # # # # |\n",
      "Generating image  48\n",
      "| --------------- 20 % --------------- 40 % --------------- 60 % --------------- 80 % --------------- |\n",
      "| # # # # # # # # # # # # # # # # # # # # # # # # # # # # # # # # # # # # # # # # # # # # # # # # # # # |\n",
      "Generating image  49\n",
      "| --------------- 20 % --------------- 40 % --------------- 60 % --------------- 80 % --------------- |\n",
      "| # # # # # # # # # # # # # # # # # # # # # # # # # # # # # # # # # # # # # # # # # # # # # # # # # # # |\n",
      "Generating image  50\n",
      "| --------------- 20 % --------------- 40 % --------------- 60 % --------------- 80 % --------------- |\n",
      "| # # # # # # # # # # # # # # # # # # # # # # # # # # # # # # # # # # # # # # # # # # # # # # # # # # # |\n",
      "Generating image  51\n",
      "| --------------- 20 % --------------- 40 % --------------- 60 % --------------- 80 % --------------- |\n",
      "| # # # # # # # # # # # # # # # # # # # # # # # # # # # # # # # # # # # # # # # # # # # # # # # # # # # |\n",
      "Generating image  52\n",
      "| --------------- 20 % --------------- 40 % --------------- 60 % --------------- 80 % --------------- |\n",
      "| # # # # # # # # # # # # # # # # # # # # # # # # # # # # # # # # # # # # # # # # # # # # # # # # # # # |\n",
      "Generating image  53\n",
      "| --------------- 20 % --------------- 40 % --------------- 60 % --------------- 80 % --------------- |\n",
      "| # # # # # # # # # # # # # # # # # # # # # # # # # # # # # # # # # # # # # # # # # # # # # # # # # # # |\n",
      "Generating image  54\n",
      "| --------------- 20 % --------------- 40 % --------------- 60 % --------------- 80 % --------------- |\n",
      "| # # # # # # # # # # # # # # # # # # # # # # # # # # # # # # # # # # # # # # # # # # # # # # # # # # # |\n",
      "Generating image  55\n",
      "| --------------- 20 % --------------- 40 % --------------- 60 % --------------- 80 % --------------- |\n",
      "| # # # # # # # # # # # # # # # # # # # # # # # # # # # # # # # # # # # # # # # # # # # # # # # # # # # |\n",
      "Generating image  56\n",
      "| --------------- 20 % --------------- 40 % --------------- 60 % --------------- 80 % --------------- |\n",
      "| # # # # # # # # # # # # # # # # # # # # # # # # # # # # # # # # # # # # # # # # # # # # # # # # # # # |\n",
      "Generating image  57\n",
      "| --------------- 20 % --------------- 40 % --------------- 60 % --------------- 80 % --------------- |\n",
      "| # # # # # # # # # # # # # # # # # # # # # # # # # # # # # # # # # # # # # # # # # # # # # # # # # # # |\n",
      "Generating image  58\n",
      "| --------------- 20 % --------------- 40 % --------------- 60 % --------------- 80 % --------------- |\n",
      "| # # # # # # # # # # # # # # # # # # # # # # # # # # # # # # # # # # # # # # # # # # # # # # # # # # # |\n",
      "Generating image  59\n",
      "| --------------- 20 % --------------- 40 % --------------- 60 % --------------- 80 % --------------- |\n",
      "| # # # # # # # # # # # # # # # # # # # # # # # # # # # # # # # # # # # # # # # # # # # # # # # # # # # |\n",
      "Generating image  60\n",
      "| --------------- 20 % --------------- 40 % --------------- 60 % --------------- 80 % --------------- |\n",
      "| # # # # # # # # # # # # # # # # # # # # # # # # # # # # # # # # # # # # # # # # # # # # # # # # # # # |\n",
      "Generating image  61\n",
      "| --------------- 20 % --------------- 40 % --------------- 60 % --------------- 80 % --------------- |\n",
      "| # # # # # # # # # # # # # # # # # # # # # # # # # # # # # # # # # # # # # # # # # # # # # # # # # # # |\n",
      "Generating image  62\n",
      "| --------------- 20 % --------------- 40 % --------------- 60 % --------------- 80 % --------------- |\n",
      "| # # # # # # # # # # # # # # # # # # # # # # # # # # # # # # # # # # # # # # # # # # # # # # # # # # # |\n",
      "Generating image  63\n",
      "| --------------- 20 % --------------- 40 % --------------- 60 % --------------- 80 % --------------- |\n",
      "| # # # # # # # # # # # # # # # # # # # # # # # # # # # # # # # # # # # # # # # # # # # # # # # # # # # |\n",
      "Generating image  64\n",
      "| --------------- 20 % --------------- 40 % --------------- 60 % --------------- 80 % --------------- |\n",
      "| # # # # # # # # # # # # # # # # # # # # # # # # # # # # # # # # # # # # # # # # # # # # # # # # # # # |\n",
      "Generating image  65\n",
      "| --------------- 20 % --------------- 40 % --------------- 60 % --------------- 80 % --------------- |\n",
      "| # # # # # # # # # # # # # # # # # # # # # # # # # # # # # # # # # # # # # # # # # # # # # # # # # # # |\n",
      "Generating image  66\n",
      "| --------------- 20 % --------------- 40 % --------------- 60 % --------------- 80 % --------------- |\n",
      "| # # # # # # # # # # # # # # # # # # # # # # # # # # # # # # # # # # # # # # # # # # # # # # # # # # # |\n",
      "Generating image  67\n",
      "| --------------- 20 % --------------- 40 % --------------- 60 % --------------- 80 % --------------- |\n",
      "| # # # # # # # # # # # # # # # # # # # # # # # # # # # # # # # # # # # # # # # # # # # # # # # # # # # |\n",
      "Generating image  68\n",
      "| --------------- 20 % --------------- 40 % --------------- 60 % --------------- 80 % --------------- |\n",
      "| # # # # # # # # # # # # # # # # # # # # # # # # # # # # # # # # # # # # # # # # # # # # # # # # # # # |\n",
      "Generating image  69\n",
      "| --------------- 20 % --------------- 40 % --------------- 60 % --------------- 80 % --------------- |\n",
      "| # # # # # # # # # # # # # # # # # # # # # # # # # # # # # # # # # # # # # # # # # # # # # # # # # # # |\n",
      "Generating image  70\n",
      "| --------------- 20 % --------------- 40 % --------------- 60 % --------------- 80 % --------------- |\n",
      "| # # # # # # # # # # # # # # # # # # # # # # # # # # # # # # # # # # # # # # # # # # # # # # # # # # # |\n",
      "Generating image  71\n",
      "| --------------- 20 % --------------- 40 % --------------- 60 % --------------- 80 % --------------- |\n",
      "| # # # # # # # # # # # # # # # # # # # # # # # # # # # # # # # # # # # # # # # # # # # # # # # # # # # |\n",
      "Generating image  72\n",
      "| --------------- 20 % --------------- 40 % --------------- 60 % --------------- 80 % --------------- |\n",
      "| # # # # # # # # # # # # # # # # # # # # # # # # # # # # # # # # # # # # # # # # # # # # # # # # # # # |\n",
      "Generating image  73\n",
      "| --------------- 20 % --------------- 40 % --------------- 60 % --------------- 80 % --------------- |\n",
      "| # # # # # # # # # # # # # # # # # # # # # # # # # # # # # # # # # # # # # # # # # # # # # # # # # # # |\n",
      "Generating image  74\n",
      "| --------------- 20 % --------------- 40 % --------------- 60 % --------------- 80 % --------------- |\n",
      "| # # # # # # # # # # # # # # # # # # # # # # # # # # # # # # # # # # # # # # # # # # # # # # # # # # # |\n",
      "Generating image  75\n",
      "| --------------- 20 % --------------- 40 % --------------- 60 % --------------- 80 % --------------- |\n",
      "| # # # # # # # # # # # # # # # # # # # # # # # # # # # # # # # # # # # # # # # # # # # # # # # # # # # |\n",
      "Generating image  76\n",
      "| --------------- 20 % --------------- 40 % --------------- 60 % --------------- 80 % --------------- |\n",
      "| # # # # # # # # # # # # # # # # # # # # # # # # # # # # # # # # # # # # # # # # # # # # # # # # # # # |\n",
      "Generating image  77\n",
      "| --------------- 20 % --------------- 40 % --------------- 60 % --------------- 80 % --------------- |\n",
      "| # # # # # # # # # # # # # # # # # # # # # # # # # # # # # # # # # # # # # # # # # # # # # # # # # # # |\n",
      "Generating image  78\n",
      "| --------------- 20 % --------------- 40 % --------------- 60 % --------------- 80 % --------------- |\n",
      "| # # # # # # # # # # # # # # # # # # # # # # # # # # # # # # # # # # # # # # # # # # # # # # # # # # # |\n",
      "Generating image  79\n",
      "| --------------- 20 % --------------- 40 % --------------- 60 % --------------- 80 % --------------- |\n",
      "| # # # # # # # # # # # # # # # # # # # # # # # # # # # # # # # # # # # # # # # # # # # # # # # # # # # |\n",
      "Generating image  80\n",
      "| --------------- 20 % --------------- 40 % --------------- 60 % --------------- 80 % --------------- |\n",
      "| # # # # # # # # # # # # # # # # # # # # # # # # # # # # # # # # # # # # # # # # # # # # # # # # # # # |\n",
      "Generating image  81\n",
      "| --------------- 20 % --------------- 40 % --------------- 60 % --------------- 80 % --------------- |\n",
      "| # # # # # # # # # # # # # # # # # # # # # # # # # # # # # # # # # # # # # # # # # # # # # # # # # # # |\n",
      "Generating image  82\n",
      "| --------------- 20 % --------------- 40 % --------------- 60 % --------------- 80 % --------------- |\n",
      "| # # # # # # # # # # # # # # # # # # # # # # # # # # # # # # # # # # # # # # # # # # # # # # # # # # # |\n",
      "Generating image  83\n",
      "| --------------- 20 % --------------- 40 % --------------- 60 % --------------- 80 % --------------- |\n",
      "| # # # # # # # # # # # # # # # # # # # # # # # # # # # # # # # # # # # # # # # # # # # # # # # # # # # |\n",
      "Generating image  84\n",
      "| --------------- 20 % --------------- 40 % --------------- 60 % --------------- 80 % --------------- |\n",
      "| # # # # # # # # # # # # # # # # # # # # # # # # # # # # # # # # # # # # # # # # # # # # # # # # # # # |\n",
      "Generating image  85\n",
      "| --------------- 20 % --------------- 40 % --------------- 60 % --------------- 80 % --------------- |\n",
      "| # # # # # # # # # # # # # # # # # # # # # # # # # # # # # # # # # # # # # # # # # # # # # # # # # # # |\n",
      "Generating image  86\n",
      "| --------------- 20 % --------------- 40 % --------------- 60 % --------------- 80 % --------------- |\n",
      "| # # # # # # # # # # # # # # # # # # # # # # # # # # # # # # # # # # # # # # # # # # # # # # # # # # # |\n",
      "Generating image  87\n",
      "| --------------- 20 % --------------- 40 % --------------- 60 % --------------- 80 % --------------- |\n",
      "| # # # # # # # # # # # # # # # # # # # # # # # # # # # # # # # # # # # # # # # # # # # # # # # # # # # |\n",
      "Generating image  88\n",
      "| --------------- 20 % --------------- 40 % --------------- 60 % --------------- 80 % --------------- |\n",
      "| # # # # # # # # # # # # # # # # # # # # # # # # # # # # # # # # # # # # # # # # # # # # # # # # # # # |\n",
      "Generating image  89\n",
      "| --------------- 20 % --------------- 40 % --------------- 60 % --------------- 80 % --------------- |\n",
      "| # # # # # # # # # # # # # # # # # # # # # # # # # # # # # # # # # # # # # # # # # # # # # # # # # # # |\n",
      "Generating image  90\n",
      "| --------------- 20 % --------------- 40 % --------------- 60 % --------------- 80 % --------------- |\n",
      "| # # # # # # # # # # # # # # # # # # # # # # # # # # # # # # # # # # # # # # # # # # # # # # # # # # # |\n",
      "Generating image  91\n",
      "| --------------- 20 % --------------- 40 % --------------- 60 % --------------- 80 % --------------- |\n",
      "| # # # # # # # # # # # # # # # # # # # # # # # # # # # # # # # # # # # # # # # # # # # # # # # # # # # |\n",
      "Generating image  92\n",
      "| --------------- 20 % --------------- 40 % --------------- 60 % --------------- 80 % --------------- |\n",
      "| # # # # # # # # # # # # # # # # # # # # # # # # # # # # # # # # # # # # # # # # # # # # # # # # # # # |\n",
      "Generating image  93\n",
      "| --------------- 20 % --------------- 40 % --------------- 60 % --------------- 80 % --------------- |\n",
      "| # # # # # # # # # # # # # # # # # # # # # # # # # # # # # # # # # # # # # # # # # # # # # # # # # # # |\n",
      "Generating image  94\n",
      "| --------------- 20 % --------------- 40 % --------------- 60 % --------------- 80 % --------------- |\n",
      "| # # # # # # # # # # # # # # # # # # # # # # # # # # # # # # # # # # # # # # # # # # # # # # # # # # # |\n",
      "Generating image  95\n",
      "| --------------- 20 % --------------- 40 % --------------- 60 % --------------- 80 % --------------- |\n",
      "| # # # # # # # # # # # # # # # # # # # # # # # # # # # # # # # # # # # # # # # # # # # # # # # # # # # |\n",
      "Generating image  96\n",
      "| --------------- 20 % --------------- 40 % --------------- 60 % --------------- 80 % --------------- |\n",
      "| # # # # # # # # # # # # # # # # # # # # # # # # # # # # # # # # # # # # # # # # # # # # # # # # # # # |\n",
      "Generating image  97\n",
      "| --------------- 20 % --------------- 40 % --------------- 60 % --------------- 80 % --------------- |\n",
      "| # # # # # # # # # # # # # # # # # # # # # # # # # # # # # # # # # # # # # # # # # # # # # # # # # # # |\n",
      "Generating image  98\n",
      "| --------------- 20 % --------------- 40 % --------------- 60 % --------------- 80 % --------------- |\n",
      "| # # # # # # # # # # # # # # # # # # # # # # # # # # # # # # # # # # # # # # # # # # # # # # # # # # # |\n",
      "Generating image  99\n",
      "| --------------- 20 % --------------- 40 % --------------- 60 % --------------- 80 % --------------- |\n",
      "| # # # # # # # # # # # # # # # # # # # # # # # # # # # # # # # # # # # # # # # # # # # # # # # # # # # |\n"
     ]
    }
   ],
   "source": [
    "save_animation(poly,\n",
    "               256,\n",
    "               lambda x: sin(x),\n",
    "               lambda x: cos(x),\n",
    "               lambda x: sin(x)+2,\n",
    "               lambda x: x/(2.0*3.14),\n",
    "               steps = 100, stepsize = 2*3.14/100)"
   ]
  }
 ],
 "metadata": {
  "kernelspec": {
   "display_name": "Python 2",
   "language": "python",
   "name": "python2"
  },
  "language_info": {
   "codemirror_mode": {
    "name": "ipython",
    "version": 2
   },
   "file_extension": ".py",
   "mimetype": "text/x-python",
   "name": "python",
   "nbconvert_exporter": "python",
   "pygments_lexer": "ipython2",
   "version": "2.7.11"
  }
 },
 "nbformat": 4,
 "nbformat_minor": 0
}
