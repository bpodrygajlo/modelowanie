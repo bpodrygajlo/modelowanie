{
 "cells": [
  {
   "cell_type": "code",
   "execution_count": 1,
   "metadata": {
    "collapsed": false
   },
   "outputs": [
    {
     "name": "stderr",
     "output_type": "stream",
     "text": [
      "Vendor:  Continuum Analytics, Inc.\n",
      "Package: mkl\n",
      "Message: trial mode expires in 30 days\n",
      "Vendor:  Continuum Analytics, Inc.\n",
      "Package: mkl\n",
      "Message: trial mode expires in 30 days\n"
     ]
    }
   ],
   "source": [
    "import numpy as np\n",
    "import matplotlib.pyplot as plt\n",
    "import matplotlib.patches as patches"
   ]
  },
  {
   "cell_type": "code",
   "execution_count": 2,
   "metadata": {
    "collapsed": false
   },
   "outputs": [],
   "source": [
    "def draw_spring(start,end,count,size = 1.):\n",
    "    start = np.asarray(start)\n",
    "    end = np.asarray(end)\n",
    "    length = np.sqrt(np.sum((end-start)**2))\n",
    "    flat_space = length/6.\n",
    "    x = np.linspace(flat_space,length-flat_space,count*4+1)\n",
    "    length_needed = 2*np.pi*count \n",
    "    s = size*np.sin((length_needed/(length-flat_space*2))*x)\n",
    "    rotations = (end-start)/length\n",
    "    rotation_matrix = np.array([[rotations[0],-rotations[1]],[rotations[1],rotations[0]]])\n",
    "    first_flat = np.array([[0],[0]])\n",
    "    second_flat = np.array([[length],[0]])\n",
    "    y = rotation_matrix.dot(np.hstack((first_flat, np.array([x,s]), second_flat))) + start[:,np.newaxis]\n",
    "    plt.plot(y[0],y[1], label = \"spring origin {0:.1f}, {1:.1f}\".format(start[0],start[1]))\n",
    "    plt.xlim([-50,50])\n",
    "    plt.ylim([-50,50])"
   ]
  },
  {
   "cell_type": "code",
   "execution_count": 12,
   "metadata": {
    "collapsed": false
   },
   "outputs": [],
   "source": [
    "def get_spring(start,end,count,size = 1.):\n",
    "    start = np.asarray(start)\n",
    "    end = np.asarray(end)\n",
    "    length = np.sqrt(np.sum((end-start)**2))\n",
    "    flat_space = length/6.\n",
    "    x = np.linspace(flat_space,length-flat_space,count*4+1)\n",
    "    length_needed = 2*np.pi*count \n",
    "    s = size*np.sin((length_needed/(length-flat_space*2))*x)\n",
    "    rotations = (end-start)/length\n",
    "    rotation_matrix = np.array([[rotations[0],-rotations[1]],[rotations[1],rotations[0]]])\n",
    "    first_flat = np.array([[0],[0]])\n",
    "    second_flat = np.array([[length],[0]])\n",
    "    return rotation_matrix.dot(np.hstack((first_flat, np.array([x,s]), second_flat))) + start[:,np.newaxis]"
   ]
  },
  {
   "cell_type": "code",
   "execution_count": 4,
   "metadata": {
    "collapsed": false
   },
   "outputs": [],
   "source": [
    "spring = get_spring((-10.,-30.),(-30.,30.),10.,size = 5)\n",
    "plt.plot(spring[0],spring[1])\n",
    "plt.xlim([-50,50])\n",
    "plt.ylim([-50,50])\n",
    "plt.show()"
   ]
  },
  {
   "cell_type": "code",
   "execution_count": 9,
   "metadata": {
    "collapsed": false
   },
   "outputs": [],
   "source": [
    "plt.figure(figsize=(9,9))\n",
    "draw_spring([-10.,-30.],[-30.,30.],10.,size = 5)\n",
    "draw_spring([-20,20],[20,20],4,size = 2)\n",
    "draw_spring([-30,30],[-20,20],10)\n",
    "\n",
    "draw_spring([-20,0],[20,0],40,size = 10)\n",
    "draw_spring([-20,30],[20,30],40,size = 4)\n",
    "plt.legend(loc = 'upper left')      \n",
    "plt.show()"
   ]
  },
  {
   "cell_type": "code",
   "execution_count": 6,
   "metadata": {
    "collapsed": true
   },
   "outputs": [],
   "source": [
    "class Spring:\n",
    "    def __init__(self, start, end, count, size):\n",
    "        self.start = start\n",
    "        self.end = end\n",
    "        self.count = count\n",
    "        self.size = size\n",
    "        \n",
    "    def update_positions(self,start,end):\n",
    "        self.start = start\n",
    "        self.end = end\n",
    "    \n",
    "    def redraw(self):\n",
    "        draw_spring(self.start,self.end, self.count,self.size)"
   ]
  },
  {
   "cell_type": "code",
   "execution_count": 15,
   "metadata": {
    "collapsed": false,
    "scrolled": false
   },
   "outputs": [
    {
     "name": "stdout",
     "output_type": "stream",
     "text": [
      "event contains (0.1, 0.1)\n",
      "event contains (0.1, 0.1)\n",
      "event contains (19.68333333333333, 19.370833333333334)\n",
      "event contains (19.68333333333333, 19.370833333333334)\n",
      "event contains (16.87083333333333, -17.295833333333331)\n",
      "event contains (16.974999999999994, 10.204166666666666)\n",
      "event contains (10.099999999999994, 13.537499999999994)\n",
      "event contains (16.349999999999994, 16.974999999999994)\n",
      "event contains (12.599999999999994, 14.162499999999994)\n",
      "event contains (14.37083333333333, 14.474999999999994)\n",
      "event contains (-12.399999999999999, -9.6916666666666735)\n",
      "event contains (8.9541666666666622, -11.462500000000007)\n",
      "event contains (13.849999999999998, 2.1833333333333247)\n"
     ]
    }
   ],
   "source": [
    "import numpy as np\n",
    "import matplotlib.pyplot as plt\n",
    "\n",
    "class DraggableRectangle:\n",
    "    def __init__(self, rect, springs):\n",
    "        self.rect = rect\n",
    "        self.press = None\n",
    "        self.springs = springs\n",
    "\n",
    "    def connect(self):\n",
    "        'connect to all the events we need'\n",
    "        self.cidpress = self.rect.figure.canvas.mpl_connect(\n",
    "            'button_press_event', self.on_press)\n",
    "        self.cidrelease = self.rect.figure.canvas.mpl_connect(\n",
    "            'button_release_event', self.on_release)\n",
    "        self.cidmotion = self.rect.figure.canvas.mpl_connect(\n",
    "            'motion_notify_event', self.on_motion)\n",
    "\n",
    "    def on_press(self, event):\n",
    "        'on button press we will see if the mouse is over us and store some data'\n",
    "        if event.inaxes != self.rect.axes: return\n",
    "\n",
    "        contains, attrd = self.rect.contains(event)\n",
    "        if not contains: return\n",
    "        print 'event contains', self.rect.xy\n",
    "        x0, y0 = self.rect.xy\n",
    "        self.press = x0, y0, event.xdata, event.ydata\n",
    "\n",
    "    def on_motion(self, event):\n",
    "        'on motion we will move the rect if the mouse is over us'\n",
    "        if self.press is None: return\n",
    "        if event.inaxes != self.rect.axes: return\n",
    "        x0, y0, xpress, ypress = self.press\n",
    "        dx = event.xdata - xpress\n",
    "        dy = event.ydata - ypress\n",
    "        #print 'x0=%f, xpress=%f, event.xdata=%f, dx=%f, x0+dx=%f'%(x0, xpress, event.xdata, dx, x0+dx)\n",
    "        self.rect.xy = (x0+dx,y0+dy)\n",
    "        for spring in self.springs:\n",
    "            y = get_spring((0.0,0.0),self.rect.xy,8,size=2.)\n",
    "            spring.set_ydata(y[1])\n",
    "            spring.set_xdata(y[0])\n",
    "        plt.draw()\n",
    "\n",
    "\n",
    "    def on_release(self, event):\n",
    "        'on release we reset the press data'\n",
    "        self.press = None\n",
    "        plt.draw()\n",
    "\n",
    "    def disconnect(self):\n",
    "        'disconnect all the stored connection ids'\n",
    "        self.rect.figure.canvas.mpl_disconnect(self.cidpress)\n",
    "        self.rect.figure.canvas.mpl_disconnect(self.cidrelease)\n",
    "        self.rect.figure.canvas.mpl_disconnect(self.cidmotion)\n",
    "\n",
    "        \n",
    "import matplotlib.patches as patches\n",
    "\n",
    "fig1 = plt.figure()\n",
    "ax1 = fig1.add_subplot(111, aspect='equal')\n",
    "rekts = ax1.add_patch(\n",
    "    patches.Rectangle(\n",
    "        (0.1, 0.1),   # (x,y)\n",
    "        0.5,          # width\n",
    "        0.5,          # height\n",
    "    )\n",
    ")\n",
    "\n",
    "y = get_spring((0.0,0.0),(0.4,0.4),8,size=2.)\n",
    "spring, = ax1.plot(y[0],y[1])\n",
    "\n",
    "\n",
    "drs = []\n",
    "for rect in ax1.patches:\n",
    "    dr = DraggableRectangle(rect,[spring])\n",
    "    dr.connect()\n",
    "    drs.append(dr)\n",
    "    \n",
    "plt.xlim((-20,20))\n",
    "plt.ylim((-20,20))\n",
    "\n",
    "plt.show()"
   ]
  }
 ],
 "metadata": {
  "kernelspec": {
   "display_name": "Python 2",
   "language": "python",
   "name": "python2"
  },
  "language_info": {
   "codemirror_mode": {
    "name": "ipython",
    "version": 2
   },
   "file_extension": ".py",
   "mimetype": "text/x-python",
   "name": "python",
   "nbconvert_exporter": "python",
   "pygments_lexer": "ipython2",
   "version": "2.7.11"
  }
 },
 "nbformat": 4,
 "nbformat_minor": 0
}
