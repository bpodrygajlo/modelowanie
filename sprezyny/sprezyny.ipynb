{
 "cells": [
  {
   "cell_type": "code",
   "execution_count": 1,
   "metadata": {
    "collapsed": false
   },
   "outputs": [
    {
     "name": "stdout",
     "output_type": "stream",
     "text": [
      "Populating the interactive namespace from numpy and matplotlib\n"
     ]
    }
   ],
   "source": [
    "%pylab inline"
   ]
  },
  {
   "cell_type": "code",
   "execution_count": 204,
   "metadata": {
    "collapsed": false
   },
   "outputs": [],
   "source": [
    "def draw_spring(start,end,count,size = 1.):\n",
    "    length = np.sqrt(np.sum((end-start)**2))\n",
    "    x = linspace(0,length,count*4+1)\n",
    "    length_needed = 2*pi*count \n",
    "    s = size*sin((length_needed/length)*x)\n",
    "\n",
    "    rotations = (end-start)/length\n",
    "    print rotations\n",
    "    rotation_matrix = np.array([[rotations[0],-rotations[1]],[rotations[1],rotations[0]]])\n",
    "    y = rotation_matrix.dot(np.array([x,s])) - (np.abs(end-start)/2)[:,newaxis]\n",
    "    plot(y[0],y[1])\n",
    "    xlim([-50,50])\n",
    "    ylim([-50,50])"
   ]
  },
  {
   "cell_type": "code",
   "execution_count": 210,
   "metadata": {
    "collapsed": false
   },
   "outputs": [
    {
     "name": "stdout",
     "output_type": "stream",
     "text": [
      "[ 0.16439899  0.98639392]\n",
      "[ 1.  0.]\n",
      "[ 0.70710678 -0.70710678]\n"
     ]
    },
    {
     "data": {
      "image/png": "[encoded data removed]",
      "text/plain": [
       "<matplotlib.figure.Figure at 0xf75c0f0>"
      ]
     },
     "metadata": {},
     "output_type": "display_data"
    }
   ],
   "source": [
    "draw_spring(np.array([-10.,-30.]),np.array([0.,30.]),13.,size = 5)\n",
    "draw_spring(np.array([-20,20]),np.array([20,20]),4,size = 30)\n",
    "draw_spring(np.array([-30,30]),np.array([-20,20]),10)"
   ]
  }
 ],
 "metadata": {
  "kernelspec": {
   "display_name": "Python 2",
   "language": "python",
   "name": "python2"
  },
  "language_info": {
   "codemirror_mode": {
    "name": "ipython",
    "version": 2
   },
   "file_extension": ".py",
   "mimetype": "text/x-python",
   "name": "python",
   "nbconvert_exporter": "python",
   "pygments_lexer": "ipython2",
   "version": "2.7.11"
  }
 },
 "nbformat": 4,
 "nbformat_minor": 0
}
