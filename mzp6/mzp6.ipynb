{
 "cells": [
  {
   "cell_type": "code",
   "execution_count": 4,
   "metadata": {
    "collapsed": false
   },
   "outputs": [
    {
     "name": "stderr",
     "output_type": "stream",
     "text": [
      "Vendor:  Continuum Analytics, Inc.\n",
      "Package: mkl\n",
      "Message: trial mode expires in 30 days\n",
      "Vendor:  Continuum Analytics, Inc.\n"
     ]
    },
    {
     "name": "stdout",
     "output_type": "stream",
     "text": [
      "Populating the interactive namespace from numpy and matplotlib\n"
     ]
    },
    {
     "name": "stderr",
     "output_type": "stream",
     "text": [
      "Package: mkl\n",
      "Message: trial mode expires in 30 days\n"
     ]
    }
   ],
   "source": [
    "%pylab inline"
   ]
  },
  {
   "cell_type": "code",
   "execution_count": 5,
   "metadata": {
    "collapsed": true
   },
   "outputs": [],
   "source": [
    "from __future__ import division"
   ]
  },
  {
   "cell_type": "code",
   "execution_count": 6,
   "metadata": {
    "collapsed": false
   },
   "outputs": [],
   "source": [
    "class SystemSolver():\n",
    "    def __init__(self,updates = None):\n",
    "        if isinstance(updates,list):\n",
    "            max_len = max([len(x) for x in updates])\n",
    "            [x.extend([0]*(max_len-len(x))) for x in updates]\n",
    "            self.updates = numpy.asarray(updates, dtype = float64)\n",
    "        else:\n",
    "            self.updates = updates\n",
    "        \n",
    "    @property\n",
    "    def update_count(self):\n",
    "        return min(self.updates.shape)-1\n",
    "    \n",
    "    def __call__(self,tn,yn,functions,h):\n",
    "        k = np.zeros(shape=(self.update_count,len(functions)))\n",
    "        for i in range(self.update_count):\n",
    "            a = self.updates[i,0]\n",
    "            b = self.updates[i,1:]\n",
    "            upd = np.sum(b[:,np.newaxis]*k,axis = 0)\n",
    "            for j in range(len(functions)):\n",
    "                k[i,j]= h * functions[j](tn+a*h, yn+upd)\n",
    "        c = self.updates[self.update_count,1:]\n",
    "        if self.updates.shape[0]>self.updates.shape[1]:\n",
    "            c_= self.updates[self.update_count+1,1:]\n",
    "            return np.sum(c[:,np.newaxis]*k, axis = 0), np.sum(c_[:,np.newaxis]*k, axis = 0)\n",
    "        return np.sum(c[:,np.newaxis]*k, axis = 0)"
   ]
  },
  {
   "cell_type": "code",
   "execution_count": 7,
   "metadata": {
    "collapsed": false
   },
   "outputs": [],
   "source": [
    "euler = SystemSolver([[1],[0,1]])"
   ]
  },
  {
   "cell_type": "code",
   "execution_count": 8,
   "metadata": {
    "collapsed": false
   },
   "outputs": [
    {
     "data": {
      "text/plain": [
       "array([  1.10121067e-03,   1.20999976e-06])"
      ]
     },
     "execution_count": 8,
     "metadata": {},
     "output_type": "execute_result"
    }
   ],
   "source": [
    "euler(0,np.array([1.,0.]),[lambda x,ys: np.exp(x), lambda x, ys: np.sin(x)],0.0011)"
   ]
  },
  {
   "cell_type": "code",
   "execution_count": 9,
   "metadata": {
    "collapsed": false
   },
   "outputs": [],
   "source": [
    "def draw_system(method, t_0, y_0s, approx, exact = None, labels=None, step = 0.1):\n",
    "    count = np.ceil(10.0/step)\n",
    "    X = np.linspace(t_0,t_0+10,count)\n",
    "    Y = np.zeros(shape=(len(approx),X.shape[0]))\n",
    "    if exact:\n",
    "        RY = np.asarray([y(X) if y is not None else None for y in exact])\n",
    "    Y[:,0] = np.asarray(y_0s)\n",
    "    \n",
    "    for i in np.arange(1,count):\n",
    "        Y_updates = method(tn=X[i-1],yn=Y[:,i-1],functions=approx,h=step)\n",
    "        Y[:,i] = Y[:,i-1] + Y_updates\n",
    "    \n",
    "    figure_count = len(approx)\n",
    "    if exact:\n",
    "        figure_count += len(filter(lambda x: x is not None,exact))\n",
    "    figure = 1\n",
    "    plt.figure(figsize = (9,figure_count*3))\n",
    "    for i in range(len(approx)):\n",
    "        ax = plt.subplot(figure_count,1,figure)\n",
    "        if labels and labels[i]:\n",
    "            ax.set_title(labels[i])\n",
    "        plt.plot(X,Y[i], color = 'blue', label ='Approx')\n",
    "        if exact and exact[i]:\n",
    "            plt.plot(X,RY[i], color = 'red', linestyle='--', label='Exact')\n",
    "        plt.legend(loc = 'upper left')\n",
    "        figure += 1\n",
    "\n",
    "        if exact and exact[i]:\n",
    "            plt.subplot(figure_count,1,figure)\n",
    "            plt.plot(X,np.abs(RY[i]-Y[i]), color = 'blue', label= 'Global error')\n",
    "            plt.legend(loc = 'upper left')\n",
    "            figure+=1\n",
    "            \n",
    "    plt.show()"
   ]
  },
  {
   "cell_type": "code",
   "execution_count": 10,
   "metadata": {
    "collapsed": false
   },
   "outputs": [
    {
     "name": "stderr",
     "output_type": "stream",
     "text": [
      "/pio/lscratch/1/os/anaconda/lib/python2.7/site-packages/ipykernel/__main__.py:10: DeprecationWarning: using a non-integer number instead of an integer will result in an error in the future\n",
      "/pio/lscratch/1/os/anaconda/lib/python2.7/site-packages/ipykernel/__main__.py:11: DeprecationWarning: using a non-integer number instead of an integer will result in an error in the future\n"
     ]
    },
    {
     "data": {
      "image/png": "[encoded data removed]",
      "text/plain": [
       "<matplotlib.figure.Figure at 0x7ff453d05b10>"
      ]
     },
     "metadata": {},
     "output_type": "display_data"
    }
   ],
   "source": [
    "draw_system(euler,\n",
    "            0,\n",
    "            [0.,1.],\n",
    "            [lambda t,ys:np.cos(t),lambda t,ys: np.exp(t)],\n",
    "            [lambda t: np.sin(t),lambda t: np.exp(t)],\n",
    "            [u\"predkość\",u\"długosc\"])"
   ]
  },
  {
   "cell_type": "code",
   "execution_count": 11,
   "metadata": {
    "collapsed": false
   },
   "outputs": [],
   "source": [
    "fehlberg_7_8 = SystemSolver([[0],\n",
    "                [2/27,2/27],\n",
    "                [1/9,1/36,1/12],\n",
    "                [1/6,1/24,0,1/8],\n",
    "                [5/12,5/12,0,-25/16,25/16],\n",
    "                [1/2,1/20,0,0,1/4,1/5],\n",
    "                [5/6,-25/108,0,0,125/108,-65/27,125/54],\n",
    "                [1/6,31/300,0,0,0,61/225,-2/9,13/900],\n",
    "                [2/3,2,0,0,-53/6,704/45,-107/9,67/90,3],\n",
    "                [1/3,-91/108,0,0,23/108,-976/135,311/54,-19/60,17/6,-1/12],\n",
    "                [1,2383/4100,0,0,-341/164,4496/1025,-301/82,2133/4100,45/82,45/164,18/41],\n",
    "                [0,3/205,0,0,0,0,-6/41,-3/205,-3/41,3/41,6/41,0],\n",
    "                [1,-1777/4100,0,0,-341/164,4496/1025,-289/82,2193/4100,51/82,33/164,19/41,0,1],\n",
    "                [0,41/840,0,0,0,0,34/105,9/35,9/35,9/280,9/280,41/840,0,0],\n",
    "                [0,0,0,0,0,0,34/105,9/35,9/35,9/280,9/280,0,41/840,43/840]])"
   ]
  },
  {
   "cell_type": "code",
   "execution_count": 12,
   "metadata": {
    "collapsed": false
   },
   "outputs": [
    {
     "data": {
      "text/plain": [
       "(array([ 0.00110061]), array([ 0.00110323]))"
      ]
     },
     "execution_count": 12,
     "metadata": {},
     "output_type": "execute_result"
    }
   ],
   "source": [
    "fehlberg_7_8(0,[1.],[lambda x,ys: np.exp(x)],0.0011)"
   ]
  },
  {
   "cell_type": "code",
   "execution_count": 13,
   "metadata": {
    "collapsed": true
   },
   "outputs": [],
   "source": [
    "def adaprtive_rk(method, t_0, y_0s, approx, exact = None, labels=None, step = 0.1):\n",
    "    count = np.ceil(10.0/step)\n",
    "    X = np.linspace(t_0,t_0+10,count)\n",
    "    Y = np.zeros(shape=(len(approx),X.shape[0]))\n",
    "    if exact:\n",
    "        RY = np.asarray([y(X) if y is not None else None for y in exact])\n",
    "    Y[:,0] = np.asarray(y_0s)\n",
    "    \n",
    "    for i in np.arange(1,count):\n",
    "        Y_updates = method(tn=X[i-1],yn=Y[:,i-1],functions=approx,h=step)\n",
    "        Y[:,i] = Y[:,i-1] + Y_updates\n",
    "    \n",
    "    figure_count = len(approx)\n",
    "    if exact:\n",
    "        figure_count += len(filter(lambda x: x is not None,exact))\n",
    "    figure = 1\n",
    "    plt.figure(figsize = (9,figure_count*3))\n",
    "    for i in range(len(approx)):\n",
    "        ax = plt.subplot(figure_count,1,figure)\n",
    "        if labels and labels[i]:\n",
    "            ax.set_title(labels[i])\n",
    "        plt.plot(X,Y[i], color = 'blue', label ='Approx')\n",
    "        if exact and exact[i]:\n",
    "            plt.plot(X,RY[i], color = 'red', linestyle='--', label='Exact')\n",
    "        plt.legend(loc = 'upper left')\n",
    "        figure += 1\n",
    "\n",
    "        if exact and exact[i]:\n",
    "            plt.subplot(figure_count,1,figure)\n",
    "            plt.plot(X,np.abs(RY[i]-Y[i]), color = 'blue', label= 'Global error')\n",
    "            plt.legend(loc = 'upper left')\n",
    "            figure+=1\n",
    "            \n",
    "    plt.show()"
   ]
  },
  {
   "cell_type": "code",
   "execution_count": 190,
   "metadata": {
    "collapsed": false
   },
   "outputs": [],
   "source": [
    "def eps(y1,y2,eabs=1e-4,erel=0):\n",
    "    return eabs+erel*(np.abs(y1)+np.abs(y2))/2\n",
    "\n",
    "def err(step,y1,y2):\n",
    "    return np.sqrt(1/y1.shape[0]*np.sum(((np.abs(y1)-np.abs(y2))/eps(y1,y2))**2))\n",
    "\n",
    "def update_step(step, q,y1,y2,factormin=0.5, factormax=5., factor=0.9):\n",
    "    maks = np.max(factor*(1/err(step,y1,y2))**(1/(q+1)))\n",
    "    return step*min(factormax,maks)"
   ]
  },
  {
   "cell_type": "code",
   "execution_count": 191,
   "metadata": {
    "collapsed": false
   },
   "outputs": [],
   "source": [
    "def check_step(step,y1,y2):\n",
    "    if np.sum(np.abs(y1-y2) >= eps(y1,y2)) == 0:\n",
    "        return True\n",
    "    else:\n",
    "        return False"
   ]
  },
  {
   "cell_type": "code",
   "execution_count": 198,
   "metadata": {
    "collapsed": false
   },
   "outputs": [],
   "source": [
    "def adaptive_rk(method, t_0, y_0s, approx, exact = None, labels=None, step = 0.1):\n",
    "    count = np.ceil(10.0/step)\n",
    "    X = np.zeros(shape=(count,))\n",
    "    X[0] = t_0\n",
    "    Y = np.zeros(shape=(len(approx),X.shape[0]))\n",
    "    if exact:\n",
    "        RY = np.asarray([y(X) if y is not None else None for y in exact])\n",
    "    Y[:,0] = np.asarray(y_0s)\n",
    "    \n",
    "    i = 1\n",
    "    X[0] = t_0\n",
    "    while X[i-1]<10:\n",
    "        y_1, y_2 = method(tn=X[i-1],yn=Y[:,i-1],functions=approx,h=step)\n",
    "        if check_step(step,Y[:,i-1]+y_1,Y[:,i-1]+y_2) == False:\n",
    "            step = update_step(step,7,Y[:,i-1]+y_1,Y[:,i-1]+y_2)\n",
    "            print \"stepchange\"\n",
    "        else:\n",
    "            Y[:,i] = Y[:,i-1] + y_2\n",
    "            X[i] = X[i-1] + step\n",
    "            i+=1\n",
    "            \n",
    "    \n",
    "    figure_count = len(approx) + 1\n",
    "    if exact:\n",
    "        figure_count += len(filter(lambda x: x is not None,exact))\n",
    "    figure = 1\n",
    "    plt.figure(figsize = (9,figure_count*3))\n",
    "    for i in range(len(approx)):\n",
    "        ax = plt.subplot(figure_count,1,figure)\n",
    "        if labels and labels[i]:\n",
    "            ax.set_title(labels[i])\n",
    "        plt.plot(X,Y[i], color = 'blue', label ='Approx')\n",
    "        if exact and exact[i]:\n",
    "            plt.plot(X,RY[i], color = 'red', linestyle='--', label='Exact')\n",
    "        plt.legend(loc = 'upper left')\n",
    "        figure += 1\n",
    "\n",
    "        if exact and exact[i]:\n",
    "            plt.subplot(figure_count,1,figure)\n",
    "            plt.plot(X,np.abs(RY[i]-Y[i]), color = 'blue', label= 'Global error')\n",
    "            plt.legend(loc = 'upper left')\n",
    "            figure+=1\n",
    "    \n",
    "    plt.subplot(figure_count+1,1,figure+1)\n",
    "    plt.plot((X-np.roll(X,1))[1:])\n",
    "    plt.show()\n",
    "    return X"
   ]
  },
  {
   "cell_type": "code",
   "execution_count": 197,
   "metadata": {
    "collapsed": false
   },
   "outputs": [
    {
     "name": "stderr",
     "output_type": "stream",
     "text": [
      "/pio/lscratch/1/os/anaconda/lib/python2.7/site-packages/ipykernel/__main__.py:3: DeprecationWarning: using a non-integer number instead of an integer will result in an error in the future\n",
      "  app.launch_new_instance()\n"
     ]
    },
    {
     "ename": "IndexError",
     "evalue": "index 100 is out of bounds for axis 1 with size 100",
     "output_type": "error",
     "traceback": [
      "\u001b[1;31m---------------------------------------------------------------------------\u001b[0m",
      "\u001b[1;31mIndexError\u001b[0m                                Traceback (most recent call last)",
      "\u001b[1;32m<ipython-input-197-07c331286953>\u001b[0m in \u001b[0;36m<module>\u001b[1;34m()\u001b[0m\n\u001b[0;32m      4\u001b[0m             \u001b[1;33m[\u001b[0m\u001b[1;32mlambda\u001b[0m \u001b[0mt\u001b[0m\u001b[1;33m,\u001b[0m\u001b[0mys\u001b[0m\u001b[1;33m:\u001b[0m \u001b[0mys\u001b[0m\u001b[1;33m[\u001b[0m\u001b[1;36m1\u001b[0m\u001b[1;33m]\u001b[0m\u001b[1;33m,\u001b[0m\u001b[1;32mlambda\u001b[0m \u001b[0mt\u001b[0m\u001b[1;33m,\u001b[0m\u001b[0mys\u001b[0m\u001b[1;33m:\u001b[0m \u001b[1;33m-\u001b[0m\u001b[1;36m3.\u001b[0m\u001b[1;33m*\u001b[0m\u001b[0mys\u001b[0m\u001b[1;33m[\u001b[0m\u001b[1;36m1\u001b[0m\u001b[1;33m]\u001b[0m\u001b[1;33m/\u001b[0m\u001b[1;33m(\u001b[0m\u001b[1;36m3.\u001b[0m\u001b[1;33m*\u001b[0m\u001b[1;36m20\u001b[0m\u001b[1;33m)\u001b[0m\u001b[1;33m-\u001b[0m\u001b[1;36m10\u001b[0m\u001b[1;33m/\u001b[0m\u001b[1;36m20\u001b[0m\u001b[1;33m*\u001b[0m\u001b[0mnp\u001b[0m\u001b[1;33m.\u001b[0m\u001b[0msin\u001b[0m\u001b[1;33m(\u001b[0m\u001b[0mys\u001b[0m\u001b[1;33m[\u001b[0m\u001b[1;36m0\u001b[0m\u001b[1;33m]\u001b[0m\u001b[1;33m)\u001b[0m\u001b[1;33m]\u001b[0m\u001b[1;33m,\u001b[0m\u001b[1;33m\u001b[0m\u001b[0m\n\u001b[0;32m      5\u001b[0m             \u001b[0mlabels\u001b[0m\u001b[1;33m=\u001b[0m\u001b[1;33m[\u001b[0m\u001b[1;34mu\"pozycja\"\u001b[0m\u001b[1;33m,\u001b[0m\u001b[1;34mu\"predkosc\"\u001b[0m\u001b[1;33m]\u001b[0m\u001b[1;33m,\u001b[0m\u001b[1;33m\u001b[0m\u001b[0m\n\u001b[1;32m----> 6\u001b[1;33m             step = 0.1)\n\u001b[0m",
      "\u001b[1;32m<ipython-input-196-75a8bbe02ded>\u001b[0m in \u001b[0;36madaptive_rk\u001b[1;34m(method, t_0, y_0s, approx, exact, labels, step)\u001b[0m\n\u001b[0;32m     16\u001b[0m             \u001b[1;32mprint\u001b[0m \u001b[1;34m\"stepchange\"\u001b[0m\u001b[1;33m\u001b[0m\u001b[0m\n\u001b[0;32m     17\u001b[0m         \u001b[1;32melse\u001b[0m\u001b[1;33m:\u001b[0m\u001b[1;33m\u001b[0m\u001b[0m\n\u001b[1;32m---> 18\u001b[1;33m             \u001b[0mY\u001b[0m\u001b[1;33m[\u001b[0m\u001b[1;33m:\u001b[0m\u001b[1;33m,\u001b[0m\u001b[0mi\u001b[0m\u001b[1;33m]\u001b[0m \u001b[1;33m=\u001b[0m \u001b[0mY\u001b[0m\u001b[1;33m[\u001b[0m\u001b[1;33m:\u001b[0m\u001b[1;33m,\u001b[0m\u001b[0mi\u001b[0m\u001b[1;33m-\u001b[0m\u001b[1;36m1\u001b[0m\u001b[1;33m]\u001b[0m \u001b[1;33m+\u001b[0m \u001b[0my_2\u001b[0m\u001b[1;33m\u001b[0m\u001b[0m\n\u001b[0m\u001b[0;32m     19\u001b[0m             \u001b[0mX\u001b[0m\u001b[1;33m[\u001b[0m\u001b[0mi\u001b[0m\u001b[1;33m]\u001b[0m \u001b[1;33m=\u001b[0m \u001b[0mX\u001b[0m\u001b[1;33m[\u001b[0m\u001b[0mi\u001b[0m\u001b[1;33m-\u001b[0m\u001b[1;36m1\u001b[0m\u001b[1;33m]\u001b[0m \u001b[1;33m+\u001b[0m \u001b[0mstep\u001b[0m\u001b[1;33m\u001b[0m\u001b[0m\n\u001b[0;32m     20\u001b[0m             \u001b[0mi\u001b[0m\u001b[1;33m+=\u001b[0m\u001b[1;36m1\u001b[0m\u001b[1;33m\u001b[0m\u001b[0m\n",
      "\u001b[1;31mIndexError\u001b[0m: index 100 is out of bounds for axis 1 with size 100"
     ]
    }
   ],
   "source": [
    "x = adaptive_rk(fehlberg_7_8,\n",
    "            0,\n",
    "            [0.1,0.],\n",
    "            [lambda t,ys: ys[1],lambda t,ys: -3.*ys[1]/(3.*20)-10/20*np.sin(ys[0])],\n",
    "            labels=[u\"pozycja\",u\"predkosc\"],\n",
    "            step = 0.1)"
   ]
  },
  {
   "cell_type": "code",
   "execution_count": 144,
   "metadata": {
    "collapsed": true
   },
   "outputs": [],
   "source": [
    "import pandas as pd"
   ]
  },
  {
   "cell_type": "code",
   "execution_count": 145,
   "metadata": {
    "collapsed": false
   },
   "outputs": [
    {
     "data": {
      "text/html": [
       "<div>\n",
       "<table border=\"1\" class=\"dataframe\">\n",
       "  <thead>\n",
       "    <tr style=\"text-align: right;\">\n",
       "      <th></th>\n",
       "      <th>0</th>\n",
       "    </tr>\n",
       "  </thead>\n",
       "  <tbody>\n",
       "    <tr>\n",
       "      <th>0</th>\n",
       "      <td>-78.156792</td>\n",
       "    </tr>\n",
       "    <tr>\n",
       "      <th>1</th>\n",
       "      <td>0.103493</td>\n",
       "    </tr>\n",
       "    <tr>\n",
       "      <th>2</th>\n",
       "      <td>0.123005</td>\n",
       "    </tr>\n",
       "    <tr>\n",
       "      <th>3</th>\n",
       "      <td>0.154317</td>\n",
       "    </tr>\n",
       "    <tr>\n",
       "      <th>4</th>\n",
       "      <td>0.200168</td>\n",
       "    </tr>\n",
       "    <tr>\n",
       "      <th>5</th>\n",
       "      <td>0.265404</td>\n",
       "    </tr>\n",
       "    <tr>\n",
       "      <th>6</th>\n",
       "      <td>0.348260</td>\n",
       "    </tr>\n",
       "    <tr>\n",
       "      <th>7</th>\n",
       "      <td>0.428350</td>\n",
       "    </tr>\n",
       "    <tr>\n",
       "      <th>8</th>\n",
       "      <td>0.486936</td>\n",
       "    </tr>\n",
       "    <tr>\n",
       "      <th>9</th>\n",
       "      <td>0.499443</td>\n",
       "    </tr>\n",
       "    <tr>\n",
       "      <th>10</th>\n",
       "      <td>0.528253</td>\n",
       "    </tr>\n",
       "    <tr>\n",
       "      <th>11</th>\n",
       "      <td>0.608805</td>\n",
       "    </tr>\n",
       "    <tr>\n",
       "      <th>12</th>\n",
       "      <td>0.653204</td>\n",
       "    </tr>\n",
       "    <tr>\n",
       "      <th>13</th>\n",
       "      <td>0.645688</td>\n",
       "    </tr>\n",
       "    <tr>\n",
       "      <th>14</th>\n",
       "      <td>0.706689</td>\n",
       "    </tr>\n",
       "    <tr>\n",
       "      <th>15</th>\n",
       "      <td>0.747917</td>\n",
       "    </tr>\n",
       "    <tr>\n",
       "      <th>16</th>\n",
       "      <td>0.735223</td>\n",
       "    </tr>\n",
       "    <tr>\n",
       "      <th>17</th>\n",
       "      <td>0.771931</td>\n",
       "    </tr>\n",
       "    <tr>\n",
       "      <th>18</th>\n",
       "      <td>0.798524</td>\n",
       "    </tr>\n",
       "    <tr>\n",
       "      <th>19</th>\n",
       "      <td>0.768652</td>\n",
       "    </tr>\n",
       "    <tr>\n",
       "      <th>20</th>\n",
       "      <td>0.819453</td>\n",
       "    </tr>\n",
       "    <tr>\n",
       "      <th>21</th>\n",
       "      <td>0.828820</td>\n",
       "    </tr>\n",
       "    <tr>\n",
       "      <th>22</th>\n",
       "      <td>0.807096</td>\n",
       "    </tr>\n",
       "    <tr>\n",
       "      <th>23</th>\n",
       "      <td>0.847868</td>\n",
       "    </tr>\n",
       "    <tr>\n",
       "      <th>24</th>\n",
       "      <td>0.834578</td>\n",
       "    </tr>\n",
       "    <tr>\n",
       "      <th>25</th>\n",
       "      <td>0.846164</td>\n",
       "    </tr>\n",
       "    <tr>\n",
       "      <th>26</th>\n",
       "      <td>0.863263</td>\n",
       "    </tr>\n",
       "    <tr>\n",
       "      <th>27</th>\n",
       "      <td>0.822952</td>\n",
       "    </tr>\n",
       "    <tr>\n",
       "      <th>28</th>\n",
       "      <td>0.859292</td>\n",
       "    </tr>\n",
       "    <tr>\n",
       "      <th>29</th>\n",
       "      <td>0.855499</td>\n",
       "    </tr>\n",
       "    <tr>\n",
       "      <th>...</th>\n",
       "      <td>...</td>\n",
       "    </tr>\n",
       "    <tr>\n",
       "      <th>70</th>\n",
       "      <td>0.871173</td>\n",
       "    </tr>\n",
       "    <tr>\n",
       "      <th>71</th>\n",
       "      <td>0.841774</td>\n",
       "    </tr>\n",
       "    <tr>\n",
       "      <th>72</th>\n",
       "      <td>0.877713</td>\n",
       "    </tr>\n",
       "    <tr>\n",
       "      <th>73</th>\n",
       "      <td>0.859632</td>\n",
       "    </tr>\n",
       "    <tr>\n",
       "      <th>74</th>\n",
       "      <td>0.863657</td>\n",
       "    </tr>\n",
       "    <tr>\n",
       "      <th>75</th>\n",
       "      <td>0.873792</td>\n",
       "    </tr>\n",
       "    <tr>\n",
       "      <th>76</th>\n",
       "      <td>0.833257</td>\n",
       "    </tr>\n",
       "    <tr>\n",
       "      <th>77</th>\n",
       "      <td>0.874572</td>\n",
       "    </tr>\n",
       "    <tr>\n",
       "      <th>78</th>\n",
       "      <td>0.864107</td>\n",
       "    </tr>\n",
       "    <tr>\n",
       "      <th>79</th>\n",
       "      <td>0.855103</td>\n",
       "    </tr>\n",
       "    <tr>\n",
       "      <th>80</th>\n",
       "      <td>0.873914</td>\n",
       "    </tr>\n",
       "    <tr>\n",
       "      <th>81</th>\n",
       "      <td>0.833745</td>\n",
       "    </tr>\n",
       "    <tr>\n",
       "      <th>82</th>\n",
       "      <td>0.870254</td>\n",
       "    </tr>\n",
       "    <tr>\n",
       "      <th>83</th>\n",
       "      <td>0.867528</td>\n",
       "    </tr>\n",
       "    <tr>\n",
       "      <th>84</th>\n",
       "      <td>0.845066</td>\n",
       "    </tr>\n",
       "    <tr>\n",
       "      <th>85</th>\n",
       "      <td>0.873466</td>\n",
       "    </tr>\n",
       "    <tr>\n",
       "      <th>86</th>\n",
       "      <td>0.845676</td>\n",
       "    </tr>\n",
       "    <tr>\n",
       "      <th>87</th>\n",
       "      <td>0.869607</td>\n",
       "    </tr>\n",
       "    <tr>\n",
       "      <th>88</th>\n",
       "      <td>0.873367</td>\n",
       "    </tr>\n",
       "    <tr>\n",
       "      <th>89</th>\n",
       "      <td>0.838152</td>\n",
       "    </tr>\n",
       "    <tr>\n",
       "      <th>90</th>\n",
       "      <td>0.873957</td>\n",
       "    </tr>\n",
       "    <tr>\n",
       "      <th>91</th>\n",
       "      <td>0.854980</td>\n",
       "    </tr>\n",
       "    <tr>\n",
       "      <th>92</th>\n",
       "      <td>0.865269</td>\n",
       "    </tr>\n",
       "    <tr>\n",
       "      <th>93</th>\n",
       "      <td>0.876148</td>\n",
       "    </tr>\n",
       "    <tr>\n",
       "      <th>94</th>\n",
       "      <td>0.829319</td>\n",
       "    </tr>\n",
       "    <tr>\n",
       "      <th>95</th>\n",
       "      <td>0.867438</td>\n",
       "    </tr>\n",
       "    <tr>\n",
       "      <th>96</th>\n",
       "      <td>0.857971</td>\n",
       "    </tr>\n",
       "    <tr>\n",
       "      <th>97</th>\n",
       "      <td>0.853738</td>\n",
       "    </tr>\n",
       "    <tr>\n",
       "      <th>98</th>\n",
       "      <td>0.874613</td>\n",
       "    </tr>\n",
       "    <tr>\n",
       "      <th>99</th>\n",
       "      <td>0.840783</td>\n",
       "    </tr>\n",
       "  </tbody>\n",
       "</table>\n",
       "<p>100 rows × 1 columns</p>\n",
       "</div>"
      ],
      "text/plain": [
       "            0\n",
       "0  -78.156792\n",
       "1    0.103493\n",
       "2    0.123005\n",
       "3    0.154317\n",
       "4    0.200168\n",
       "5    0.265404\n",
       "6    0.348260\n",
       "7    0.428350\n",
       "8    0.486936\n",
       "9    0.499443\n",
       "10   0.528253\n",
       "11   0.608805\n",
       "12   0.653204\n",
       "13   0.645688\n",
       "14   0.706689\n",
       "15   0.747917\n",
       "16   0.735223\n",
       "17   0.771931\n",
       "18   0.798524\n",
       "19   0.768652\n",
       "20   0.819453\n",
       "21   0.828820\n",
       "22   0.807096\n",
       "23   0.847868\n",
       "24   0.834578\n",
       "25   0.846164\n",
       "26   0.863263\n",
       "27   0.822952\n",
       "28   0.859292\n",
       "29   0.855499\n",
       "..        ...\n",
       "70   0.871173\n",
       "71   0.841774\n",
       "72   0.877713\n",
       "73   0.859632\n",
       "74   0.863657\n",
       "75   0.873792\n",
       "76   0.833257\n",
       "77   0.874572\n",
       "78   0.864107\n",
       "79   0.855103\n",
       "80   0.873914\n",
       "81   0.833745\n",
       "82   0.870254\n",
       "83   0.867528\n",
       "84   0.845066\n",
       "85   0.873466\n",
       "86   0.845676\n",
       "87   0.869607\n",
       "88   0.873367\n",
       "89   0.838152\n",
       "90   0.873957\n",
       "91   0.854980\n",
       "92   0.865269\n",
       "93   0.876148\n",
       "94   0.829319\n",
       "95   0.867438\n",
       "96   0.857971\n",
       "97   0.853738\n",
       "98   0.874613\n",
       "99   0.840783\n",
       "\n",
       "[100 rows x 1 columns]"
      ]
     },
     "execution_count": 145,
     "metadata": {},
     "output_type": "execute_result"
    }
   ],
   "source": [
    "pd.DataFrame(x-np.roll(x,1))"
   ]
  },
  {
   "cell_type": "code",
   "execution_count": null,
   "metadata": {
    "collapsed": true
   },
   "outputs": [],
   "source": []
  }
 ],
 "metadata": {
  "kernelspec": {
   "display_name": "Python 2",
   "language": "python",
   "name": "python2"
  },
  "language_info": {
   "codemirror_mode": {
    "name": "ipython",
    "version": 2
   },
   "file_extension": ".py",
   "mimetype": "text/x-python",
   "name": "python",
   "nbconvert_exporter": "python",
   "pygments_lexer": "ipython2",
   "version": "2.7.11"
  }
 },
 "nbformat": 4,
 "nbformat_minor": 0
}
