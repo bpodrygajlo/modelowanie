{
 "cells": [
  {
   "cell_type": "code",
   "execution_count": 2,
   "metadata": {
    "collapsed": false
   },
   "outputs": [
    {
     "name": "stdout",
     "output_type": "stream",
     "text": [
      "Populating the interactive namespace from numpy and matplotlib\n"
     ]
    }
   ],
   "source": [
    "%pylab inline"
   ]
  },
  {
   "cell_type": "markdown",
   "metadata": {},
   "source": [
    "Metoda Newtona i siecznych"
   ]
  },
  {
   "cell_type": "code",
   "execution_count": 3,
   "metadata": {
    "collapsed": true
   },
   "outputs": [],
   "source": [
    "def newton(a,f,df,max_num=100,eps=1e-5,sigma = 1e-5):\n",
    "    print \"nr strzalu, x, f(x)\"\n",
    "    for i in range(max_num):\n",
    "        fa = f(a)\n",
    "        print i+1,a,fa\n",
    "        if np.abs(fa) < eps:\n",
    "            break\n",
    "        last_a = a\n",
    "        a = a - fa/df(a)\n",
    "        if np.abs(last_a - a) < sigma:\n",
    "            break\n",
    "    return a\n",
    "\n",
    "def sieczne(a,b,f,max_num=100,eps = 1e-5,sigma = 1e-5):\n",
    "    fa = f(a)\n",
    "    fb = f(b)\n",
    "    print \"nr strzalu, x, f(x)\"\n",
    "    print 0,a,fa\n",
    "    print 1,b,fb\n",
    "    for i in range(max_num):\n",
    "        if np.abs(fa) > np.abs(fb):\n",
    "            b,a = a,b\n",
    "            fa, fb = fb, fa\n",
    "        s = (b-a)/(fb-fa)\n",
    "        b = a\n",
    "        fb = fa\n",
    "        a = a - fa*s\n",
    "        fa = f(a)\n",
    "        print i+2,a,fa\n",
    "        if np.abs(fa) < eps or np.abs(b-a) < sigma:\n",
    "            break\n",
    "    return a"
   ]
  },
  {
   "cell_type": "markdown",
   "metadata": {},
   "source": [
    "Proste testy dla metod newtona i siecznych"
   ]
  },
  {
   "cell_type": "code",
   "execution_count": 4,
   "metadata": {
    "collapsed": false
   },
   "outputs": [
    {
     "data": {
      "text/plain": [
       "[<matplotlib.lines.Line2D at 0xa4e94a8>]"
      ]
     },
     "execution_count": 4,
     "metadata": {},
     "output_type": "execute_result"
    },
    {
     "data": {
      "image/png": "[encoded data removed]",
      "text/plain": [
       "<matplotlib.figure.Figure at 0xa4e5fd0>"
      ]
     },
     "metadata": {},
     "output_type": "display_data"
    }
   ],
   "source": [
    "f = lambda x: -4/np.pi**2*x*(x-np.pi)\n",
    "x = np.linspace(-2,5,100)\n",
    "df = lambda x: 4*(np.pi - 2*x)/np.pi**2\n",
    "plt.figure()\n",
    "plt.grid()\n",
    "plt.plot(x,f(x))"
   ]
  },
  {
   "cell_type": "code",
   "execution_count": 5,
   "metadata": {
    "collapsed": false
   },
   "outputs": [
    {
     "name": "stdout",
     "output_type": "stream",
     "text": [
      "nr strzalu, x, f(x)\n",
      "0 6 -6.95081317609\n",
      "1 5 -3.76592064056\n",
      "2 3.81756743798 -1.04586940708\n",
      "3 3.3629178978 -0.30165287067\n",
      "4 3.17863505506 -0.0477199575815\n",
      "5 3.14400398132 -0.00307255435032\n",
      "6 3.14162073283 -3.57519203139e-05\n",
      "7 3.14159267513 -2.7419830677e-08\n"
     ]
    },
    {
     "data": {
      "text/plain": [
       "3.1415926751252776"
      ]
     },
     "execution_count": 5,
     "metadata": {},
     "output_type": "execute_result"
    }
   ],
   "source": [
    "sieczne(6,5,f)"
   ]
  },
  {
   "cell_type": "code",
   "execution_count": 6,
   "metadata": {
    "collapsed": false
   },
   "outputs": [
    {
     "name": "stdout",
     "output_type": "stream",
     "text": [
      "nr strzalu, x, f(x)\n",
      "0 -6 -22.2296877129\n",
      "1 -5 -16.4983160879\n",
      "2 -2.12140179221 -4.52497400948\n",
      "3 -1.03351989685 -1.74882871375\n",
      "4 -0.348210270342 -0.492496019172\n",
      "5 -0.079561476584 -0.103866282168\n",
      "6 -0.00776164049436 -0.0099068432033\n",
      "7 -0.00019124920633 -0.000243520876197\n",
      "8 -4.71308499578e-07 -6.00088709459e-07\n"
     ]
    },
    {
     "data": {
      "text/plain": [
       "-4.713084995781674e-07"
      ]
     },
     "execution_count": 6,
     "metadata": {},
     "output_type": "execute_result"
    }
   ],
   "source": [
    "sieczne(-6,-5,f)"
   ]
  },
  {
   "cell_type": "code",
   "execution_count": 7,
   "metadata": {
    "collapsed": false
   },
   "outputs": [
    {
     "name": "stdout",
     "output_type": "stream",
     "text": [
      "nr strzalu, x, f(x)\n",
      "1 -3 -7.46728124533\n",
      "2 -0.984511161353 -1.6463457272\n",
      "3 -0.189656671716 -0.256056325672\n",
      "4 -0.0102160220003 -0.0130497415953\n",
      "5 -3.30064169296e-05 -4.20255167916e-05\n",
      "6 -3.46767002462e-10 -4.41517460393e-10\n"
     ]
    },
    {
     "data": {
      "text/plain": [
       "-3.4676700246205833e-10"
      ]
     },
     "execution_count": 7,
     "metadata": {},
     "output_type": "execute_result"
    }
   ],
   "source": [
    "newton(-3,f,df)"
   ]
  },
  {
   "cell_type": "code",
   "execution_count": 8,
   "metadata": {
    "collapsed": false
   },
   "outputs": [
    {
     "name": "stdout",
     "output_type": "stream",
     "text": [
      "nr strzalu, x, f(x)\n",
      "1 6 -6.95081317609\n",
      "2 4.06393594155 -1.51914661868\n",
      "3 3.31220426632 -0.229026610831\n",
      "4 3.14995035133 -0.0106696608532\n",
      "5 3.14161477021 -2.81599584743e-05\n",
      "6 3.14159265375 -1.98240439356e-10\n"
     ]
    },
    {
     "data": {
      "text/plain": [
       "3.141592653745491"
      ]
     },
     "execution_count": 8,
     "metadata": {},
     "output_type": "execute_result"
    }
   ],
   "source": [
    "newton(6,f,df)"
   ]
  },
  {
   "cell_type": "markdown",
   "metadata": {},
   "source": [
    "Metoda bisekcji"
   ]
  },
  {
   "cell_type": "code",
   "execution_count": 9,
   "metadata": {
    "collapsed": true
   },
   "outputs": [],
   "source": [
    "def bisekcja(a,b,f,max_num=100,sigma = 1e-5, eps = 1e-5):\n",
    "    fa = f(a)\n",
    "    fb = f(b)\n",
    "    e = b-a\n",
    "    if np.sign(fa) == np.sign(fb):\n",
    "        print \"Zle dane\"\n",
    "    for k in range(max_num):\n",
    "        e = e/2\n",
    "        c = a + e\n",
    "        fc = f(c)\n",
    "        if np.abs(e) < sigma or np.abs(fc) < eps:\n",
    "            break\n",
    "        if np.sign(fc) != np.sign(fa):\n",
    "            b, fb = c, fc\n",
    "        else:\n",
    "            a, fa = c, fc\n",
    "    return a\n",
    "        "
   ]
  },
  {
   "cell_type": "code",
   "execution_count": 10,
   "metadata": {
    "collapsed": false
   },
   "outputs": [
    {
     "data": {
      "text/plain": [
       "-1"
      ]
     },
     "execution_count": 10,
     "metadata": {},
     "output_type": "execute_result"
    }
   ],
   "source": [
    "bisekcja(-5,2,f)"
   ]
  },
  {
   "cell_type": "code",
   "execution_count": 11,
   "metadata": {
    "collapsed": false
   },
   "outputs": [
    {
     "data": {
      "text/plain": [
       "4"
      ]
     },
     "execution_count": 11,
     "metadata": {},
     "output_type": "execute_result"
    }
   ],
   "source": [
    "bisekcja(5,2,f)"
   ]
  },
  {
   "cell_type": "markdown",
   "metadata": {},
   "source": [
    "Metoda strzału"
   ]
  },
  {
   "cell_type": "code",
   "execution_count": 12,
   "metadata": {
    "collapsed": true
   },
   "outputs": [],
   "source": [
    "from __future__ import division"
   ]
  },
  {
   "cell_type": "code",
   "execution_count": 13,
   "metadata": {
    "collapsed": true
   },
   "outputs": [],
   "source": [
    "# form mzp6.ipnyb\n",
    "class SystemSolver():\n",
    "    def __init__(self,updates = None):\n",
    "        if isinstance(updates,list):\n",
    "            max_len = max([len(x) for x in updates])\n",
    "            [x.extend([0]*(max_len-len(x))) for x in updates]\n",
    "            self.updates = np.asarray(updates, dtype = np.float64)\n",
    "        else:\n",
    "            self.updates = updates\n",
    "        \n",
    "    @property\n",
    "    def update_count(self):\n",
    "        return min(self.updates.shape)-1\n",
    "    \n",
    "    def __call__(self,tn,yn,functions,h):\n",
    "        k = np.zeros(shape=(self.update_count,len(functions)))\n",
    "        for i in range(self.update_count):\n",
    "            a = self.updates[i,0]\n",
    "            b = self.updates[i,1:]\n",
    "            upd = np.sum(b[:,np.newaxis]*k,axis = 0)\n",
    "            for j in range(len(functions)):\n",
    "                k[i,j]= h * functions[j](tn+a*h, yn+upd)\n",
    "        c = self.updates[self.update_count,1:]\n",
    "        return np.sum(c[:,np.newaxis]*k, axis = 0)"
   ]
  },
  {
   "cell_type": "code",
   "execution_count": 14,
   "metadata": {
    "collapsed": true
   },
   "outputs": [],
   "source": [
    "runge_kutta = SystemSolver([[0],\n",
    "                            [1/3,1/3],\n",
    "                            [2/4,-1/3,1],\n",
    "                            [1,1,-1,1],\n",
    "                            [0,1/8,3/8,3/8,1/8]])"
   ]
  },
  {
   "cell_type": "code",
   "execution_count": 23,
   "metadata": {
    "collapsed": true
   },
   "outputs": [],
   "source": [
    "odes = [lambda t,ys: ys[1],lambda t,ys: 400*ys[0] - 401*np.sin(t)]"
   ]
  },
  {
   "cell_type": "code",
   "execution_count": 24,
   "metadata": {
    "collapsed": true
   },
   "outputs": [],
   "source": [
    "def shoot(method,functions,y_0s,x,step):\n",
    "    y = np.zeros(shape=(len(y_0s),)+x.shape)\n",
    "    y[:,0] = y_0s\n",
    "    for i in range(len(x)-1):\n",
    "        y[:,i+1] = y[:,i] + method(tn=x[i],\n",
    "                                   yn=y[:,i],\n",
    "                                   functions = functions,\n",
    "                                   h=step)\n",
    "    return y"
   ]
  },
  {
   "cell_type": "code",
   "execution_count": 25,
   "metadata": {
    "collapsed": true
   },
   "outputs": [],
   "source": [
    "A = [2,3,4,5]\n",
    "step = 0.1"
   ]
  },
  {
   "cell_type": "code",
   "execution_count": 26,
   "metadata": {
    "collapsed": true
   },
   "outputs": [],
   "source": [
    "def f(x, end, step=0.1):\n",
    "    t = np.linspace(0,2,2/step)\n",
    "    y = shoot(method=runge_kutta,\n",
    "          functions=odes,\n",
    "          y_0s=[0,x],\n",
    "          x = t,\n",
    "          step = step)\n",
    "    return y"
   ]
  },
  {
   "cell_type": "code",
   "execution_count": 27,
   "metadata": {
    "collapsed": true
   },
   "outputs": [],
   "source": [
    "def f1(x):\n",
    "    return f(x,2)[0,-1] - np.sin(2)"
   ]
  },
  {
   "cell_type": "code",
   "execution_count": 31,
   "metadata": {
    "collapsed": false
   },
   "outputs": [
    {
     "name": "stdout",
     "output_type": "stream",
     "text": [
      "nr strzalu, x, f(x)\n",
      "0 0 -2.70095552108e+14\n",
      "1 1 1.48768275261e+13\n",
      "2 0.947795545852 0.00137009980303\n",
      "3 0.947795545852 0.00137009980303\n"
     ]
    },
    {
     "data": {
      "text/plain": [
       "0.94779554585177517"
      ]
     },
     "execution_count": 31,
     "metadata": {},
     "output_type": "execute_result"
    }
   ],
   "source": [
    "sieczne(0,1,f1)"
   ]
  },
  {
   "cell_type": "markdown",
   "metadata": {},
   "source": [
    "## Zadanie 2"
   ]
  },
  {
   "cell_type": "markdown",
   "metadata": {},
   "source": [
    "Metoda strzału + metoda siecznych"
   ]
  },
  {
   "cell_type": "code",
   "execution_count": 29,
   "metadata": {
    "collapsed": false
   },
   "outputs": [
    {
     "name": "stdout",
     "output_type": "stream",
     "text": [
      "a =  2\n",
      "nr strzalu, x, f(x)\n",
      "0 0 -2.70095552108e+14\n",
      "1 1 1.48768275261e+13\n",
      "2 0.947795545852 -0.0032545820646\n",
      "3 0.947795545852 -0.0032545820646\n",
      "Znaleziony pierwiastek:  0.947795545852\n",
      "a =  3\n",
      "nr strzalu, x, f(x)\n",
      "0 0 -2.70095552108e+14\n",
      "1 1 1.48768275261e+13\n",
      "2 0.947795545852 -0.0162765007059\n",
      "3 0.947795545852 0.0243971220055\n",
      "Znaleziony pierwiastek:  0.947795545852\n",
      "a =  4\n",
      "nr strzalu, x, f(x)\n",
      "0 0 -2.70095552108e+14\n",
      "1 1 1.48768275261e+13\n",
      "2 0.947795545852 0.0101137240884\n",
      "3 0.947795545852 0.0101137240884\n",
      "Znaleziony pierwiastek:  0.947795545852\n",
      "a =  5\n",
      "nr strzalu, x, f(x)\n",
      "0 0 -2.70095552108e+14\n",
      "1 1 1.48768275261e+13\n",
      "2 0.947795545852 0.00137009980303\n",
      "3 0.947795545852 0.00137009980303\n",
      "Znaleziony pierwiastek:  0.947795545852\n"
     ]
    },
    {
     "data": {
      "image/png": "[encoded data removed]",
      "text/plain": [
       "<matplotlib.figure.Figure at 0xad307b8>"
      ]
     },
     "metadata": {},
     "output_type": "display_data"
    }
   ],
   "source": [
    "plt.figure(figsize=(5,len(A)*2))\n",
    "for k,a in enumerate(A):\n",
    "    print \"a = \", a\n",
    "    x = np.linspace(0,a,a/step)\n",
    "    def f1(x):\n",
    "        return f(x,a)[0,-1]-np.sin(a)\n",
    "    root = sieczne(0,1,f1)\n",
    "    print \"Znaleziony pierwiastek: \", root\n",
    "    y = shoot(method=runge_kutta,\n",
    "          functions=odes,\n",
    "          y_0s=[0,root],\n",
    "          x = x,\n",
    "          step = step)\n",
    "    plt.subplot(len(A),1,k+1)\n",
    "    plt.plot(x,y[0,:],linestyle='--',color = 'red')\n",
    "    plt.scatter([a],[np.sin(a)])\n",
    "plt.show()"
   ]
  },
  {
   "cell_type": "markdown",
   "metadata": {},
   "source": [
    "## Zadanie 3"
   ]
  },
  {
   "cell_type": "code",
   "execution_count": 49,
   "metadata": {
    "collapsed": true
   },
   "outputs": [],
   "source": [
    "odes = [lambda t,ys: ys[1], lambda t,ys: ys[1]**2 + ys[0]**2 - ys[0] - 1]"
   ]
  },
  {
   "cell_type": "code",
   "execution_count": 50,
   "metadata": {
    "collapsed": true
   },
   "outputs": [],
   "source": [
    "def f(x, a, step=0.1):\n",
    "    t = np.linspace(0,a,a/step)\n",
    "    y = shoot(method=runge_kutta,\n",
    "          functions=odes,\n",
    "          y_0s=[0.5,x],\n",
    "          x = t,\n",
    "          step = step)\n",
    "    return y"
   ]
  },
  {
   "cell_type": "markdown",
   "metadata": {},
   "source": [
    "Metoda strzału + siecznych"
   ]
  },
  {
   "cell_type": "code",
   "execution_count": 51,
   "metadata": {
    "collapsed": false
   },
   "outputs": [
    {
     "name": "stdout",
     "output_type": "stream",
     "text": [
      "nr strzalu, x, f(x)\n",
      "0 0 -0.414813616079\n",
      "1 1 nan\n",
      "2 nan nan\n",
      "3 nan nan\n",
      "4 nan nan\n",
      "5 nan nan\n",
      "6 nan nan\n",
      "7 nan nan\n",
      "8 nan nan\n",
      "9 nan nan\n",
      "10 nan nan\n",
      "11 nan nan\n",
      "12 nan nan\n",
      "13 nan nan\n",
      "14 nan nan\n",
      "15 nan nan\n",
      "16 nan nan\n",
      "17 nan nan\n",
      "18 nan nan\n",
      "19 nan nan\n",
      "20 nan nan\n",
      "21 nan nan\n",
      "22 nan nan\n",
      "23 nan nan\n",
      "24 nan nan\n",
      "25 nan nan\n",
      "26 nan nan\n",
      "27 nan nan\n",
      "28 nan nan\n",
      "29 nan nan\n",
      "30 nan nan\n",
      "31 nan nan\n",
      "32 nan nan\n",
      "33 nan nan\n",
      "34 nan nan\n",
      "35 nan nan\n",
      "36 nan nan\n",
      "37 nan nan\n",
      "38 nan nan\n",
      "39 nan nan\n",
      "40 nan nan\n",
      "41 nan nan\n",
      "42 nan nan\n",
      "43 nan nan\n",
      "44 nan nan\n",
      "45 nan nan\n",
      "46 nan nan\n",
      "47 nan nan\n",
      "48 nan nan\n",
      "49 nan nan\n",
      "50 nan nan\n",
      "51 nan nan\n",
      "52 nan nan\n",
      "53 nan nan\n",
      "54 nan nan\n",
      "55 nan nan\n",
      "56 nan nan\n",
      "57 nan nan\n",
      "58 nan nan\n",
      "59 nan nan\n",
      "60 nan nan\n",
      "61 nan nan\n",
      "62 nan nan\n",
      "63 nan nan\n",
      "64 nan nan\n",
      "65 nan nan\n",
      "66 nan nan\n",
      "67 nan nan\n",
      "68 nan nan\n",
      "69 nan nan\n",
      "70 nan nan\n",
      "71 nan nan\n",
      "72 nan nan\n",
      "73 nan nan\n",
      "74 nan nan\n",
      "75 nan nan\n",
      "76 nan nan\n",
      "77 nan nan\n",
      "78 nan nan\n",
      "79 nan nan\n",
      "80 nan nan\n",
      "81 nan nan\n",
      "82 nan nan\n",
      "83 nan nan\n",
      "84 nan nan\n",
      "85 nan nan\n",
      "86 nan nan\n",
      "87 nan nan\n",
      "88 nan nan\n",
      "89 nan nan\n",
      "90 nan nan\n",
      "91 nan nan\n",
      "92 nan nan\n",
      "93 nan nan\n",
      "94 nan nan\n",
      "95 nan nan\n",
      "96 nan nan\n",
      "97 nan nan\n",
      "98 nan nan\n",
      "99 nan nan\n",
      "100 nan nan\n",
      "101 nan nan\n",
      "Znaleziony pierwiastek:  nan\n"
     ]
    },
    {
     "name": "stderr",
     "output_type": "stream",
     "text": [
      "d:\\anac\\lib\\site-packages\\IPython\\kernel\\__main__.py:1: RuntimeWarning: overflow encountered in double_scalars\n",
      "  if __name__ == '__main__':\n",
      "d:\\anac\\lib\\site-packages\\IPython\\kernel\\__main__.py:1: RuntimeWarning: invalid value encountered in double_scalars\n",
      "  if __name__ == '__main__':\n",
      "d:\\anac\\lib\\site-packages\\IPython\\kernel\\__main__.py:21: RuntimeWarning: invalid value encountered in absolute\n",
      "d:\\anac\\lib\\site-packages\\IPython\\kernel\\__main__.py:30: RuntimeWarning: invalid value encountered in absolute\n"
     ]
    },
    {
     "data": {
      "image/png": "[encoded data removed]",
      "text/plain": [
       "<matplotlib.figure.Figure at 0xa7089e8>"
      ]
     },
     "metadata": {},
     "output_type": "display_data"
    }
   ],
   "source": [
    "plt.figure()\n",
    "a = np.pi\n",
    "fa = -0.5\n",
    "def f1(x):\n",
    "    return f(x,a)[0,-1]-fa\n",
    "root = sieczne(0,1,f1)\n",
    "print \"Znaleziony pierwiastek: \", root\n",
    "x = np.linspace(0,a,a/step)\n",
    "y = shoot(method=runge_kutta,\n",
    "          functions=odes,\n",
    "          y_0s=[0,root],\n",
    "          x = x,\n",
    "          step = step)\n",
    "plt.plot(x,y[0,:],linestyle='--',color = 'red')\n",
    "plt.scatter([a],[np.sin(a)])\n",
    "plt.show()"
   ]
  },
  {
   "cell_type": "markdown",
   "metadata": {},
   "source": [
    "Metoda strzału + metoda newtona"
   ]
  },
  {
   "cell_type": "code",
   "execution_count": 44,
   "metadata": {
    "collapsed": false
   },
   "outputs": [
    {
     "name": "stdout",
     "output_type": "stream",
     "text": [
      "nr strzalu, x, f(x)\n",
      "1 1 1.44631517635\n",
      "2 5.47398134064 nan\n",
      "3 nan nan\n",
      "4 nan nan\n",
      "5 nan nan\n",
      "6 nan nan\n",
      "7 nan nan\n",
      "8 nan nan\n",
      "9 nan nan\n",
      "10 nan nan\n",
      "11 nan nan\n",
      "12 nan nan\n",
      "13 nan nan\n",
      "14 nan nan\n",
      "15 nan nan\n",
      "16 nan nan\n",
      "17 nan nan\n",
      "18 nan nan\n",
      "19 nan nan\n",
      "20 nan nan\n",
      "21 nan nan\n",
      "22 nan nan\n",
      "23 nan nan\n",
      "24 nan nan\n",
      "25 nan nan\n",
      "26 nan nan\n",
      "27 nan nan\n",
      "28 nan nan\n",
      "29 nan nan\n",
      "30 nan nan\n",
      "31 nan nan\n",
      "32 nan nan\n",
      "33 nan nan\n",
      "34 nan nan\n",
      "35 nan nan\n",
      "36 nan nan\n",
      "37 nan nan\n",
      "38 nan nan\n",
      "39 nan nan\n",
      "40 nan nan\n",
      "41 nan nan\n",
      "42 nan nan\n",
      "43 nan nan\n",
      "44 nan nan\n",
      "45 nan nan\n",
      "46 nan nan\n",
      "47 nan nan\n",
      "48 nan nan\n",
      "49 nan nan\n",
      "50 nan nan\n",
      "51 nan nan\n",
      "52 nan nan\n",
      "53 nan nan\n",
      "54 nan nan\n",
      "55 nan nan\n",
      "56 nan nan\n",
      "57 nan nan\n",
      "58 nan nan\n",
      "59 nan nan\n",
      "60 nan nan\n",
      "61 nan nan\n",
      "62 nan nan\n",
      "63 nan nan\n",
      "64 nan nan\n",
      "65 nan nan\n",
      "66 nan nan\n",
      "67 nan nan\n",
      "68 nan nan\n",
      "69 nan nan\n",
      "70 nan nan\n",
      "71 nan nan\n",
      "72 nan nan\n",
      "73 nan nan\n",
      "74 nan nan\n",
      "75 nan nan\n",
      "76 nan nan\n",
      "77 nan nan\n",
      "78 nan nan\n",
      "79 nan nan\n",
      "80 nan nan\n",
      "81 nan nan\n",
      "82 nan nan\n",
      "83 nan nan\n",
      "84 nan nan\n",
      "85 nan nan\n",
      "86 nan nan\n",
      "87 nan nan\n",
      "88 nan nan\n",
      "89 nan nan\n",
      "90 nan nan\n",
      "91 nan nan\n",
      "92 nan nan\n",
      "93 nan nan\n",
      "94 nan nan\n",
      "95 nan nan\n",
      "96 nan nan\n",
      "97 nan nan\n",
      "98 nan nan\n",
      "99 nan nan\n",
      "100 nan nan\n",
      "Znaleziony pierwiastek:  nan\n"
     ]
    },
    {
     "name": "stderr",
     "output_type": "stream",
     "text": [
      "d:\\anac\\lib\\site-packages\\IPython\\kernel\\__main__.py:1: RuntimeWarning: overflow encountered in double_scalars\n",
      "  if __name__ == '__main__':\n",
      "d:\\anac\\lib\\site-packages\\IPython\\kernel\\__main__.py:1: RuntimeWarning: invalid value encountered in double_scalars\n",
      "  if __name__ == '__main__':\n",
      "d:\\anac\\lib\\site-packages\\IPython\\kernel\\__main__.py:6: RuntimeWarning: invalid value encountered in absolute\n",
      "d:\\anac\\lib\\site-packages\\IPython\\kernel\\__main__.py:10: RuntimeWarning: invalid value encountered in absolute\n"
     ]
    },
    {
     "data": {
      "image/png": "[encoded data removed]",
      "text/plain": [
       "<matplotlib.figure.Figure at 0xac9b518>"
      ]
     },
     "metadata": {},
     "output_type": "display_data"
    }
   ],
   "source": [
    "plt.figure()\n",
    "\n",
    "x = np.linspace(0,a,a/step)\n",
    "def f1(x):\n",
    "    return f(x,a)[0,-1]-fa\n",
    "def df1(x):\n",
    "    return f(x,a)[1,-1]\n",
    "root = newton(1,f1,df1)\n",
    "print \"Znaleziony pierwiastek: \", root\n",
    "y = shoot(method=runge_kutta,\n",
    "          functions=odes,\n",
    "          y_0s=[0,root],\n",
    "          x = x,\n",
    "          step = step)\n",
    "plt.plot(x,y[0,:],linestyle='--',color = 'red')\n",
    "plt.scatter([a],[fa])\n",
    "plt.show()"
   ]
  },
  {
   "cell_type": "code",
   "execution_count": null,
   "metadata": {
    "collapsed": true
   },
   "outputs": [],
   "source": []
  }
 ],
 "metadata": {
  "kernelspec": {
   "display_name": "Python 2",
   "language": "python",
   "name": "python2"
  },
  "language_info": {
   "codemirror_mode": {
    "name": "ipython",
    "version": 2
   },
   "file_extension": ".py",
   "mimetype": "text/x-python",
   "name": "python",
   "nbconvert_exporter": "python",
   "pygments_lexer": "ipython2",
   "version": "2.7.11"
  }
 },
 "nbformat": 4,
 "nbformat_minor": 0
}
