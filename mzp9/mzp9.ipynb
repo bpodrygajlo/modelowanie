{
 "cells": [
  {
   "cell_type": "code",
   "execution_count": 4,
   "metadata": {
    "collapsed": true
   },
   "outputs": [],
   "source": [
    "import numpy as np\n",
    "import matplotlib.pyplot as plt\n",
    "from __future__ import division\n",
    "from mpl_toolkits.mplot3d import Axes3D"
   ]
  },
  {
   "cell_type": "code",
   "execution_count": 137,
   "metadata": {
    "collapsed": true
   },
   "outputs": [],
   "source": [
    "sigma = 10\n",
    "r = 20.96\n",
    "b = 8/3"
   ]
  },
  {
   "cell_type": "code",
   "execution_count": 138,
   "metadata": {
    "collapsed": true
   },
   "outputs": [],
   "source": [
    "def lorentz_update(tn,x):\n",
    "    return np.array([sigma*(x[:,1]-x[:,0]),\n",
    "            -x[:,0]*x[:,2]+r*x[:,0]-x[:,1],\n",
    "            x[:,0]*x[:,1]-b*x[:,2]]).T"
   ]
  },
  {
   "cell_type": "code",
   "execution_count": 139,
   "metadata": {
    "collapsed": true
   },
   "outputs": [],
   "source": [
    "def merson(tn,x,function,h):\n",
    "    k1 = h*function(tn,x)\n",
    "    k2 = h*function(tn+h/3,x+k1/3)\n",
    "    k3 = h*function(tn+h/3,x+(k1+k2)/6)\n",
    "    k4 = h*function(tn+h/2,x+(k1+k3*3)/8)\n",
    "    k5 = h*function(tn+h,x+k1/2-3*k3/2+2*k4)\n",
    "    return k1/6+2*k4/3+k5/6"
   ]
  },
  {
   "cell_type": "code",
   "execution_count": 141,
   "metadata": {
    "collapsed": false
   },
   "outputs": [],
   "source": [
    "def lorentz(start_pos, update_function, step = 0.01, filename = None):\n",
    "    import matplotlib.animation as animation\n",
    "    \n",
    "    global state\n",
    "    start_pos = np.asarray(start_pos,dtype=float)\n",
    "    \n",
    "    state = np.zeros(shape = (1001,)+start_pos.shape)\n",
    "    \n",
    "    fig = plt.figure(figsize=(10,10))\n",
    "    ax = fig.gca(projection='3d')\n",
    "    ax.grid()\n",
    "    ax.set_xlim3d(-30+min(start_pos[:,0]),max(start_pos[:,0])+30)\n",
    "    ax.set_ylim3d(-30+min(start_pos[:,1]),max(start_pos[:,1])+30)\n",
    "    ax.set_zlim3d(-30+min(start_pos[:,2]),max(start_pos[:,2])+30)\n",
    "\n",
    "    string = 'Uklad lorentza \\n sigma = %.1f, b = %.1f, r = %.1f, \\n Bartosz Podrygajlo' % (sigma,b,r) \n",
    "    text = ax.text(0.05, 0.9, 0,string, transform=ax.transAxes)\n",
    "    \n",
    "    points, = ax.plot([],[], linestyle='None', marker='.', markersize = 10.)\n",
    "    \n",
    "    hist = []\n",
    "    for i in range(start_pos.shape[0]):\n",
    "        hist.append(ax.plot([],[],linestyle='-')[0])\n",
    "    \n",
    "    state[0] = start_pos\n",
    "    \n",
    "    def init():\n",
    "        \n",
    "        return None\n",
    "    \n",
    "    def animate(t):\n",
    "        global state\n",
    "        \n",
    "        state[t+1] = state[t]  + merson(tn=t*step,\n",
    "                                    x=state[t],\n",
    "                                    function=update_function,\n",
    "                                    h=step)\n",
    "        ax.view_init(30, t)\n",
    "        \n",
    "        \n",
    "        points._verts3d = state[t,:,0], state[t,:,1], state[t,:,2]\n",
    "        \n",
    "        for i in range(start_pos.shape[0]):\n",
    "            hist[i]._verts3d = state[0:t,i,0],state[0:t,i,1],state[0:t,i,2]\n",
    "        \n",
    "        return None\n",
    "    \n",
    "    ani = animation.FuncAnimation(fig, animate, np.arange(1000),\n",
    "                              interval=1000*step, blit=False, init_func=init)\n",
    "    \n",
    "    if filename:\n",
    "        ani.save(filename + '.mp4', fps=30)\n",
    "    plt.show()"
   ]
  },
  {
   "cell_type": "code",
   "execution_count": 142,
   "metadata": {
    "collapsed": false
   },
   "outputs": [],
   "source": [
    "lorentz(start_pos=[[1,1,1],[30,30,30],[-30,-30,30],[20,20,20]],\n",
    "        update_function=lorentz_update,\n",
    "       filename='lorentz_1')"
   ]
  },
  {
   "cell_type": "code",
   "execution_count": 143,
   "metadata": {
    "collapsed": true
   },
   "outputs": [],
   "source": [
    "sigma = 50\n",
    "r = 50.96\n",
    "b = 4"
   ]
  },
  {
   "cell_type": "code",
   "execution_count": null,
   "metadata": {
    "collapsed": true
   },
   "outputs": [],
   "source": [
    "lorentz(start_pos=[[1,1,1],[30,30,30],[-30,-30,30],[20,20,20]],\n",
    "        update_function=lorentz_update,\n",
    "       filename='lorentz_2')"
   ]
  }
 ],
 "metadata": {
  "kernelspec": {
   "display_name": "Python 2",
   "language": "python",
   "name": "python2"
  },
  "language_info": {
   "codemirror_mode": {
    "name": "ipython",
    "version": 2
   },
   "file_extension": ".py",
   "mimetype": "text/x-python",
   "name": "python",
   "nbconvert_exporter": "python",
   "pygments_lexer": "ipython2",
   "version": "2.7.11"
  }
 },
 "nbformat": 4,
 "nbformat_minor": 0
}
